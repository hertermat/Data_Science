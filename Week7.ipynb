{
  "nbformat": 4,
  "nbformat_minor": 0,
  "metadata": {
    "colab": {
      "name": "Week7.ipynb",
      "provenance": [],
      "collapsed_sections": []
    },
    "kernelspec": {
      "name": "python3",
      "display_name": "Python 3"
    },
    "language_info": {
      "name": "python"
    }
  },
  "cells": [
    {
      "cell_type": "code",
      "metadata": {
        "id": "4u9-Vu4Uk28_"
      },
      "source": [
        "import numpy as np\n"
      ],
      "execution_count": null,
      "outputs": []
    },
    {
      "cell_type": "code",
      "metadata": {
        "id": "FAhPSYKnmw2M",
        "colab": {
          "base_uri": "https://localhost:8080/"
        },
        "outputId": "db394a6f-2fd1-4ba2-c114-87d67be7782e"
      },
      "source": [
        "bool(42), bool(0)"
      ],
      "execution_count": null,
      "outputs": [
        {
          "output_type": "execute_result",
          "data": {
            "text/plain": [
              "(True, False)"
            ]
          },
          "metadata": {},
          "execution_count": 8
        }
      ]
    },
    {
      "cell_type": "code",
      "metadata": {
        "colab": {
          "base_uri": "https://localhost:8080/"
        },
        "id": "iN_Rg9D6nHh7",
        "outputId": "fb812c1c-b84f-4835-c6b2-e070b4cde6b3"
      },
      "source": [
        "bool(42 and 0)"
      ],
      "execution_count": null,
      "outputs": [
        {
          "output_type": "execute_result",
          "data": {
            "text/plain": [
              "False"
            ]
          },
          "metadata": {},
          "execution_count": 9
        }
      ]
    },
    {
      "cell_type": "code",
      "metadata": {
        "colab": {
          "base_uri": "https://localhost:8080/"
        },
        "id": "9-lpRj0ZnJz_",
        "outputId": "1c49e010-858b-4924-a871-117ceb663387"
      },
      "source": [
        "bool(42 or 0)"
      ],
      "execution_count": null,
      "outputs": [
        {
          "output_type": "execute_result",
          "data": {
            "text/plain": [
              "True"
            ]
          },
          "metadata": {},
          "execution_count": 10
        }
      ]
    },
    {
      "cell_type": "code",
      "metadata": {
        "colab": {
          "base_uri": "https://localhost:8080/",
          "height": 35
        },
        "id": "ei6r2rconLIS",
        "outputId": "13ff8d08-216a-467c-87d9-9734aaf36ed9"
      },
      "source": [
        "bin(42)"
      ],
      "execution_count": null,
      "outputs": [
        {
          "output_type": "execute_result",
          "data": {
            "application/vnd.google.colaboratory.intrinsic+json": {
              "type": "string"
            },
            "text/plain": [
              "'0b101010'"
            ]
          },
          "metadata": {},
          "execution_count": 11
        }
      ]
    },
    {
      "cell_type": "code",
      "metadata": {
        "colab": {
          "base_uri": "https://localhost:8080/",
          "height": 35
        },
        "id": "DwvFg-IQnNHj",
        "outputId": "9af1095e-be41-4ea9-b0f2-90e47ec02502"
      },
      "source": [
        "bin(59)"
      ],
      "execution_count": null,
      "outputs": [
        {
          "output_type": "execute_result",
          "data": {
            "application/vnd.google.colaboratory.intrinsic+json": {
              "type": "string"
            },
            "text/plain": [
              "'0b111011'"
            ]
          },
          "metadata": {},
          "execution_count": 12
        }
      ]
    },
    {
      "cell_type": "code",
      "metadata": {
        "colab": {
          "base_uri": "https://localhost:8080/",
          "height": 35
        },
        "id": "itO706NGnOiq",
        "outputId": "95fc470f-27ec-4f2c-a8ba-5ef1afbab062"
      },
      "source": [
        "bin(42 & 59)"
      ],
      "execution_count": null,
      "outputs": [
        {
          "output_type": "execute_result",
          "data": {
            "application/vnd.google.colaboratory.intrinsic+json": {
              "type": "string"
            },
            "text/plain": [
              "'0b101010'"
            ]
          },
          "metadata": {},
          "execution_count": 13
        }
      ]
    },
    {
      "cell_type": "code",
      "metadata": {
        "colab": {
          "base_uri": "https://localhost:8080/",
          "height": 35
        },
        "id": "Vsrd0D6GnQ-l",
        "outputId": "5094ba00-410e-4da3-9aed-c114400c8f37"
      },
      "source": [
        "bin(42|59)"
      ],
      "execution_count": null,
      "outputs": [
        {
          "output_type": "execute_result",
          "data": {
            "application/vnd.google.colaboratory.intrinsic+json": {
              "type": "string"
            },
            "text/plain": [
              "'0b111011'"
            ]
          },
          "metadata": {},
          "execution_count": 14
        }
      ]
    },
    {
      "cell_type": "code",
      "metadata": {
        "colab": {
          "base_uri": "https://localhost:8080/"
        },
        "id": "W_AcqL7pnS_z",
        "outputId": "28e4c288-f3ce-4955-b1c8-bdbe20fe16e4"
      },
      "source": [
        "A = np.array([1,0,1,0,1,0], dtype=bool)\n",
        "B = np.array([1,1,1,0,1,1], dtype=bool)\n",
        "A|B"
      ],
      "execution_count": null,
      "outputs": [
        {
          "output_type": "execute_result",
          "data": {
            "text/plain": [
              "array([ True,  True,  True, False,  True,  True])"
            ]
          },
          "metadata": {},
          "execution_count": 15
        }
      ]
    },
    {
      "cell_type": "code",
      "metadata": {
        "colab": {
          "base_uri": "https://localhost:8080/"
        },
        "id": "-oxMemIgn5OJ",
        "outputId": "51e8f6e5-9367-44a1-bfa9-061f1a51846c"
      },
      "source": [
        "(A|B).astype(int)"
      ],
      "execution_count": null,
      "outputs": [
        {
          "output_type": "execute_result",
          "data": {
            "text/plain": [
              "array([1, 1, 1, 0, 1, 1])"
            ]
          },
          "metadata": {},
          "execution_count": 16
        }
      ]
    },
    {
      "cell_type": "code",
      "metadata": {
        "id": "SpxHpo1uoAeG"
      },
      "source": [
        "x = np.arange(10)"
      ],
      "execution_count": null,
      "outputs": []
    },
    {
      "cell_type": "code",
      "metadata": {
        "colab": {
          "base_uri": "https://localhost:8080/"
        },
        "id": "opbPvKL5oEoY",
        "outputId": "8bc15cf3-8741-4cd4-cdfb-37112bb2cd55"
      },
      "source": [
        "x"
      ],
      "execution_count": null,
      "outputs": [
        {
          "output_type": "execute_result",
          "data": {
            "text/plain": [
              "array([0, 1, 2, 3, 4, 5, 6, 7, 8, 9])"
            ]
          },
          "metadata": {},
          "execution_count": 18
        }
      ]
    },
    {
      "cell_type": "code",
      "metadata": {
        "colab": {
          "base_uri": "https://localhost:8080/"
        },
        "id": "IXaA8RdCoYjk",
        "outputId": "d42552b2-c9d7-4172-f590-740a37ae9a7e"
      },
      "source": [
        "x>4"
      ],
      "execution_count": null,
      "outputs": [
        {
          "output_type": "execute_result",
          "data": {
            "text/plain": [
              "array([False, False, False, False, False,  True,  True,  True,  True,\n",
              "        True])"
            ]
          },
          "metadata": {},
          "execution_count": 19
        }
      ]
    },
    {
      "cell_type": "code",
      "metadata": {
        "colab": {
          "base_uri": "https://localhost:8080/"
        },
        "id": "KXeq3-9kodP-",
        "outputId": "7e7c2183-7bbc-467a-ad61-fe530c1fe7c4"
      },
      "source": [
        "x<8"
      ],
      "execution_count": null,
      "outputs": [
        {
          "output_type": "execute_result",
          "data": {
            "text/plain": [
              "array([ True,  True,  True,  True,  True,  True,  True,  True, False,\n",
              "       False])"
            ]
          },
          "metadata": {},
          "execution_count": 20
        }
      ]
    },
    {
      "cell_type": "code",
      "metadata": {
        "colab": {
          "base_uri": "https://localhost:8080/"
        },
        "id": "2qnxtps9otOk",
        "outputId": "283de0b0-ebbe-4f82-cc64-5e0c625de2f1"
      },
      "source": [
        "(x>4)&(x<8)"
      ],
      "execution_count": null,
      "outputs": [
        {
          "output_type": "execute_result",
          "data": {
            "text/plain": [
              "array([False, False, False, False, False,  True,  True,  True, False,\n",
              "       False])"
            ]
          },
          "metadata": {},
          "execution_count": 21
        }
      ]
    },
    {
      "cell_type": "code",
      "metadata": {
        "id": "o1Z6VA9eoto7"
      },
      "source": [
        "# (x>4) AND (x<8) does not work"
      ],
      "execution_count": null,
      "outputs": []
    },
    {
      "cell_type": "code",
      "metadata": {
        "colab": {
          "base_uri": "https://localhost:8080/"
        },
        "id": "d4p4rwQlpUoI",
        "outputId": "e89c12b4-6a75-412f-eb9e-73bcc5fc01c7"
      },
      "source": [
        "rand = np.random.RandomState(42)\n",
        "\n",
        "x = rand.randint(100, size=10)\n",
        "print(x)\n"
      ],
      "execution_count": null,
      "outputs": [
        {
          "output_type": "stream",
          "name": "stdout",
          "text": [
            "[51 92 14 71 60 20 82 86 74 74]\n"
          ]
        }
      ]
    },
    {
      "cell_type": "code",
      "metadata": {
        "colab": {
          "base_uri": "https://localhost:8080/"
        },
        "id": "pPoInGffqPzE",
        "outputId": "4039d6db-545d-4af3-911d-4f424bd92954"
      },
      "source": [
        "[x[3],x[7],x[2]]"
      ],
      "execution_count": null,
      "outputs": [
        {
          "output_type": "execute_result",
          "data": {
            "text/plain": [
              "[71, 86, 14]"
            ]
          },
          "metadata": {},
          "execution_count": 24
        }
      ]
    },
    {
      "cell_type": "code",
      "metadata": {
        "colab": {
          "base_uri": "https://localhost:8080/"
        },
        "id": "weq8rimaqepG",
        "outputId": "1152623b-1661-422e-885e-6afe54e28507"
      },
      "source": [
        "ind = [3,7,4]\n",
        "x[ind]"
      ],
      "execution_count": null,
      "outputs": [
        {
          "output_type": "execute_result",
          "data": {
            "text/plain": [
              "array([71, 86, 60])"
            ]
          },
          "metadata": {},
          "execution_count": 25
        }
      ]
    },
    {
      "cell_type": "code",
      "metadata": {
        "colab": {
          "base_uri": "https://localhost:8080/"
        },
        "id": "7t-kTWnVqieK",
        "outputId": "39c1d1d4-50a7-4296-9db7-eb756730ef35"
      },
      "source": [
        "ind = np.array([[3,7],[4,5]])\n",
        "x[ind]"
      ],
      "execution_count": null,
      "outputs": [
        {
          "output_type": "execute_result",
          "data": {
            "text/plain": [
              "array([[71, 86],\n",
              "       [60, 20]])"
            ]
          },
          "metadata": {},
          "execution_count": 26
        }
      ]
    },
    {
      "cell_type": "code",
      "metadata": {
        "colab": {
          "base_uri": "https://localhost:8080/"
        },
        "id": "pjLt16umrHhv",
        "outputId": "9aaf3ca3-edd3-4228-beb5-3c1ffcc7526f"
      },
      "source": [
        "x = np.arange(12).reshape((3,4))\n",
        "x"
      ],
      "execution_count": null,
      "outputs": [
        {
          "output_type": "execute_result",
          "data": {
            "text/plain": [
              "array([[ 0,  1,  2,  3],\n",
              "       [ 4,  5,  6,  7],\n",
              "       [ 8,  9, 10, 11]])"
            ]
          },
          "metadata": {},
          "execution_count": 27
        }
      ]
    },
    {
      "cell_type": "code",
      "metadata": {
        "colab": {
          "base_uri": "https://localhost:8080/"
        },
        "id": "B2m5q9mtrOkl",
        "outputId": "b6592761-e367-471c-d0a0-f6812e4a21e3"
      },
      "source": [
        "row = np.array([0,1,2])\n",
        "col = np.array([2,1,3])\n",
        "x[row,col]"
      ],
      "execution_count": null,
      "outputs": [
        {
          "output_type": "execute_result",
          "data": {
            "text/plain": [
              "array([ 2,  5, 11])"
            ]
          },
          "metadata": {},
          "execution_count": 28
        }
      ]
    },
    {
      "cell_type": "code",
      "metadata": {
        "colab": {
          "base_uri": "https://localhost:8080/"
        },
        "id": "QFKBd6b1romw",
        "outputId": "166f7f5e-11e3-43fd-a7e3-b75efa4afd64"
      },
      "source": [
        "row[:,np.newaxis]"
      ],
      "execution_count": null,
      "outputs": [
        {
          "output_type": "execute_result",
          "data": {
            "text/plain": [
              "array([[0],\n",
              "       [1],\n",
              "       [2]])"
            ]
          },
          "metadata": {},
          "execution_count": 29
        }
      ]
    },
    {
      "cell_type": "code",
      "metadata": {
        "colab": {
          "base_uri": "https://localhost:8080/"
        },
        "id": "i09UZPtasW1Q",
        "outputId": "f72e5e14-bcdd-48a8-d524-c23bbd2505b6"
      },
      "source": [
        "col"
      ],
      "execution_count": null,
      "outputs": [
        {
          "output_type": "execute_result",
          "data": {
            "text/plain": [
              "array([2, 1, 3])"
            ]
          },
          "metadata": {},
          "execution_count": 30
        }
      ]
    },
    {
      "cell_type": "code",
      "metadata": {
        "colab": {
          "base_uri": "https://localhost:8080/"
        },
        "id": "JyjZQRU3uBUQ",
        "outputId": "15bc7d87-3d12-4801-a089-9f02a5fff3a2"
      },
      "source": [
        "row[:,np.newaxis]*col"
      ],
      "execution_count": null,
      "outputs": [
        {
          "output_type": "execute_result",
          "data": {
            "text/plain": [
              "array([[0, 0, 0],\n",
              "       [2, 1, 3],\n",
              "       [4, 2, 6]])"
            ]
          },
          "metadata": {},
          "execution_count": 31
        }
      ]
    },
    {
      "cell_type": "code",
      "metadata": {
        "colab": {
          "base_uri": "https://localhost:8080/"
        },
        "id": "kedpuPE-uWlh",
        "outputId": "b658b271-2f85-419b-d878-f5a1508bd2d3"
      },
      "source": [
        "x[2,[2,0,1]]"
      ],
      "execution_count": null,
      "outputs": [
        {
          "output_type": "execute_result",
          "data": {
            "text/plain": [
              "array([10,  8,  9])"
            ]
          },
          "metadata": {},
          "execution_count": 32
        }
      ]
    },
    {
      "cell_type": "code",
      "metadata": {
        "colab": {
          "base_uri": "https://localhost:8080/"
        },
        "id": "BvjqP5EeuaTF",
        "outputId": "304d755c-bc4f-472f-a301-63f5b50035d7"
      },
      "source": [
        "x[1:,[2,0,1]]"
      ],
      "execution_count": null,
      "outputs": [
        {
          "output_type": "execute_result",
          "data": {
            "text/plain": [
              "array([[ 6,  4,  5],\n",
              "       [10,  8,  9]])"
            ]
          },
          "metadata": {},
          "execution_count": 33
        }
      ]
    },
    {
      "cell_type": "code",
      "metadata": {
        "colab": {
          "base_uri": "https://localhost:8080/"
        },
        "id": "_w-QNXF6uijk",
        "outputId": "76e23136-f178-4657-e194-e5abfc1e144c"
      },
      "source": [
        "print(row)"
      ],
      "execution_count": null,
      "outputs": [
        {
          "output_type": "stream",
          "name": "stdout",
          "text": [
            "[0 1 2]\n"
          ]
        }
      ]
    },
    {
      "cell_type": "code",
      "metadata": {
        "colab": {
          "base_uri": "https://localhost:8080/"
        },
        "id": "FQmws2xku4ZR",
        "outputId": "0ae7bf3e-aaf4-4123-cff9-80eb06aab2c3"
      },
      "source": [
        "print(row[:,np.newaxis])"
      ],
      "execution_count": null,
      "outputs": [
        {
          "output_type": "stream",
          "name": "stdout",
          "text": [
            "[[0]\n",
            " [1]\n",
            " [2]]\n"
          ]
        }
      ]
    },
    {
      "cell_type": "code",
      "metadata": {
        "colab": {
          "base_uri": "https://localhost:8080/"
        },
        "id": "r--wS_WFu8CB",
        "outputId": "3110ee84-5a51-464a-94f9-717796141004"
      },
      "source": [
        "mask = np.array([1,0,1,0], dtype=bool)\n",
        "x[row[:,np.newaxis],mask]"
      ],
      "execution_count": null,
      "outputs": [
        {
          "output_type": "execute_result",
          "data": {
            "text/plain": [
              "array([[ 0,  2],\n",
              "       [ 4,  6],\n",
              "       [ 8, 10]])"
            ]
          },
          "metadata": {},
          "execution_count": 36
        }
      ]
    },
    {
      "cell_type": "code",
      "metadata": {
        "id": "PgNON0BRvTJj",
        "colab": {
          "base_uri": "https://localhost:8080/"
        },
        "outputId": "ebd85f74-0903-4598-ac78-30eeeb1412f4"
      },
      "source": [
        "mean=[0,0]\n",
        "# 1 and 5 are variants and 2 is the covariant\n",
        "cov=[[1,2],\n",
        "    [2,5]]\n",
        "x=rand.multivariate_normal(mean,cov,100)\n",
        "x.shape"
      ],
      "execution_count": null,
      "outputs": [
        {
          "output_type": "execute_result",
          "data": {
            "text/plain": [
              "(100, 2)"
            ]
          },
          "metadata": {},
          "execution_count": 37
        }
      ]
    },
    {
      "cell_type": "code",
      "metadata": {
        "colab": {
          "base_uri": "https://localhost:8080/"
        },
        "id": "IfznWy1NpoKK",
        "outputId": "bc9b4b49-9e4a-4c4d-9235-220e47628453"
      },
      "source": [
        "x"
      ],
      "execution_count": null,
      "outputs": [
        {
          "output_type": "execute_result",
          "data": {
            "text/plain": [
              "array([[-0.644508  , -0.46220608],\n",
              "       [ 0.7376352 ,  1.21236921],\n",
              "       [ 0.88151763,  1.12795177],\n",
              "       [ 2.04998983,  5.97778598],\n",
              "       [-0.1711348 , -2.06258746],\n",
              "       [ 0.67956979,  0.83705124],\n",
              "       [ 1.46860232,  1.22961093],\n",
              "       [ 0.35282131,  1.49875397],\n",
              "       [-2.51552505, -5.64629995],\n",
              "       [ 0.0843329 , -0.3543059 ],\n",
              "       [ 0.19199272,  1.48901291],\n",
              "       [-0.02566217, -0.74987887],\n",
              "       [ 1.00569227,  2.25287315],\n",
              "       [ 0.49514263,  1.18939673],\n",
              "       [ 0.0629872 ,  0.57349278],\n",
              "       [ 0.75093031,  2.99487004],\n",
              "       [-3.0236127 , -6.00766046],\n",
              "       [-0.53943081, -0.3478899 ],\n",
              "       [ 1.53817376,  1.99973464],\n",
              "       [-0.50886808, -1.81099656],\n",
              "       [ 1.58115602,  2.86410319],\n",
              "       [ 0.99305043,  2.54294059],\n",
              "       [-0.87753796, -1.15767204],\n",
              "       [-1.11518048, -1.87508012],\n",
              "       [ 0.4299908 ,  0.36324254],\n",
              "       [ 0.97253528,  3.53815717],\n",
              "       [ 0.32124996,  0.33137032],\n",
              "       [-0.74618649, -2.77366681],\n",
              "       [-0.88473953, -1.81495444],\n",
              "       [ 0.98783862,  2.30280401],\n",
              "       [-1.2033623 , -2.04402725],\n",
              "       [-1.51101746, -3.2818741 ],\n",
              "       [-2.76337717, -7.66760648],\n",
              "       [ 0.39158553,  0.87949228],\n",
              "       [ 0.91181024,  3.32968944],\n",
              "       [-0.84202629, -2.01226547],\n",
              "       [ 1.06586877,  0.95500019],\n",
              "       [ 0.44457363,  1.87828298],\n",
              "       [ 0.35936721,  0.40554974],\n",
              "       [-0.90649669, -0.93486441],\n",
              "       [-0.35790389, -0.52363012],\n",
              "       [-1.33461668, -3.03203218],\n",
              "       [ 0.02815138,  0.79654924],\n",
              "       [ 0.37785618,  0.51409383],\n",
              "       [-1.06505097, -2.88726779],\n",
              "       [ 2.32083881,  5.97698647],\n",
              "       [ 0.47605744,  0.83634485],\n",
              "       [-0.35490984, -1.03657119],\n",
              "       [ 0.57532883, -0.79997124],\n",
              "       [ 0.33399913,  2.32597923],\n",
              "       [ 0.6575612 , -0.22389518],\n",
              "       [ 1.3707365 ,  2.2348831 ],\n",
              "       [ 0.07099548, -0.29685467],\n",
              "       [ 0.6074983 ,  1.47089233],\n",
              "       [-0.34226126, -1.10666237],\n",
              "       [ 0.69226246,  1.21504303],\n",
              "       [-0.31112937, -0.75912097],\n",
              "       [-0.26888327, -1.89366817],\n",
              "       [ 0.42044896,  1.85189522],\n",
              "       [ 0.21115245,  2.00781492],\n",
              "       [-1.83106042, -2.91352836],\n",
              "       [ 0.7841796 ,  1.97640753],\n",
              "       [ 0.10259314,  1.24690575],\n",
              "       [-1.91100558, -3.66800923],\n",
              "       [ 0.13143756, -0.07833855],\n",
              "       [-0.1317045 , -1.64159158],\n",
              "       [-0.14547282, -1.34125678],\n",
              "       [-0.51172373, -1.40960773],\n",
              "       [ 0.69758045,  0.72563649],\n",
              "       [ 0.11677083,  0.88385162],\n",
              "       [-1.16586444, -2.24482237],\n",
              "       [-2.23176235, -2.63958101],\n",
              "       [ 0.37857234,  0.69112594],\n",
              "       [ 0.87475323,  3.400675  ],\n",
              "       [-0.86864365, -3.03568353],\n",
              "       [-1.03637857, -1.18469125],\n",
              "       [-0.53334959, -0.37039911],\n",
              "       [ 0.30414557, -0.5828419 ],\n",
              "       [-1.47656656, -2.13046298],\n",
              "       [-0.31332021, -1.7895623 ],\n",
              "       [ 1.12659538,  1.49627535],\n",
              "       [-1.19675798, -1.51633442],\n",
              "       [-0.75210154, -0.79770535],\n",
              "       [ 0.74577693,  1.95834451],\n",
              "       [ 1.56094354,  2.9330816 ],\n",
              "       [-0.72009966, -1.99780959],\n",
              "       [-1.32319163, -2.61218347],\n",
              "       [-2.56215914, -6.08410838],\n",
              "       [ 1.31256297,  3.13143269],\n",
              "       [ 0.51575983,  2.30284639],\n",
              "       [ 0.01374713, -0.11539344],\n",
              "       [-0.16863279,  0.39422355],\n",
              "       [ 0.12065651,  1.13236323],\n",
              "       [-0.83504984, -2.38632016],\n",
              "       [ 1.05185885,  1.98418223],\n",
              "       [-0.69144553, -1.56919875],\n",
              "       [-1.2567603 , -1.125898  ],\n",
              "       [ 0.09619333, -0.64335574],\n",
              "       [-0.99658689, -2.35038099],\n",
              "       [-1.21405259, -1.77693724]])"
            ]
          },
          "metadata": {},
          "execution_count": 38
        }
      ]
    },
    {
      "cell_type": "code",
      "metadata": {
        "colab": {
          "base_uri": "https://localhost:8080/",
          "height": 285
        },
        "id": "1sBAQGW1q5e9",
        "outputId": "55e0d105-4745-4a24-8055-2c94efb81a36"
      },
      "source": [
        "%matplotlib inline\n",
        "import matplotlib.pyplot as plt\n",
        "import seaborn; seaborn.set()\n",
        "plt.scatter(x[:,0],x[:,1])"
      ],
      "execution_count": null,
      "outputs": [
        {
          "output_type": "execute_result",
          "data": {
            "text/plain": [
              "<matplotlib.collections.PathCollection at 0x7f1660d69510>"
            ]
          },
          "metadata": {},
          "execution_count": 39
        },
        {
          "output_type": "display_data",
          "data": {
            "image/png": "[encoded data removed]",
            "text/plain": [
              "<Figure size 432x288 with 1 Axes>"
            ]
          },
          "metadata": {}
        }
      ]
    },
    {
      "cell_type": "code",
      "metadata": {
        "colab": {
          "base_uri": "https://localhost:8080/"
        },
        "id": "p-rFkP3erh7u",
        "outputId": "7fb64222-9113-473c-daa5-2dc43b6e5c7d"
      },
      "source": [
        "x.shape[0]"
      ],
      "execution_count": null,
      "outputs": [
        {
          "output_type": "execute_result",
          "data": {
            "text/plain": [
              "100"
            ]
          },
          "metadata": {},
          "execution_count": 40
        }
      ]
    },
    {
      "cell_type": "code",
      "metadata": {
        "colab": {
          "base_uri": "https://localhost:8080/"
        },
        "id": "ZkzPmn9urk5B",
        "outputId": "31b5ae48-c4e9-4842-bc37-c65e051725f7"
      },
      "source": [
        "indices = np.random.choice(x.shape[0],20, replace = False)\n",
        "indices"
      ],
      "execution_count": null,
      "outputs": [
        {
          "output_type": "execute_result",
          "data": {
            "text/plain": [
              "array([28, 45, 25, 67, 10, 16,  0, 49, 38, 44, 15,  2, 64, 18, 98, 69, 62,\n",
              "       87, 47, 65])"
            ]
          },
          "metadata": {},
          "execution_count": 41
        }
      ]
    },
    {
      "cell_type": "code",
      "metadata": {
        "colab": {
          "base_uri": "https://localhost:8080/"
        },
        "id": "Xu-mJT-Rrr5P",
        "outputId": "27c7b08f-4395-415b-d8ca-8de71469984a"
      },
      "source": [
        "selection = x[indices]\n",
        "selection.shape"
      ],
      "execution_count": null,
      "outputs": [
        {
          "output_type": "execute_result",
          "data": {
            "text/plain": [
              "(20, 2)"
            ]
          },
          "metadata": {},
          "execution_count": 42
        }
      ]
    },
    {
      "cell_type": "code",
      "metadata": {
        "colab": {
          "base_uri": "https://localhost:8080/"
        },
        "id": "l06EJOhmsKer",
        "outputId": "a81f4ac1-4cf2-4ef9-8b45-609894a50279"
      },
      "source": [
        "selection"
      ],
      "execution_count": null,
      "outputs": [
        {
          "output_type": "execute_result",
          "data": {
            "text/plain": [
              "array([[-0.88473953, -1.81495444],\n",
              "       [ 2.32083881,  5.97698647],\n",
              "       [ 0.97253528,  3.53815717],\n",
              "       [-0.51172373, -1.40960773],\n",
              "       [ 0.19199272,  1.48901291],\n",
              "       [-3.0236127 , -6.00766046],\n",
              "       [-0.644508  , -0.46220608],\n",
              "       [ 0.33399913,  2.32597923],\n",
              "       [ 0.35936721,  0.40554974],\n",
              "       [-1.06505097, -2.88726779],\n",
              "       [ 0.75093031,  2.99487004],\n",
              "       [ 0.88151763,  1.12795177],\n",
              "       [ 0.13143756, -0.07833855],\n",
              "       [ 1.53817376,  1.99973464],\n",
              "       [-0.99658689, -2.35038099],\n",
              "       [ 0.11677083,  0.88385162],\n",
              "       [ 0.10259314,  1.24690575],\n",
              "       [-2.56215914, -6.08410838],\n",
              "       [-0.35490984, -1.03657119],\n",
              "       [-0.1317045 , -1.64159158]])"
            ]
          },
          "metadata": {},
          "execution_count": 43
        }
      ]
    },
    {
      "cell_type": "code",
      "metadata": {
        "colab": {
          "base_uri": "https://localhost:8080/",
          "height": 285
        },
        "id": "rzrhrLnDsdUT",
        "outputId": "9519a1ae-16f5-494e-872c-c36e3140c960"
      },
      "source": [
        "plt.scatter(x[:,0],x[:,1], alpha = 0.3)\n",
        "plt.scatter(selection[:,0],selection[:,1],\n",
        "            facecolor=\"green\",s=200)\n"
      ],
      "execution_count": null,
      "outputs": [
        {
          "output_type": "execute_result",
          "data": {
            "text/plain": [
              "<matplotlib.collections.PathCollection at 0x7f16602b2190>"
            ]
          },
          "metadata": {},
          "execution_count": 45
        },
        {
          "output_type": "display_data",
          "data": {
            "image/png": "[encoded data removed]",
            "text/plain": [
              "<Figure size 432x288 with 1 Axes>"
            ]
          },
          "metadata": {}
        }
      ]
    },
    {
      "cell_type": "code",
      "metadata": {
        "colab": {
          "base_uri": "https://localhost:8080/"
        },
        "id": "z7jz-V8asmaC",
        "outputId": "f9408b62-25e2-42e2-e3cb-6eabcad22ffb"
      },
      "source": [
        "x = np.arange(10)\n",
        "print(x)"
      ],
      "execution_count": null,
      "outputs": [
        {
          "output_type": "stream",
          "name": "stdout",
          "text": [
            "[0 1 2 3 4 5 6 7 8 9]\n"
          ]
        }
      ]
    },
    {
      "cell_type": "code",
      "metadata": {
        "colab": {
          "base_uri": "https://localhost:8080/"
        },
        "id": "BnUKOgDstJ9o",
        "outputId": "65b6eed4-b6bb-4f07-b5b9-7a7a70625594"
      },
      "source": [
        "i = np.array([2,1,8,4])\n",
        "x[i] = 99\n",
        "print(x)"
      ],
      "execution_count": null,
      "outputs": [
        {
          "output_type": "stream",
          "name": "stdout",
          "text": [
            "[ 0 99 99  3 99  5  6  7 99  9]\n"
          ]
        }
      ]
    },
    {
      "cell_type": "code",
      "metadata": {
        "id": "PzBRodFKtVbL"
      },
      "source": [
        "x = np.zeros(10)"
      ],
      "execution_count": null,
      "outputs": []
    },
    {
      "cell_type": "code",
      "metadata": {
        "colab": {
          "base_uri": "https://localhost:8080/"
        },
        "id": "JLRdo6JMutgo",
        "outputId": "b016ee3a-61ef-43e7-e996-ec4bcdfe57c2"
      },
      "source": [
        "x[[0,0]]=[4,6]\n",
        "x"
      ],
      "execution_count": null,
      "outputs": [
        {
          "output_type": "execute_result",
          "data": {
            "text/plain": [
              "array([6., 0., 0., 0., 0., 0., 0., 0., 0., 0.])"
            ]
          },
          "metadata": {},
          "execution_count": 49
        }
      ]
    },
    {
      "cell_type": "code",
      "metadata": {
        "colab": {
          "base_uri": "https://localhost:8080/"
        },
        "id": "z3aZ15Ysu1aF",
        "outputId": "00cc8186-bfdb-4337-a961-bff195d6e047"
      },
      "source": [
        "i = [2,3,3,4,4,4]\n",
        "x[i] += 1\n",
        "x"
      ],
      "execution_count": null,
      "outputs": [
        {
          "output_type": "execute_result",
          "data": {
            "text/plain": [
              "array([6., 2., 1., 1., 1., 0., 0., 0., 0., 0.])"
            ]
          },
          "metadata": {},
          "execution_count": 52
        }
      ]
    },
    {
      "cell_type": "code",
      "metadata": {
        "colab": {
          "base_uri": "https://localhost:8080/"
        },
        "id": "Qx6zb3MHvs_n",
        "outputId": "b7546da6-beda-4dda-e79a-8433bbb524e0"
      },
      "source": [
        "x = np.zeros(10)\n",
        "np.add.at(x,i,1)\n",
        "print(x)"
      ],
      "execution_count": null,
      "outputs": [
        {
          "output_type": "stream",
          "name": "stdout",
          "text": [
            "[0. 0. 1. 2. 3. 0. 0. 0. 0. 0.]\n"
          ]
        }
      ]
    },
    {
      "cell_type": "code",
      "metadata": {
        "colab": {
          "base_uri": "https://localhost:8080/"
        },
        "id": "ImnE_4t5xc-A",
        "outputId": "a528eb49-9234-4c54-87df-3219982d7ede"
      },
      "source": [
        "np.random.seed(42)\n",
        "x = np.random.randn(100)\n",
        "x"
      ],
      "execution_count": null,
      "outputs": [
        {
          "output_type": "execute_result",
          "data": {
            "text/plain": [
              "array([ 0.49671415, -0.1382643 ,  0.64768854,  1.52302986, -0.23415337,\n",
              "       -0.23413696,  1.57921282,  0.76743473, -0.46947439,  0.54256004,\n",
              "       -0.46341769, -0.46572975,  0.24196227, -1.91328024, -1.72491783,\n",
              "       -0.56228753, -1.01283112,  0.31424733, -0.90802408, -1.4123037 ,\n",
              "        1.46564877, -0.2257763 ,  0.0675282 , -1.42474819, -0.54438272,\n",
              "        0.11092259, -1.15099358,  0.37569802, -0.60063869, -0.29169375,\n",
              "       -0.60170661,  1.85227818, -0.01349722, -1.05771093,  0.82254491,\n",
              "       -1.22084365,  0.2088636 , -1.95967012, -1.32818605,  0.19686124,\n",
              "        0.73846658,  0.17136828, -0.11564828, -0.3011037 , -1.47852199,\n",
              "       -0.71984421, -0.46063877,  1.05712223,  0.34361829, -1.76304016,\n",
              "        0.32408397, -0.38508228, -0.676922  ,  0.61167629,  1.03099952,\n",
              "        0.93128012, -0.83921752, -0.30921238,  0.33126343,  0.97554513,\n",
              "       -0.47917424, -0.18565898, -1.10633497, -1.19620662,  0.81252582,\n",
              "        1.35624003, -0.07201012,  1.0035329 ,  0.36163603, -0.64511975,\n",
              "        0.36139561,  1.53803657, -0.03582604,  1.56464366, -2.6197451 ,\n",
              "        0.8219025 ,  0.08704707, -0.29900735,  0.09176078, -1.98756891,\n",
              "       -0.21967189,  0.35711257,  1.47789404, -0.51827022, -0.8084936 ,\n",
              "       -0.50175704,  0.91540212,  0.32875111, -0.5297602 ,  0.51326743,\n",
              "        0.09707755,  0.96864499, -0.70205309, -0.32766215, -0.39210815,\n",
              "       -1.46351495,  0.29612028,  0.26105527,  0.00511346, -0.23458713])"
            ]
          },
          "metadata": {},
          "execution_count": 58
        }
      ]
    },
    {
      "cell_type": "code",
      "metadata": {
        "colab": {
          "base_uri": "https://localhost:8080/"
        },
        "id": "90vFul6LyNkg",
        "outputId": "4260d8a1-26f5-4f75-c778-04bfce1731e7"
      },
      "source": [
        "bins= np.linspace(-5,5,20)\n",
        "counts = np.zeros_like(bins)\n",
        "bins"
      ],
      "execution_count": null,
      "outputs": [
        {
          "output_type": "execute_result",
          "data": {
            "text/plain": [
              "array([-5.        , -4.47368421, -3.94736842, -3.42105263, -2.89473684,\n",
              "       -2.36842105, -1.84210526, -1.31578947, -0.78947368, -0.26315789,\n",
              "        0.26315789,  0.78947368,  1.31578947,  1.84210526,  2.36842105,\n",
              "        2.89473684,  3.42105263,  3.94736842,  4.47368421,  5.        ])"
            ]
          },
          "metadata": {},
          "execution_count": 60
        }
      ]
    },
    {
      "cell_type": "code",
      "metadata": {
        "colab": {
          "base_uri": "https://localhost:8080/"
        },
        "id": "PW_vZwMmyS_d",
        "outputId": "b503b1cc-8da5-49fc-bb29-5cd9d2d4a606"
      },
      "source": [
        "i = np.searchsorted(bins,x)\n",
        "i"
      ],
      "execution_count": null,
      "outputs": [
        {
          "output_type": "execute_result",
          "data": {
            "text/plain": [
              "array([11, 10, 11, 13, 10, 10, 13, 11,  9, 11,  9,  9, 10,  6,  7,  9,  8,\n",
              "       11,  8,  7, 13, 10, 10,  7,  9, 10,  8, 11,  9,  9,  9, 14, 10,  8,\n",
              "       12,  8, 10,  6,  7, 10, 11, 10, 10,  9,  7,  9,  9, 12, 11,  7, 11,\n",
              "        9,  9, 11, 12, 12,  8,  9, 11, 12,  9, 10,  8,  8, 12, 13, 10, 12,\n",
              "       11,  9, 11, 13, 10, 13,  5, 12, 10,  9, 10,  6, 10, 11, 13,  9,  8,\n",
              "        9, 12, 11,  9, 11, 10, 12,  9,  9,  9,  7, 11, 10, 10, 10])"
            ]
          },
          "metadata": {},
          "execution_count": 61
        }
      ]
    },
    {
      "cell_type": "code",
      "metadata": {
        "id": "gVd3JSz_yWlF"
      },
      "source": [
        "np.add.at(counts,i,1)"
      ],
      "execution_count": null,
      "outputs": []
    },
    {
      "cell_type": "code",
      "metadata": {
        "colab": {
          "base_uri": "https://localhost:8080/",
          "height": 338
        },
        "id": "DBUqEVDdyZsE",
        "outputId": "0f26196e-7724-419e-db06-a09b5f951ed8"
      },
      "source": [
        "plt.plot(bins,counts,linestyle='steps')"
      ],
      "execution_count": null,
      "outputs": [
        {
          "output_type": "stream",
          "name": "stderr",
          "text": [
            "/usr/local/lib/python3.7/dist-packages/ipykernel_launcher.py:1: MatplotlibDeprecationWarning: Passing the drawstyle with the linestyle as a single string is deprecated since Matplotlib 3.1 and support will be removed in 3.3; please pass the drawstyle separately using the drawstyle keyword argument to Line2D or set_drawstyle() method (or ds/set_ds()).\n",
            "  \"\"\"Entry point for launching an IPython kernel.\n"
          ]
        },
        {
          "output_type": "execute_result",
          "data": {
            "text/plain": [
              "[<matplotlib.lines.Line2D at 0x7f166015fc10>]"
            ]
          },
          "metadata": {},
          "execution_count": 64
        },
        {
          "output_type": "display_data",
          "data": {
            "image/png": "[encoded data removed]",
            "text/plain": [
              "<Figure size 432x288 with 1 Axes>"
            ]
          },
          "metadata": {}
        }
      ]
    },
    {
      "cell_type": "code",
      "metadata": {
        "colab": {
          "base_uri": "https://localhost:8080/",
          "height": 268
        },
        "id": "qpk69X0pzjxU",
        "outputId": "3d395ec4-79ca-4989-bff7-822603b2d740"
      },
      "source": [
        "plt.hist(x,bins,histtype='step');"
      ],
      "execution_count": null,
      "outputs": [
        {
          "output_type": "display_data",
          "data": {
            "image/png": "[encoded data removed]",
            "text/plain": [
              "<Figure size 432x288 with 1 Axes>"
            ]
          },
          "metadata": {}
        }
      ]
    },
    {
      "cell_type": "code",
      "metadata": {
        "colab": {
          "base_uri": "https://localhost:8080/"
        },
        "id": "lbSveoZC2P1y",
        "outputId": "aa0a9329-0c43-492e-c14b-ce6da1cfb645"
      },
      "source": [
        "%timeit counts, edges = np.histogram(x,bins)"
      ],
      "execution_count": null,
      "outputs": [
        {
          "output_type": "stream",
          "name": "stdout",
          "text": [
            "The slowest run took 6.53 times longer than the fastest. This could mean that an intermediate result is being cached.\n",
            "10000 loops, best of 5: 28.1 µs per loop\n"
          ]
        }
      ]
    },
    {
      "cell_type": "code",
      "metadata": {
        "colab": {
          "base_uri": "https://localhost:8080/"
        },
        "id": "0koCYddt2i6_",
        "outputId": "6ed4c49b-f9f4-4147-caa8-bcef55159fef"
      },
      "source": [
        "%timeit np.add.at(counts, np.searchsorted(bins,x),1)"
      ],
      "execution_count": null,
      "outputs": [
        {
          "output_type": "stream",
          "name": "stdout",
          "text": [
            "The slowest run took 30.49 times longer than the fastest. This could mean that an intermediate result is being cached.\n",
            "100000 loops, best of 5: 13.5 µs per loop\n"
          ]
        }
      ]
    },
    {
      "cell_type": "code",
      "metadata": {
        "id": "bPp2I-sj39UL"
      },
      "source": [
        "def selection_sort(x):\n",
        "  for i in range(len(x)):\n",
        "    swap = i + np.argmin(x[i:])\n",
        "    (x[i], x[swap]) = (x[swap], x[i])\n",
        "  return x"
      ],
      "execution_count": null,
      "outputs": []
    },
    {
      "cell_type": "code",
      "metadata": {
        "colab": {
          "base_uri": "https://localhost:8080/"
        },
        "id": "XOR0QjOdBRwl",
        "outputId": "70e068d6-d629-4503-8e86-86fff25f12d3"
      },
      "source": [
        "np.array([2,1,4,3,5])"
      ],
      "execution_count": null,
      "outputs": [
        {
          "output_type": "execute_result",
          "data": {
            "text/plain": [
              "array([2, 1, 4, 3, 5])"
            ]
          },
          "metadata": {},
          "execution_count": 75
        }
      ]
    },
    {
      "cell_type": "code",
      "metadata": {
        "id": "f78NHtsFBSsJ"
      },
      "source": [
        "def bogosort(x):\n",
        "  while np.any(x[:-1]>x[1:]):\n",
        "    np.random.shuffle(x)\n",
        "  return(x)"
      ],
      "execution_count": null,
      "outputs": []
    },
    {
      "cell_type": "code",
      "metadata": {
        "colab": {
          "base_uri": "https://localhost:8080/"
        },
        "id": "XzYtTvneBUeo",
        "outputId": "52e6916a-4058-4098-d60d-d25449b65a11"
      },
      "source": [
        "x = np.array([2,1,4,3,5])\n",
        "np.sort(x)\n"
      ],
      "execution_count": null,
      "outputs": [
        {
          "output_type": "execute_result",
          "data": {
            "text/plain": [
              "array([1, 2, 3, 4, 5])"
            ]
          },
          "metadata": {},
          "execution_count": 86
        }
      ]
    },
    {
      "cell_type": "code",
      "metadata": {
        "colab": {
          "base_uri": "https://localhost:8080/"
        },
        "id": "ZdNBq0LpBYKe",
        "outputId": "47227c46-78f3-4a80-831e-9f99dd68040f"
      },
      "source": [
        "y1=x[:1]\n",
        "y2=x[1:]"
      ],
      "execution_count": null,
      "outputs": [
        {
          "output_type": "execute_result",
          "data": {
            "text/plain": [
              "array([0.49671415])"
            ]
          },
          "metadata": {},
          "execution_count": 83
        }
      ]
    },
    {
      "cell_type": "code",
      "metadata": {
        "colab": {
          "base_uri": "https://localhost:8080/"
        },
        "id": "NddHbrgnBYnn",
        "outputId": "9a0544f8-d7c1-43b3-a050-9f96482d7c02"
      },
      "source": [
        "y1"
      ],
      "execution_count": null,
      "outputs": [
        {
          "output_type": "execute_result",
          "data": {
            "text/plain": [
              "array([2])"
            ]
          },
          "metadata": {},
          "execution_count": 87
        }
      ]
    },
    {
      "cell_type": "code",
      "metadata": {
        "colab": {
          "base_uri": "https://localhost:8080/"
        },
        "id": "pksVhJSeBZMs",
        "outputId": "edf69e91-aad0-47b0-82ff-3da303d4828c"
      },
      "source": [
        "y2"
      ],
      "execution_count": null,
      "outputs": [
        {
          "output_type": "execute_result",
          "data": {
            "text/plain": [
              "array([1, 4, 3, 5])"
            ]
          },
          "metadata": {},
          "execution_count": 88
        }
      ]
    },
    {
      "cell_type": "code",
      "metadata": {
        "colab": {
          "base_uri": "https://localhost:8080/"
        },
        "id": "Jm8atZ4CCEJv",
        "outputId": "6c8dfc37-9ed5-48b2-9c4d-3326d62cfa0c"
      },
      "source": [
        "x = np.array([2,1,4,3,5])\n",
        "i = np.argsort(x)\n",
        "i"
      ],
      "execution_count": null,
      "outputs": [
        {
          "output_type": "execute_result",
          "data": {
            "text/plain": [
              "array([1, 0, 3, 2, 4])"
            ]
          },
          "metadata": {},
          "execution_count": 89
        }
      ]
    },
    {
      "cell_type": "code",
      "metadata": {
        "colab": {
          "base_uri": "https://localhost:8080/"
        },
        "id": "BucAX0dfCwOA",
        "outputId": "8e72b732-3094-449d-d8dd-e0137333b40e"
      },
      "source": [
        "my_rand = np.random.RandomState(42)\n",
        "x = my_rand.randint(0,10,(4,6))\n",
        "x"
      ],
      "execution_count": null,
      "outputs": [
        {
          "output_type": "execute_result",
          "data": {
            "text/plain": [
              "array([[6, 3, 7, 4, 6, 9],\n",
              "       [2, 6, 7, 4, 3, 7],\n",
              "       [7, 2, 5, 4, 1, 7],\n",
              "       [5, 1, 4, 0, 9, 5]])"
            ]
          },
          "metadata": {},
          "execution_count": 90
        }
      ]
    },
    {
      "cell_type": "code",
      "metadata": {
        "colab": {
          "base_uri": "https://localhost:8080/"
        },
        "id": "fhLF4sczC4ZL",
        "outputId": "8b5aaefa-51a5-4c0e-9932-530d3302ee96"
      },
      "source": [
        "np.sort(x, axis=0)"
      ],
      "execution_count": null,
      "outputs": [
        {
          "output_type": "execute_result",
          "data": {
            "text/plain": [
              "array([[2, 1, 4, 0, 1, 5],\n",
              "       [5, 2, 5, 4, 3, 7],\n",
              "       [6, 3, 7, 4, 6, 7],\n",
              "       [7, 6, 7, 4, 9, 9]])"
            ]
          },
          "metadata": {},
          "execution_count": 91
        }
      ]
    },
    {
      "cell_type": "code",
      "metadata": {
        "colab": {
          "base_uri": "https://localhost:8080/"
        },
        "id": "_OPIKAyiC6y7",
        "outputId": "dc43b91b-9a70-43a3-eb4c-2d6a9dbff8bf"
      },
      "source": [
        "np.sort(x, axis=1)"
      ],
      "execution_count": null,
      "outputs": [
        {
          "output_type": "execute_result",
          "data": {
            "text/plain": [
              "array([[3, 4, 6, 6, 7, 9],\n",
              "       [2, 3, 4, 6, 7, 7],\n",
              "       [1, 2, 4, 5, 7, 7],\n",
              "       [0, 1, 4, 5, 5, 9]])"
            ]
          },
          "metadata": {},
          "execution_count": 92
        }
      ]
    },
    {
      "cell_type": "code",
      "metadata": {
        "colab": {
          "base_uri": "https://localhost:8080/"
        },
        "id": "7iBXDhcFC8fS",
        "outputId": "93ff828e-f37a-48fd-d324-8094d562d75a"
      },
      "source": [
        "x = np.array([7,2,3,1,6,5,4])\n",
        "np.partition(x,3)"
      ],
      "execution_count": null,
      "outputs": [
        {
          "output_type": "execute_result",
          "data": {
            "text/plain": [
              "array([2, 1, 3, 4, 6, 5, 7])"
            ]
          },
          "metadata": {},
          "execution_count": 93
        }
      ]
    },
    {
      "cell_type": "code",
      "metadata": {
        "colab": {
          "base_uri": "https://localhost:8080/",
          "height": 330
        },
        "id": "Y-iS-afqDV58",
        "outputId": "2299d4b3-5b3a-4a24-f1d1-b5b187c182eb"
      },
      "source": [
        "np.partition(x, 2, axis=1)"
      ],
      "execution_count": null,
      "outputs": [
        {
          "output_type": "error",
          "ename": "AxisError",
          "evalue": "ignored",
          "traceback": [
            "\u001b[0;31m---------------------------------------------------------------------------\u001b[0m",
            "\u001b[0;31mAxisError\u001b[0m                                 Traceback (most recent call last)",
            "\u001b[0;32m<ipython-input-95-016498b05d52>\u001b[0m in \u001b[0;36m<module>\u001b[0;34m()\u001b[0m\n\u001b[0;32m----> 1\u001b[0;31m \u001b[0mnp\u001b[0m\u001b[0;34m.\u001b[0m\u001b[0mpartition\u001b[0m\u001b[0;34m(\u001b[0m\u001b[0mx\u001b[0m\u001b[0;34m,\u001b[0m \u001b[0;36m2\u001b[0m\u001b[0;34m,\u001b[0m \u001b[0maxis\u001b[0m\u001b[0;34m=\u001b[0m\u001b[0;36m1\u001b[0m\u001b[0;34m)\u001b[0m\u001b[0;34m\u001b[0m\u001b[0;34m\u001b[0m\u001b[0m\n\u001b[0m",
            "\u001b[0;32m<__array_function__ internals>\u001b[0m in \u001b[0;36mpartition\u001b[0;34m(*args, **kwargs)\u001b[0m\n",
            "\u001b[0;32m/usr/local/lib/python3.7/dist-packages/numpy/core/fromnumeric.py\u001b[0m in \u001b[0;36mpartition\u001b[0;34m(a, kth, axis, kind, order)\u001b[0m\n\u001b[1;32m    746\u001b[0m     \u001b[0;32melse\u001b[0m\u001b[0;34m:\u001b[0m\u001b[0;34m\u001b[0m\u001b[0;34m\u001b[0m\u001b[0m\n\u001b[1;32m    747\u001b[0m         \u001b[0ma\u001b[0m \u001b[0;34m=\u001b[0m \u001b[0masanyarray\u001b[0m\u001b[0;34m(\u001b[0m\u001b[0ma\u001b[0m\u001b[0;34m)\u001b[0m\u001b[0;34m.\u001b[0m\u001b[0mcopy\u001b[0m\u001b[0;34m(\u001b[0m\u001b[0morder\u001b[0m\u001b[0;34m=\u001b[0m\u001b[0;34m\"K\"\u001b[0m\u001b[0;34m)\u001b[0m\u001b[0;34m\u001b[0m\u001b[0;34m\u001b[0m\u001b[0m\n\u001b[0;32m--> 748\u001b[0;31m     \u001b[0ma\u001b[0m\u001b[0;34m.\u001b[0m\u001b[0mpartition\u001b[0m\u001b[0;34m(\u001b[0m\u001b[0mkth\u001b[0m\u001b[0;34m,\u001b[0m \u001b[0maxis\u001b[0m\u001b[0;34m=\u001b[0m\u001b[0maxis\u001b[0m\u001b[0;34m,\u001b[0m \u001b[0mkind\u001b[0m\u001b[0;34m=\u001b[0m\u001b[0mkind\u001b[0m\u001b[0;34m,\u001b[0m \u001b[0morder\u001b[0m\u001b[0;34m=\u001b[0m\u001b[0morder\u001b[0m\u001b[0;34m)\u001b[0m\u001b[0;34m\u001b[0m\u001b[0;34m\u001b[0m\u001b[0m\n\u001b[0m\u001b[1;32m    749\u001b[0m     \u001b[0;32mreturn\u001b[0m \u001b[0ma\u001b[0m\u001b[0;34m\u001b[0m\u001b[0;34m\u001b[0m\u001b[0m\n\u001b[1;32m    750\u001b[0m \u001b[0;34m\u001b[0m\u001b[0m\n",
            "\u001b[0;31mAxisError\u001b[0m: axis 1 is out of bounds for array of dimension 1"
          ]
        }
      ]
    },
    {
      "cell_type": "code",
      "metadata": {
        "id": "z1we4g1EDeBf"
      },
      "source": [
        "x = rand.rand(10,2)"
      ],
      "execution_count": null,
      "outputs": []
    },
    {
      "cell_type": "code",
      "metadata": {
        "id": "iTQpSPPPD_Vy"
      },
      "source": [
        "name = ['Alice','Bob','Cathy','Doug']\n",
        "age = [25,45,37,19]\n",
        "weight = [55.0,85.5,68.0,61.5]"
      ],
      "execution_count": null,
      "outputs": []
    },
    {
      "cell_type": "code",
      "metadata": {
        "id": "NdASM5HYEBfC"
      },
      "source": [
        "x = np.zeros(4, dtype=int)"
      ],
      "execution_count": null,
      "outputs": []
    },
    {
      "cell_type": "code",
      "metadata": {
        "colab": {
          "base_uri": "https://localhost:8080/"
        },
        "id": "iXwJ4iFJGInx",
        "outputId": "f3eed841-eb5b-418c-da87-6a72905b94e7"
      },
      "source": [
        "data = np.zeros(4, dtype={'names':('name', 'age', 'weight'),\n",
        "  'formats':('U10', 'i4', 'f8')})\n",
        "print(data.dtype)"
      ],
      "execution_count": null,
      "outputs": [
        {
          "output_type": "stream",
          "name": "stdout",
          "text": [
            "[('name', '<U10'), ('age', '<i4'), ('weight', '<f8')]\n"
          ]
        }
      ]
    },
    {
      "cell_type": "code",
      "metadata": {
        "colab": {
          "base_uri": "https://localhost:8080/"
        },
        "id": "AFo02nmjGk7q",
        "outputId": "415e79ef-6dd9-427d-c3a6-94c0eac67a66"
      },
      "source": [
        "data['name'] = name\n",
        "data['age'] = age\n",
        "data['weight'] = weight\n",
        "print(data)\n"
      ],
      "execution_count": null,
      "outputs": [
        {
          "output_type": "stream",
          "name": "stdout",
          "text": [
            "[('Alice', 25, 55. ) ('Bob', 45, 85.5) ('Cathy', 37, 68. )\n",
            " ('Doug', 19, 61.5)]\n"
          ]
        }
      ]
    },
    {
      "cell_type": "code",
      "metadata": {
        "colab": {
          "base_uri": "https://localhost:8080/"
        },
        "id": "W9SCYZK0GstW",
        "outputId": "e6a42ad9-1fb5-4fbc-8c3b-99e3c886d03b"
      },
      "source": [
        "data['name']"
      ],
      "execution_count": null,
      "outputs": [
        {
          "output_type": "execute_result",
          "data": {
            "text/plain": [
              "array(['Alice', 'Bob', 'Cathy', 'Doug'], dtype='<U10')"
            ]
          },
          "metadata": {},
          "execution_count": 106
        }
      ]
    },
    {
      "cell_type": "code",
      "metadata": {
        "colab": {
          "base_uri": "https://localhost:8080/"
        },
        "id": "NTJtPt7CGwuW",
        "outputId": "448640fb-64ac-4f17-e70c-dafb8f4aad22"
      },
      "source": [
        "data[0]"
      ],
      "execution_count": null,
      "outputs": [
        {
          "output_type": "execute_result",
          "data": {
            "text/plain": [
              "('Alice', 25, 55.)"
            ]
          },
          "metadata": {},
          "execution_count": 107
        }
      ]
    },
    {
      "cell_type": "code",
      "metadata": {
        "colab": {
          "base_uri": "https://localhost:8080/",
          "height": 35
        },
        "id": "J5F5haq7GxrX",
        "outputId": "5bab65cd-fa5f-4ffc-c30f-a8fd62878b64"
      },
      "source": [
        "data[-1]['name']"
      ],
      "execution_count": null,
      "outputs": [
        {
          "output_type": "execute_result",
          "data": {
            "application/vnd.google.colaboratory.intrinsic+json": {
              "type": "string"
            },
            "text/plain": [
              "'Doug'"
            ]
          },
          "metadata": {},
          "execution_count": 108
        }
      ]
    },
    {
      "cell_type": "code",
      "metadata": {
        "colab": {
          "base_uri": "https://localhost:8080/"
        },
        "id": "xYCysKWZHTWK",
        "outputId": "cde210af-f73e-44cd-a0f3-d079dde264f5"
      },
      "source": [
        "data[data['age'] < 30]['name']\n"
      ],
      "execution_count": null,
      "outputs": [
        {
          "output_type": "execute_result",
          "data": {
            "text/plain": [
              "array(['Alice', 'Doug'], dtype='<U10')"
            ]
          },
          "metadata": {},
          "execution_count": 109
        }
      ]
    },
    {
      "cell_type": "code",
      "metadata": {
        "colab": {
          "base_uri": "https://localhost:8080/"
        },
        "id": "eQGcDeS_HU1F",
        "outputId": "00692d24-0ea3-4966-9619-f042e7130ad6"
      },
      "source": [
        "np.dtype({'names':('name', 'age', 'weight'),\n",
        " 'formats':('U10', 'i4', 'f8')})"
      ],
      "execution_count": null,
      "outputs": [
        {
          "output_type": "execute_result",
          "data": {
            "text/plain": [
              "dtype([('name', '<U10'), ('age', '<i4'), ('weight', '<f8')])"
            ]
          },
          "metadata": {},
          "execution_count": 110
        }
      ]
    },
    {
      "cell_type": "code",
      "metadata": {
        "colab": {
          "base_uri": "https://localhost:8080/"
        },
        "id": "oKIUubiCHXVW",
        "outputId": "801e49b9-f381-4cda-ad23-7b85a34e047f"
      },
      "source": [
        "np.dtype({'names':('name', 'age', 'weight'),\n",
        " 'formats':((np.str_, 10), int, np.float32)})"
      ],
      "execution_count": null,
      "outputs": [
        {
          "output_type": "execute_result",
          "data": {
            "text/plain": [
              "dtype([('name', '<U10'), ('age', '<i8'), ('weight', '<f4')])"
            ]
          },
          "metadata": {},
          "execution_count": 111
        }
      ]
    },
    {
      "cell_type": "code",
      "metadata": {
        "colab": {
          "base_uri": "https://localhost:8080/"
        },
        "id": "Hx9JDFsyH7Qm",
        "outputId": "cb04c64f-8dda-4a2d-a117-a928753af159"
      },
      "source": [
        "np.dtype([('name', 'S10'), ('age', 'i4'), ('weight', 'f8')])"
      ],
      "execution_count": null,
      "outputs": [
        {
          "output_type": "execute_result",
          "data": {
            "text/plain": [
              "dtype([('name', 'S10'), ('age', '<i4'), ('weight', '<f8')])"
            ]
          },
          "metadata": {},
          "execution_count": 112
        }
      ]
    },
    {
      "cell_type": "code",
      "metadata": {
        "colab": {
          "base_uri": "https://localhost:8080/"
        },
        "id": "oCUjRl6tH8wZ",
        "outputId": "1bc60d10-33b8-468b-ac26-19a3cc47dc82"
      },
      "source": [
        "np.dtype('S10,i4,f8')"
      ],
      "execution_count": null,
      "outputs": [
        {
          "output_type": "execute_result",
          "data": {
            "text/plain": [
              "dtype([('f0', 'S10'), ('f1', '<i4'), ('f2', '<f8')])"
            ]
          },
          "metadata": {},
          "execution_count": 113
        }
      ]
    },
    {
      "cell_type": "code",
      "metadata": {
        "id": "rd8EaZR4H-Ou"
      },
      "source": [
        "from sklearn import tree"
      ],
      "execution_count": 1,
      "outputs": []
    },
    {
      "cell_type": "code",
      "metadata": {
        "id": "_qLVq92wkPgs"
      },
      "source": [
        "features = [[140, 1], [130, 1], [150, 0],[170, 0]]\n",
        "\n",
        "labels = [0, 0, 1, 1]"
      ],
      "execution_count": 2,
      "outputs": []
    },
    {
      "cell_type": "code",
      "metadata": {
        "id": "xWF3Gq7LkX3E"
      },
      "source": [
        "clf= tree.DecisionTreeClassifier()"
      ],
      "execution_count": 17,
      "outputs": []
    },
    {
      "cell_type": "code",
      "metadata": {
        "id": "arjpyZYckaWT"
      },
      "source": [
        "clf= clf.fit(features, labels)\n"
      ],
      "execution_count": 18,
      "outputs": []
    },
    {
      "cell_type": "code",
      "metadata": {
        "colab": {
          "base_uri": "https://localhost:8080/"
        },
        "id": "ula7aBGtkc7h",
        "outputId": "a5d7b1d5-a90a-4f14-b45b-3053e82d0c0b"
      },
      "source": [
        "print(clf.predict([[160, 0]]))"
      ],
      "execution_count": 19,
      "outputs": [
        {
          "output_type": "stream",
          "name": "stdout",
          "text": [
            "[1]\n"
          ]
        }
      ]
    },
    {
      "cell_type": "code",
      "metadata": {
        "id": "_9eG6q6VkeoD"
      },
      "source": [
        ""
      ],
      "execution_count": null,
      "outputs": []
    }
  ]
}