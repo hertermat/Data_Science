{
  "nbformat": 4,
  "nbformat_minor": 0,
  "metadata": {
    "colab": {
      "name": "FinalProject.ipynb",
      "provenance": [],
      "collapsed_sections": []
    },
    "kernelspec": {
      "name": "python3",
      "display_name": "Python 3"
    },
    "language_info": {
      "name": "python"
    }
  },
  "cells": [
    {
      "cell_type": "markdown",
      "source": [
        "##MATIAS HERTER - 101272358\n"
      ],
      "metadata": {
        "id": "2qy9HDmLP3b9"
      }
    },
    {
      "cell_type": "code",
      "execution_count": 124,
      "metadata": {
        "id": "hiuMC0S_mCre"
      },
      "outputs": [],
      "source": [
        "import pandas as pd\n",
        "import numpy as np"
      ]
    },
    {
      "cell_type": "code",
      "source": [
        "crime = pd.read_csv('Crime.csv')"
      ],
      "metadata": {
        "id": "Qqso-G9tm1gg"
      },
      "execution_count": 125,
      "outputs": []
    },
    {
      "cell_type": "code",
      "source": [
        "crime.shape"
      ],
      "metadata": {
        "colab": {
          "base_uri": "https://localhost:8080/"
        },
        "id": "mfcE1smasc2E",
        "outputId": "7565599e-6703-48b0-8517-435666ee1153"
      },
      "execution_count": 160,
      "outputs": [
        {
          "output_type": "execute_result",
          "data": {
            "text/plain": [
              "(50, 7)"
            ]
          },
          "metadata": {},
          "execution_count": 160
        }
      ]
    },
    {
      "cell_type": "code",
      "source": [
        "crime.describe()"
      ],
      "metadata": {
        "colab": {
          "base_uri": "https://localhost:8080/",
          "height": 300
        },
        "id": "W_opPAckseLT",
        "outputId": "73363726-4ee3-4bd0-8ff5-98f5fa8a8f3d"
      },
      "execution_count": 127,
      "outputs": [
        {
          "output_type": "execute_result",
          "data": {
            "text/html": [
              "<div>\n",
              "<style scoped>\n",
              "    .dataframe tbody tr th:only-of-type {\n",
              "        vertical-align: middle;\n",
              "    }\n",
              "\n",
              "    .dataframe tbody tr th {\n",
              "        vertical-align: top;\n",
              "    }\n",
              "\n",
              "    .dataframe thead th {\n",
              "        text-align: right;\n",
              "    }\n",
              "</style>\n",
              "<table border=\"1\" class=\"dataframe\">\n",
              "  <thead>\n",
              "    <tr style=\"text-align: right;\">\n",
              "      <th></th>\n",
              "      <th>X1</th>\n",
              "      <th>X2</th>\n",
              "      <th>X3</th>\n",
              "      <th>X4</th>\n",
              "      <th>X5</th>\n",
              "      <th>X6</th>\n",
              "      <th>X7</th>\n",
              "    </tr>\n",
              "  </thead>\n",
              "  <tbody>\n",
              "    <tr>\n",
              "      <th>count</th>\n",
              "      <td>50.000000</td>\n",
              "      <td>50.000000</td>\n",
              "      <td>50.000000</td>\n",
              "      <td>50.000000</td>\n",
              "      <td>50.000000</td>\n",
              "      <td>50.000000</td>\n",
              "      <td>50.000000</td>\n",
              "    </tr>\n",
              "    <tr>\n",
              "      <th>mean</th>\n",
              "      <td>717.960000</td>\n",
              "      <td>616.180000</td>\n",
              "      <td>37.760000</td>\n",
              "      <td>58.800000</td>\n",
              "      <td>15.400000</td>\n",
              "      <td>29.900000</td>\n",
              "      <td>13.820000</td>\n",
              "    </tr>\n",
              "    <tr>\n",
              "      <th>std</th>\n",
              "      <td>293.938766</td>\n",
              "      <td>573.739175</td>\n",
              "      <td>13.820364</td>\n",
              "      <td>9.965246</td>\n",
              "      <td>6.023762</td>\n",
              "      <td>14.801062</td>\n",
              "      <td>5.157479</td>\n",
              "    </tr>\n",
              "    <tr>\n",
              "      <th>min</th>\n",
              "      <td>341.000000</td>\n",
              "      <td>29.000000</td>\n",
              "      <td>16.000000</td>\n",
              "      <td>42.000000</td>\n",
              "      <td>4.000000</td>\n",
              "      <td>7.000000</td>\n",
              "      <td>8.000000</td>\n",
              "    </tr>\n",
              "    <tr>\n",
              "      <th>25%</th>\n",
              "      <td>497.000000</td>\n",
              "      <td>230.750000</td>\n",
              "      <td>30.000000</td>\n",
              "      <td>49.000000</td>\n",
              "      <td>11.000000</td>\n",
              "      <td>21.250000</td>\n",
              "      <td>11.000000</td>\n",
              "    </tr>\n",
              "    <tr>\n",
              "      <th>50%</th>\n",
              "      <td>654.500000</td>\n",
              "      <td>454.000000</td>\n",
              "      <td>34.500000</td>\n",
              "      <td>59.000000</td>\n",
              "      <td>14.000000</td>\n",
              "      <td>25.000000</td>\n",
              "      <td>12.000000</td>\n",
              "    </tr>\n",
              "    <tr>\n",
              "      <th>75%</th>\n",
              "      <td>820.500000</td>\n",
              "      <td>822.500000</td>\n",
              "      <td>42.250000</td>\n",
              "      <td>67.000000</td>\n",
              "      <td>19.000000</td>\n",
              "      <td>34.250000</td>\n",
              "      <td>15.750000</td>\n",
              "    </tr>\n",
              "    <tr>\n",
              "      <th>max</th>\n",
              "      <td>1740.000000</td>\n",
              "      <td>3545.000000</td>\n",
              "      <td>86.000000</td>\n",
              "      <td>81.000000</td>\n",
              "      <td>34.000000</td>\n",
              "      <td>81.000000</td>\n",
              "      <td>36.000000</td>\n",
              "    </tr>\n",
              "  </tbody>\n",
              "</table>\n",
              "</div>"
            ],
            "text/plain": [
              "                X1           X2         X3  ...         X5         X6         X7\n",
              "count    50.000000    50.000000  50.000000  ...  50.000000  50.000000  50.000000\n",
              "mean    717.960000   616.180000  37.760000  ...  15.400000  29.900000  13.820000\n",
              "std     293.938766   573.739175  13.820364  ...   6.023762  14.801062   5.157479\n",
              "min     341.000000    29.000000  16.000000  ...   4.000000   7.000000   8.000000\n",
              "25%     497.000000   230.750000  30.000000  ...  11.000000  21.250000  11.000000\n",
              "50%     654.500000   454.000000  34.500000  ...  14.000000  25.000000  12.000000\n",
              "75%     820.500000   822.500000  42.250000  ...  19.000000  34.250000  15.750000\n",
              "max    1740.000000  3545.000000  86.000000  ...  34.000000  81.000000  36.000000\n",
              "\n",
              "[8 rows x 7 columns]"
            ]
          },
          "metadata": {},
          "execution_count": 127
        }
      ]
    },
    {
      "cell_type": "code",
      "source": [
        "crime.describe"
      ],
      "metadata": {
        "colab": {
          "base_uri": "https://localhost:8080/"
        },
        "id": "5gX2EgpW0EBC",
        "outputId": "9216faf9-1866-40f8-93ac-c3a2bd25eaee"
      },
      "execution_count": 128,
      "outputs": [
        {
          "output_type": "execute_result",
          "data": {
            "text/plain": [
              "<bound method NDFrame.describe of       X1    X2  X3  X4  X5  X6  X7\n",
              "0    478   184  40  74  11  31  20\n",
              "1    494   213  32  72  11  43  18\n",
              "2    643   347  57  70  18  16  16\n",
              "3    341   565  31  71  11  25  19\n",
              "4    773   327  67  72   9  29  24\n",
              "5    603   260  25  68   8  32  15\n",
              "6    484   325  34  68  12  24  14\n",
              "7    546   102  33  62  13  28  11\n",
              "8    424    38  36  69   7  25  12\n",
              "9    548   226  31  66   9  58  15\n",
              "10   506   137  35  60  13  21   9\n",
              "11   819   369  30  81   4  77  36\n",
              "12   541   109  44  66   9  37  12\n",
              "13   491   809  32  67  11  37  16\n",
              "14   514    29  30  65  12  35  11\n",
              "15   371   245  16  64  10  42  14\n",
              "16   457   118  29  64  12  21  10\n",
              "17   437   148  36  62   7  81  27\n",
              "18   570   387  30  59  15  31  16\n",
              "19   432    98  23  56  15  50  15\n",
              "20   619   608  33  46  22  24   8\n",
              "21   357   218  35  54  14  27  13\n",
              "22   623   254  38  54  20  22  11\n",
              "23   547   697  44  45  26  18   8\n",
              "24   792   827  28  57  12  23  11\n",
              "25   799   693  35  57   9  60  18\n",
              "26   439   448  31  61  19  14  12\n",
              "27   867   942  39  52  17  31  10\n",
              "28   912  1017  27  44  21  24   9\n",
              "29   462   216  36  43  18  23   8\n",
              "30   859   673  38  48  19  22  10\n",
              "31   805   989  46  57  14  25  12\n",
              "32   652   630  29  47  19  25   9\n",
              "33   776   404  32  50  19  21   9\n",
              "34   919   692  39  48  16  32  11\n",
              "35   732  1517  44  49  13  31  14\n",
              "36   657   879  33  72  13  13  22\n",
              "37  1419   631  43  59  14  21  13\n",
              "38   989  1375  22  49   9  46  13\n",
              "39   821  1139  30  54  13  27  12\n",
              "40  1740  3545  86  62  22  18  15\n",
              "41   815   706  30  47  17  39  11\n",
              "42   760   451  32  45  34  15  10\n",
              "43   936   433  43  48  26  23  12\n",
              "44   863   601  20  69  23   7  12\n",
              "45   783  1024  55  42  23  23  11\n",
              "46   715   457  44  49  18  30  12\n",
              "47  1504  1441  37  57  15  35  13\n",
              "48  1324  1022  82  72  22  15  16\n",
              "49   940  1244  66  67  26  18  16>"
            ]
          },
          "metadata": {},
          "execution_count": 128
        }
      ]
    },
    {
      "cell_type": "code",
      "source": [
        "crime.head()"
      ],
      "metadata": {
        "colab": {
          "base_uri": "https://localhost:8080/",
          "height": 206
        },
        "id": "EX9lo3L30O_8",
        "outputId": "cfb757c9-bea7-4d02-d6f0-17a66bd19efe"
      },
      "execution_count": 129,
      "outputs": [
        {
          "output_type": "execute_result",
          "data": {
            "text/html": [
              "<div>\n",
              "<style scoped>\n",
              "    .dataframe tbody tr th:only-of-type {\n",
              "        vertical-align: middle;\n",
              "    }\n",
              "\n",
              "    .dataframe tbody tr th {\n",
              "        vertical-align: top;\n",
              "    }\n",
              "\n",
              "    .dataframe thead th {\n",
              "        text-align: right;\n",
              "    }\n",
              "</style>\n",
              "<table border=\"1\" class=\"dataframe\">\n",
              "  <thead>\n",
              "    <tr style=\"text-align: right;\">\n",
              "      <th></th>\n",
              "      <th>X1</th>\n",
              "      <th>X2</th>\n",
              "      <th>X3</th>\n",
              "      <th>X4</th>\n",
              "      <th>X5</th>\n",
              "      <th>X6</th>\n",
              "      <th>X7</th>\n",
              "    </tr>\n",
              "  </thead>\n",
              "  <tbody>\n",
              "    <tr>\n",
              "      <th>0</th>\n",
              "      <td>478</td>\n",
              "      <td>184</td>\n",
              "      <td>40</td>\n",
              "      <td>74</td>\n",
              "      <td>11</td>\n",
              "      <td>31</td>\n",
              "      <td>20</td>\n",
              "    </tr>\n",
              "    <tr>\n",
              "      <th>1</th>\n",
              "      <td>494</td>\n",
              "      <td>213</td>\n",
              "      <td>32</td>\n",
              "      <td>72</td>\n",
              "      <td>11</td>\n",
              "      <td>43</td>\n",
              "      <td>18</td>\n",
              "    </tr>\n",
              "    <tr>\n",
              "      <th>2</th>\n",
              "      <td>643</td>\n",
              "      <td>347</td>\n",
              "      <td>57</td>\n",
              "      <td>70</td>\n",
              "      <td>18</td>\n",
              "      <td>16</td>\n",
              "      <td>16</td>\n",
              "    </tr>\n",
              "    <tr>\n",
              "      <th>3</th>\n",
              "      <td>341</td>\n",
              "      <td>565</td>\n",
              "      <td>31</td>\n",
              "      <td>71</td>\n",
              "      <td>11</td>\n",
              "      <td>25</td>\n",
              "      <td>19</td>\n",
              "    </tr>\n",
              "    <tr>\n",
              "      <th>4</th>\n",
              "      <td>773</td>\n",
              "      <td>327</td>\n",
              "      <td>67</td>\n",
              "      <td>72</td>\n",
              "      <td>9</td>\n",
              "      <td>29</td>\n",
              "      <td>24</td>\n",
              "    </tr>\n",
              "  </tbody>\n",
              "</table>\n",
              "</div>"
            ],
            "text/plain": [
              "    X1   X2  X3  X4  X5  X6  X7\n",
              "0  478  184  40  74  11  31  20\n",
              "1  494  213  32  72  11  43  18\n",
              "2  643  347  57  70  18  16  16\n",
              "3  341  565  31  71  11  25  19\n",
              "4  773  327  67  72   9  29  24"
            ]
          },
          "metadata": {},
          "execution_count": 129
        }
      ]
    },
    {
      "cell_type": "code",
      "source": [
        "crime.isnull().values.any()"
      ],
      "metadata": {
        "id": "c34fB95q6z0W",
        "colab": {
          "base_uri": "https://localhost:8080/"
        },
        "outputId": "f6fc9757-c8a5-4e87-d994-da524cc61954"
      },
      "execution_count": 130,
      "outputs": [
        {
          "output_type": "execute_result",
          "data": {
            "text/plain": [
              "False"
            ]
          },
          "metadata": {},
          "execution_count": 130
        }
      ]
    },
    {
      "cell_type": "code",
      "source": [
        "crime.isnull().sum().sum()"
      ],
      "metadata": {
        "colab": {
          "base_uri": "https://localhost:8080/"
        },
        "id": "tGBv0Bl0jEGN",
        "outputId": "0aa701ec-127d-4342-94d1-2722fad2017f"
      },
      "execution_count": 131,
      "outputs": [
        {
          "output_type": "execute_result",
          "data": {
            "text/plain": [
              "0"
            ]
          },
          "metadata": {},
          "execution_count": 131
        }
      ]
    },
    {
      "cell_type": "code",
      "source": [
        "%matplotlib inline"
      ],
      "metadata": {
        "id": "7z3Y6je2jqIL"
      },
      "execution_count": 132,
      "outputs": []
    },
    {
      "cell_type": "code",
      "source": [
        "crime.plot()"
      ],
      "metadata": {
        "colab": {
          "base_uri": "https://localhost:8080/",
          "height": 282
        },
        "id": "VwiT73Ydj0qT",
        "outputId": "960ff093-4dad-439d-c7e2-0150cbf1aaff"
      },
      "execution_count": 133,
      "outputs": [
        {
          "output_type": "execute_result",
          "data": {
            "text/plain": [
              "<matplotlib.axes._subplots.AxesSubplot at 0x7f366725cd50>"
            ]
          },
          "metadata": {},
          "execution_count": 133
        },
        {
          "output_type": "display_data",
          "data": {
            "image/png": "[encoded data removed]",
            "text/plain": [
              "<Figure size 432x288 with 1 Axes>"
            ]
          },
          "metadata": {
            "needs_background": "light"
          }
        }
      ]
    },
    {
      "cell_type": "code",
      "source": [
        "crime.plot(kind='hist')"
      ],
      "metadata": {
        "colab": {
          "base_uri": "https://localhost:8080/",
          "height": 282
        },
        "id": "z-SEWIJGlZRn",
        "outputId": "655a1d0c-cde2-484b-b511-d74c5f26f4d3"
      },
      "execution_count": 134,
      "outputs": [
        {
          "output_type": "execute_result",
          "data": {
            "text/plain": [
              "<matplotlib.axes._subplots.AxesSubplot at 0x7f3664c8e490>"
            ]
          },
          "metadata": {},
          "execution_count": 134
        },
        {
          "output_type": "display_data",
          "data": {
            "image/png": "[encoded data removed]",
            "text/plain": [
              "<Figure size 432x288 with 1 Axes>"
            ]
          },
          "metadata": {
            "needs_background": "light"
          }
        }
      ]
    },
    {
      "cell_type": "code",
      "source": [
        "import sklearn\n",
        "from sklearn.linear_model import LinearRegression"
      ],
      "metadata": {
        "id": "eXeyKlOA8pHP"
      },
      "execution_count": 138,
      "outputs": []
    },
    {
      "cell_type": "code",
      "source": [
        "X1=crime['X1']\n",
        "X2=crime['X2']"
      ],
      "metadata": {
        "id": "vUGbmznRKlBK"
      },
      "execution_count": 137,
      "outputs": []
    },
    {
      "cell_type": "code",
      "source": [
        "X = np.array(X1).reshape(-1,1)"
      ],
      "metadata": {
        "id": "aot_SxkuLOkq"
      },
      "execution_count": 139,
      "outputs": []
    },
    {
      "cell_type": "code",
      "source": [
        "Y= np.array(X2)"
      ],
      "metadata": {
        "id": "qHn5-Ka1LVDZ"
      },
      "execution_count": 140,
      "outputs": []
    },
    {
      "cell_type": "code",
      "source": [
        "from sklearn.model_selection import train_test_split\n",
        "X_train, X_test, y_train, y_test = train_test_split(X,Y,test_size=0.2,random_state = 0)"
      ],
      "metadata": {
        "id": "CHOb1WbmLW-y"
      },
      "execution_count": 141,
      "outputs": []
    },
    {
      "cell_type": "code",
      "source": [
        "y_train = y_train.reshape(-1,1)\n",
        "y_test = y_test.reshape(-1,1)"
      ],
      "metadata": {
        "id": "QU-KDoCVLhZz"
      },
      "execution_count": 142,
      "outputs": []
    },
    {
      "cell_type": "code",
      "source": [
        "from sklearn.linear_model import LinearRegression\n",
        "model = LinearRegression()\n"
      ],
      "metadata": {
        "id": "rrYTlBZbLhyb"
      },
      "execution_count": 143,
      "outputs": []
    },
    {
      "cell_type": "code",
      "source": [
        "model.fit(X_train,y_train)\n",
        "print(model.score(X_train,y_train))"
      ],
      "metadata": {
        "colab": {
          "base_uri": "https://localhost:8080/"
        },
        "id": "cRo4KG2ALk1o",
        "outputId": "ad263530-1644-497c-c10a-fc332890396a"
      },
      "execution_count": 144,
      "outputs": [
        {
          "output_type": "stream",
          "name": "stdout",
          "text": [
            "0.5690984752177257\n"
          ]
        }
      ]
    },
    {
      "cell_type": "code",
      "source": [
        "pred=model.predict(X_test)\n",
        "predictions = pred.reshape(-1,1)\n",
        "print(predictions)"
      ],
      "metadata": {
        "colab": {
          "base_uri": "https://localhost:8080/"
        },
        "id": "szBTLFE1LzOc",
        "outputId": "6b8b677b-66e2-410c-e4cf-3cb68fcd476a"
      },
      "execution_count": 157,
      "outputs": [
        {
          "output_type": "stream",
          "name": "stdout",
          "text": [
            "[[ 908.43493402]\n",
            " [ 774.62164453]\n",
            " [ 324.26078854]\n",
            " [ 768.86623423]\n",
            " [ 521.38359132]\n",
            " [ 843.68656814]\n",
            " [1019.2265823 ]\n",
            " [ 754.47770848]\n",
            " [ 492.60653982]\n",
            " [ 708.43442608]]\n"
          ]
        }
      ]
    },
    {
      "cell_type": "code",
      "source": [
        "from sklearn.metrics import mean_squared_error\n",
        "print('MSE : ', mean_squared_error(y_test,predictions))\n",
        "print('RMSE : ', np.sqrt(mean_squared_error(y_test,predictions)))"
      ],
      "metadata": {
        "colab": {
          "base_uri": "https://localhost:8080/"
        },
        "id": "5YuH4xdGNPGE",
        "outputId": "4db610a7-19ff-48e8-d750-a4e386568eb7"
      },
      "execution_count": 162,
      "outputs": [
        {
          "output_type": "stream",
          "name": "stdout",
          "text": [
            "MSE :  63940.995841237214\n",
            "RMSE :  252.865568714361\n"
          ]
        }
      ]
    }
  ]
}