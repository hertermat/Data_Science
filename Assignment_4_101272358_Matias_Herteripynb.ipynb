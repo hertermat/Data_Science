{
  "nbformat": 4,
  "nbformat_minor": 0,
  "metadata": {
    "colab": {
      "name": "Assignment4ipynb",
      "provenance": [],
      "collapsed_sections": []
    },
    "kernelspec": {
      "name": "python3",
      "display_name": "Python 3"
    },
    "language_info": {
      "name": "python"
    }
  },
  "cells": [
    {
      "cell_type": "markdown",
      "metadata": {
        "id": "N-FUS1764jWp"
      },
      "source": [
        "# Matias Herter\n",
        "# 101272358"
      ]
    },
    {
      "cell_type": "code",
      "metadata": {
        "id": "CBt-AmFvAKHi"
      },
      "source": [
        "#Matias Herter - 101272358\n",
        "import pandas as pd"
      ],
      "execution_count": null,
      "outputs": []
    },
    {
      "cell_type": "markdown",
      "metadata": {
        "id": "wOUpYqnaJXOg"
      },
      "source": [
        "1 -Download the test.csv file and store it in a DataFrame named, myDF\n"
      ]
    },
    {
      "cell_type": "code",
      "metadata": {
        "id": "keq_c4SQJY3L"
      },
      "source": [
        "myDF = pd.read_csv('test(1).csv')"
      ],
      "execution_count": null,
      "outputs": []
    },
    {
      "cell_type": "markdown",
      "metadata": {
        "id": "sOsDbZHpKKtH"
      },
      "source": [
        "2 - Show the first three rows of the DF."
      ]
    },
    {
      "cell_type": "code",
      "metadata": {
        "colab": {
          "base_uri": "https://localhost:8080/",
          "height": 143
        },
        "id": "ITZA1VqZKJKI",
        "outputId": "dc6738f1-2ddd-47d2-9d7f-568735e4015c"
      },
      "source": [
        "myDF.head(3)"
      ],
      "execution_count": null,
      "outputs": [
        {
          "output_type": "execute_result",
          "data": {
            "text/html": [
              "<div>\n",
              "<style scoped>\n",
              "    .dataframe tbody tr th:only-of-type {\n",
              "        vertical-align: middle;\n",
              "    }\n",
              "\n",
              "    .dataframe tbody tr th {\n",
              "        vertical-align: top;\n",
              "    }\n",
              "\n",
              "    .dataframe thead th {\n",
              "        text-align: right;\n",
              "    }\n",
              "</style>\n",
              "<table border=\"1\" class=\"dataframe\">\n",
              "  <thead>\n",
              "    <tr style=\"text-align: right;\">\n",
              "      <th></th>\n",
              "      <th>ID</th>\n",
              "      <th>Range</th>\n",
              "      <th>Value</th>\n",
              "      <th>Type</th>\n",
              "      <th>Zip Code</th>\n",
              "      <th>Model</th>\n",
              "      <th>Cost</th>\n",
              "      <th>Continent</th>\n",
              "    </tr>\n",
              "  </thead>\n",
              "  <tbody>\n",
              "    <tr>\n",
              "      <th>0</th>\n",
              "      <td>10</td>\n",
              "      <td>192</td>\n",
              "      <td>50</td>\n",
              "      <td>F</td>\n",
              "      <td>NXEYEM</td>\n",
              "      <td>EX85</td>\n",
              "      <td>[56$]</td>\n",
              "      <td>Asia</td>\n",
              "    </tr>\n",
              "    <tr>\n",
              "      <th>1</th>\n",
              "      <td>20</td>\n",
              "      <td>299</td>\n",
              "      <td>21</td>\n",
              "      <td>M</td>\n",
              "      <td>VNFKZD</td>\n",
              "      <td>CT41</td>\n",
              "      <td>[18$]</td>\n",
              "      <td>Asia</td>\n",
              "    </tr>\n",
              "    <tr>\n",
              "      <th>2</th>\n",
              "      <td>30</td>\n",
              "      <td>378</td>\n",
              "      <td>28</td>\n",
              "      <td>X</td>\n",
              "      <td>IMGMFY</td>\n",
              "      <td>VN81</td>\n",
              "      <td>[90$]</td>\n",
              "      <td>North America</td>\n",
              "    </tr>\n",
              "  </tbody>\n",
              "</table>\n",
              "</div>"
            ],
            "text/plain": [
              "   ID  Range  Value Type Zip Code Model   Cost      Continent\n",
              "0  10    192     50    F   NXEYEM  EX85  [56$]           Asia\n",
              "1  20    299     21    M   VNFKZD  CT41  [18$]           Asia\n",
              "2  30    378     28    X   IMGMFY  VN81  [90$]  North America"
            ]
          },
          "metadata": {},
          "execution_count": 374
        }
      ]
    },
    {
      "cell_type": "markdown",
      "metadata": {
        "id": "46MkzZVlKOr5"
      },
      "source": [
        "3 - Delete the ‘Model’ column from the DF temporarily"
      ]
    },
    {
      "cell_type": "code",
      "metadata": {
        "colab": {
          "base_uri": "https://localhost:8080/",
          "height": 423
        },
        "id": "EukrTP9EKNWP",
        "outputId": "e18a9730-0856-4a86-8eba-d35ad60cae2b"
      },
      "source": [
        "myDF.drop('Model',axis =1, inplace = False)"
      ],
      "execution_count": null,
      "outputs": [
        {
          "output_type": "execute_result",
          "data": {
            "text/html": [
              "<div>\n",
              "<style scoped>\n",
              "    .dataframe tbody tr th:only-of-type {\n",
              "        vertical-align: middle;\n",
              "    }\n",
              "\n",
              "    .dataframe tbody tr th {\n",
              "        vertical-align: top;\n",
              "    }\n",
              "\n",
              "    .dataframe thead th {\n",
              "        text-align: right;\n",
              "    }\n",
              "</style>\n",
              "<table border=\"1\" class=\"dataframe\">\n",
              "  <thead>\n",
              "    <tr style=\"text-align: right;\">\n",
              "      <th></th>\n",
              "      <th>ID</th>\n",
              "      <th>Range</th>\n",
              "      <th>Value</th>\n",
              "      <th>Type</th>\n",
              "      <th>Zip Code</th>\n",
              "      <th>Cost</th>\n",
              "      <th>Continent</th>\n",
              "    </tr>\n",
              "  </thead>\n",
              "  <tbody>\n",
              "    <tr>\n",
              "      <th>0</th>\n",
              "      <td>10</td>\n",
              "      <td>192</td>\n",
              "      <td>50</td>\n",
              "      <td>F</td>\n",
              "      <td>NXEYEM</td>\n",
              "      <td>[56$]</td>\n",
              "      <td>Asia</td>\n",
              "    </tr>\n",
              "    <tr>\n",
              "      <th>1</th>\n",
              "      <td>20</td>\n",
              "      <td>299</td>\n",
              "      <td>21</td>\n",
              "      <td>M</td>\n",
              "      <td>VNFKZD</td>\n",
              "      <td>[18$]</td>\n",
              "      <td>Asia</td>\n",
              "    </tr>\n",
              "    <tr>\n",
              "      <th>2</th>\n",
              "      <td>30</td>\n",
              "      <td>378</td>\n",
              "      <td>28</td>\n",
              "      <td>X</td>\n",
              "      <td>IMGMFY</td>\n",
              "      <td>[90$]</td>\n",
              "      <td>North America</td>\n",
              "    </tr>\n",
              "    <tr>\n",
              "      <th>3</th>\n",
              "      <td>40</td>\n",
              "      <td>156</td>\n",
              "      <td>44</td>\n",
              "      <td>Q</td>\n",
              "      <td>RHRHJY</td>\n",
              "      <td>[89$]</td>\n",
              "      <td>Asia</td>\n",
              "    </tr>\n",
              "    <tr>\n",
              "      <th>4</th>\n",
              "      <td>50</td>\n",
              "      <td>468</td>\n",
              "      <td>33</td>\n",
              "      <td>J</td>\n",
              "      <td>HPQCMC</td>\n",
              "      <td>[95$]</td>\n",
              "      <td>Africa</td>\n",
              "    </tr>\n",
              "    <tr>\n",
              "      <th>...</th>\n",
              "      <td>...</td>\n",
              "      <td>...</td>\n",
              "      <td>...</td>\n",
              "      <td>...</td>\n",
              "      <td>...</td>\n",
              "      <td>...</td>\n",
              "      <td>...</td>\n",
              "    </tr>\n",
              "    <tr>\n",
              "      <th>945</th>\n",
              "      <td>9460</td>\n",
              "      <td>136</td>\n",
              "      <td>12</td>\n",
              "      <td>C</td>\n",
              "      <td>HGVBPV</td>\n",
              "      <td>[51$]</td>\n",
              "      <td>South America</td>\n",
              "    </tr>\n",
              "    <tr>\n",
              "      <th>946</th>\n",
              "      <td>9470</td>\n",
              "      <td>316</td>\n",
              "      <td>46</td>\n",
              "      <td>L</td>\n",
              "      <td>SHBAUD</td>\n",
              "      <td>[33$]</td>\n",
              "      <td>North America</td>\n",
              "    </tr>\n",
              "    <tr>\n",
              "      <th>947</th>\n",
              "      <td>9480</td>\n",
              "      <td>461</td>\n",
              "      <td>46</td>\n",
              "      <td>K</td>\n",
              "      <td>PUZUVO</td>\n",
              "      <td>[12$]</td>\n",
              "      <td>Europe</td>\n",
              "    </tr>\n",
              "    <tr>\n",
              "      <th>948</th>\n",
              "      <td>9490</td>\n",
              "      <td>185</td>\n",
              "      <td>13</td>\n",
              "      <td>N</td>\n",
              "      <td>UMESZO</td>\n",
              "      <td>[39$]</td>\n",
              "      <td>North America</td>\n",
              "    </tr>\n",
              "    <tr>\n",
              "      <th>949</th>\n",
              "      <td>9500</td>\n",
              "      <td>137</td>\n",
              "      <td>10</td>\n",
              "      <td>W</td>\n",
              "      <td>JOHHVL</td>\n",
              "      <td>[10$]</td>\n",
              "      <td>South America</td>\n",
              "    </tr>\n",
              "  </tbody>\n",
              "</table>\n",
              "<p>950 rows × 7 columns</p>\n",
              "</div>"
            ],
            "text/plain": [
              "       ID  Range  Value Type Zip Code   Cost      Continent\n",
              "0      10    192     50    F   NXEYEM  [56$]           Asia\n",
              "1      20    299     21    M   VNFKZD  [18$]           Asia\n",
              "2      30    378     28    X   IMGMFY  [90$]  North America\n",
              "3      40    156     44    Q   RHRHJY  [89$]           Asia\n",
              "4      50    468     33    J   HPQCMC  [95$]         Africa\n",
              "..    ...    ...    ...  ...      ...    ...            ...\n",
              "945  9460    136     12    C   HGVBPV  [51$]  South America\n",
              "946  9470    316     46    L   SHBAUD  [33$]  North America\n",
              "947  9480    461     46    K   PUZUVO  [12$]         Europe\n",
              "948  9490    185     13    N   UMESZO  [39$]  North America\n",
              "949  9500    137     10    W   JOHHVL  [10$]  South America\n",
              "\n",
              "[950 rows x 7 columns]"
            ]
          },
          "metadata": {},
          "execution_count": 375
        }
      ]
    },
    {
      "cell_type": "code",
      "metadata": {
        "colab": {
          "base_uri": "https://localhost:8080/",
          "height": 206
        },
        "id": "UyMnpoAhXXBR",
        "outputId": "00e55b87-599f-4d5e-ff88-4dc530ca97b2"
      },
      "source": [
        "myDF.head()"
      ],
      "execution_count": null,
      "outputs": [
        {
          "output_type": "execute_result",
          "data": {
            "text/html": [
              "<div>\n",
              "<style scoped>\n",
              "    .dataframe tbody tr th:only-of-type {\n",
              "        vertical-align: middle;\n",
              "    }\n",
              "\n",
              "    .dataframe tbody tr th {\n",
              "        vertical-align: top;\n",
              "    }\n",
              "\n",
              "    .dataframe thead th {\n",
              "        text-align: right;\n",
              "    }\n",
              "</style>\n",
              "<table border=\"1\" class=\"dataframe\">\n",
              "  <thead>\n",
              "    <tr style=\"text-align: right;\">\n",
              "      <th></th>\n",
              "      <th>ID</th>\n",
              "      <th>Range</th>\n",
              "      <th>Value</th>\n",
              "      <th>Type</th>\n",
              "      <th>Zip Code</th>\n",
              "      <th>Model</th>\n",
              "      <th>Cost</th>\n",
              "      <th>Continent</th>\n",
              "    </tr>\n",
              "  </thead>\n",
              "  <tbody>\n",
              "    <tr>\n",
              "      <th>0</th>\n",
              "      <td>10</td>\n",
              "      <td>192</td>\n",
              "      <td>50</td>\n",
              "      <td>F</td>\n",
              "      <td>NXEYEM</td>\n",
              "      <td>EX85</td>\n",
              "      <td>[56$]</td>\n",
              "      <td>Asia</td>\n",
              "    </tr>\n",
              "    <tr>\n",
              "      <th>1</th>\n",
              "      <td>20</td>\n",
              "      <td>299</td>\n",
              "      <td>21</td>\n",
              "      <td>M</td>\n",
              "      <td>VNFKZD</td>\n",
              "      <td>CT41</td>\n",
              "      <td>[18$]</td>\n",
              "      <td>Asia</td>\n",
              "    </tr>\n",
              "    <tr>\n",
              "      <th>2</th>\n",
              "      <td>30</td>\n",
              "      <td>378</td>\n",
              "      <td>28</td>\n",
              "      <td>X</td>\n",
              "      <td>IMGMFY</td>\n",
              "      <td>VN81</td>\n",
              "      <td>[90$]</td>\n",
              "      <td>North America</td>\n",
              "    </tr>\n",
              "    <tr>\n",
              "      <th>3</th>\n",
              "      <td>40</td>\n",
              "      <td>156</td>\n",
              "      <td>44</td>\n",
              "      <td>Q</td>\n",
              "      <td>RHRHJY</td>\n",
              "      <td>IR14</td>\n",
              "      <td>[89$]</td>\n",
              "      <td>Asia</td>\n",
              "    </tr>\n",
              "    <tr>\n",
              "      <th>4</th>\n",
              "      <td>50</td>\n",
              "      <td>468</td>\n",
              "      <td>33</td>\n",
              "      <td>J</td>\n",
              "      <td>HPQCMC</td>\n",
              "      <td>QX90</td>\n",
              "      <td>[95$]</td>\n",
              "      <td>Africa</td>\n",
              "    </tr>\n",
              "  </tbody>\n",
              "</table>\n",
              "</div>"
            ],
            "text/plain": [
              "   ID  Range  Value Type Zip Code Model   Cost      Continent\n",
              "0  10    192     50    F   NXEYEM  EX85  [56$]           Asia\n",
              "1  20    299     21    M   VNFKZD  CT41  [18$]           Asia\n",
              "2  30    378     28    X   IMGMFY  VN81  [90$]  North America\n",
              "3  40    156     44    Q   RHRHJY  IR14  [89$]           Asia\n",
              "4  50    468     33    J   HPQCMC  QX90  [95$]         Africa"
            ]
          },
          "metadata": {},
          "execution_count": 376
        }
      ]
    },
    {
      "cell_type": "markdown",
      "metadata": {
        "id": "PvZPqH94X16Y"
      },
      "source": [
        "4 - Delete the ‘Model’ column permanently, using the assignment (Not inplace parameter). Is there\n",
        "any output when you run the permanent deletion? So, how can you make sure it is deleted?"
      ]
    },
    {
      "cell_type": "code",
      "metadata": {
        "id": "wPLOWv9sXruO"
      },
      "source": [
        "del myDF['Model']\n",
        "#There is no output when deleted, to confirm we can run a myDF.head() command , that will show us that\n",
        "#the collumn was actually removed "
      ],
      "execution_count": null,
      "outputs": []
    },
    {
      "cell_type": "code",
      "metadata": {
        "colab": {
          "base_uri": "https://localhost:8080/",
          "height": 206
        },
        "id": "vIlKZ4QmiCmq",
        "outputId": "e46b6572-8d60-44c8-addd-806ce5f97ace"
      },
      "source": [
        "myDF.head()\n",
        "#Model collumn not present anymore"
      ],
      "execution_count": null,
      "outputs": [
        {
          "output_type": "execute_result",
          "data": {
            "text/html": [
              "<div>\n",
              "<style scoped>\n",
              "    .dataframe tbody tr th:only-of-type {\n",
              "        vertical-align: middle;\n",
              "    }\n",
              "\n",
              "    .dataframe tbody tr th {\n",
              "        vertical-align: top;\n",
              "    }\n",
              "\n",
              "    .dataframe thead th {\n",
              "        text-align: right;\n",
              "    }\n",
              "</style>\n",
              "<table border=\"1\" class=\"dataframe\">\n",
              "  <thead>\n",
              "    <tr style=\"text-align: right;\">\n",
              "      <th></th>\n",
              "      <th>ID</th>\n",
              "      <th>Range</th>\n",
              "      <th>Value</th>\n",
              "      <th>Type</th>\n",
              "      <th>Zip Code</th>\n",
              "      <th>Cost</th>\n",
              "      <th>Continent</th>\n",
              "    </tr>\n",
              "  </thead>\n",
              "  <tbody>\n",
              "    <tr>\n",
              "      <th>0</th>\n",
              "      <td>10</td>\n",
              "      <td>192</td>\n",
              "      <td>50</td>\n",
              "      <td>F</td>\n",
              "      <td>NXEYEM</td>\n",
              "      <td>[56$]</td>\n",
              "      <td>Asia</td>\n",
              "    </tr>\n",
              "    <tr>\n",
              "      <th>1</th>\n",
              "      <td>20</td>\n",
              "      <td>299</td>\n",
              "      <td>21</td>\n",
              "      <td>M</td>\n",
              "      <td>VNFKZD</td>\n",
              "      <td>[18$]</td>\n",
              "      <td>Asia</td>\n",
              "    </tr>\n",
              "    <tr>\n",
              "      <th>2</th>\n",
              "      <td>30</td>\n",
              "      <td>378</td>\n",
              "      <td>28</td>\n",
              "      <td>X</td>\n",
              "      <td>IMGMFY</td>\n",
              "      <td>[90$]</td>\n",
              "      <td>North America</td>\n",
              "    </tr>\n",
              "    <tr>\n",
              "      <th>3</th>\n",
              "      <td>40</td>\n",
              "      <td>156</td>\n",
              "      <td>44</td>\n",
              "      <td>Q</td>\n",
              "      <td>RHRHJY</td>\n",
              "      <td>[89$]</td>\n",
              "      <td>Asia</td>\n",
              "    </tr>\n",
              "    <tr>\n",
              "      <th>4</th>\n",
              "      <td>50</td>\n",
              "      <td>468</td>\n",
              "      <td>33</td>\n",
              "      <td>J</td>\n",
              "      <td>HPQCMC</td>\n",
              "      <td>[95$]</td>\n",
              "      <td>Africa</td>\n",
              "    </tr>\n",
              "  </tbody>\n",
              "</table>\n",
              "</div>"
            ],
            "text/plain": [
              "   ID  Range  Value Type Zip Code   Cost      Continent\n",
              "0  10    192     50    F   NXEYEM  [56$]           Asia\n",
              "1  20    299     21    M   VNFKZD  [18$]           Asia\n",
              "2  30    378     28    X   IMGMFY  [90$]  North America\n",
              "3  40    156     44    Q   RHRHJY  [89$]           Asia\n",
              "4  50    468     33    J   HPQCMC  [95$]         Africa"
            ]
          },
          "metadata": {},
          "execution_count": 378
        }
      ]
    },
    {
      "cell_type": "markdown",
      "metadata": {
        "id": "dJVthzUOi106"
      },
      "source": [
        "5 - Now, let’s delete rows 1, 3, and 5 permanently, using inplace. Then show the first 4 Rows of\n",
        "myDF"
      ]
    },
    {
      "cell_type": "code",
      "metadata": {
        "colab": {
          "base_uri": "https://localhost:8080/",
          "height": 175
        },
        "id": "qgU24RcfieYF",
        "outputId": "580fc8d6-97e8-4be0-f5e4-f07c5ca09cdf"
      },
      "source": [
        "myDF.drop([1,3,5], axis=0, inplace=True)\n",
        "myDF.head(4)\n",
        "#First delete the 3 rows requested than call for the first 4 rows of the new dataset"
      ],
      "execution_count": null,
      "outputs": [
        {
          "output_type": "execute_result",
          "data": {
            "text/html": [
              "<div>\n",
              "<style scoped>\n",
              "    .dataframe tbody tr th:only-of-type {\n",
              "        vertical-align: middle;\n",
              "    }\n",
              "\n",
              "    .dataframe tbody tr th {\n",
              "        vertical-align: top;\n",
              "    }\n",
              "\n",
              "    .dataframe thead th {\n",
              "        text-align: right;\n",
              "    }\n",
              "</style>\n",
              "<table border=\"1\" class=\"dataframe\">\n",
              "  <thead>\n",
              "    <tr style=\"text-align: right;\">\n",
              "      <th></th>\n",
              "      <th>ID</th>\n",
              "      <th>Range</th>\n",
              "      <th>Value</th>\n",
              "      <th>Type</th>\n",
              "      <th>Zip Code</th>\n",
              "      <th>Cost</th>\n",
              "      <th>Continent</th>\n",
              "    </tr>\n",
              "  </thead>\n",
              "  <tbody>\n",
              "    <tr>\n",
              "      <th>0</th>\n",
              "      <td>10</td>\n",
              "      <td>192</td>\n",
              "      <td>50</td>\n",
              "      <td>F</td>\n",
              "      <td>NXEYEM</td>\n",
              "      <td>[56$]</td>\n",
              "      <td>Asia</td>\n",
              "    </tr>\n",
              "    <tr>\n",
              "      <th>2</th>\n",
              "      <td>30</td>\n",
              "      <td>378</td>\n",
              "      <td>28</td>\n",
              "      <td>X</td>\n",
              "      <td>IMGMFY</td>\n",
              "      <td>[90$]</td>\n",
              "      <td>North America</td>\n",
              "    </tr>\n",
              "    <tr>\n",
              "      <th>4</th>\n",
              "      <td>50</td>\n",
              "      <td>468</td>\n",
              "      <td>33</td>\n",
              "      <td>J</td>\n",
              "      <td>HPQCMC</td>\n",
              "      <td>[95$]</td>\n",
              "      <td>Africa</td>\n",
              "    </tr>\n",
              "    <tr>\n",
              "      <th>6</th>\n",
              "      <td>70</td>\n",
              "      <td>327</td>\n",
              "      <td>24</td>\n",
              "      <td>F</td>\n",
              "      <td>NLVQPY</td>\n",
              "      <td>[25$]</td>\n",
              "      <td>Europe</td>\n",
              "    </tr>\n",
              "  </tbody>\n",
              "</table>\n",
              "</div>"
            ],
            "text/plain": [
              "   ID  Range  Value Type Zip Code   Cost      Continent\n",
              "0  10    192     50    F   NXEYEM  [56$]           Asia\n",
              "2  30    378     28    X   IMGMFY  [90$]  North America\n",
              "4  50    468     33    J   HPQCMC  [95$]         Africa\n",
              "6  70    327     24    F   NLVQPY  [25$]         Europe"
            ]
          },
          "metadata": {},
          "execution_count": 379
        }
      ]
    },
    {
      "cell_type": "markdown",
      "metadata": {
        "id": "t7cHS6Boj3zB"
      },
      "source": [
        "6 - Calculate the mean of ‘Range’ column."
      ]
    },
    {
      "cell_type": "code",
      "metadata": {
        "colab": {
          "base_uri": "https://localhost:8080/"
        },
        "id": "ImQFrR-djAkd",
        "outputId": "e5e62363-7702-4ca9-cb00-399bfb66e117"
      },
      "source": [
        "myDF.Range.mean() #()to get calculated value"
      ],
      "execution_count": null,
      "outputs": [
        {
          "output_type": "execute_result",
          "data": {
            "text/plain": [
              "297.53326293558604"
            ]
          },
          "metadata": {},
          "execution_count": 380
        }
      ]
    },
    {
      "cell_type": "markdown",
      "metadata": {
        "id": "uKA3wCMBkO4C"
      },
      "source": [
        "7 - How many ‘F’ do we have in the ‘Type’ column? Replace them permanently with ‘AAA’ and\n",
        "show the first 5 rows"
      ]
    },
    {
      "cell_type": "code",
      "metadata": {
        "colab": {
          "base_uri": "https://localhost:8080/"
        },
        "id": "PrMrhNy1kFRA",
        "outputId": "fdea8576-2b93-4dd9-cbf2-f01b762373fd"
      },
      "source": [
        "len(myDF.loc[myDF['Type'] == 'F'])\n",
        "#First checked all rows that have value F in Type. "
      ],
      "execution_count": null,
      "outputs": [
        {
          "output_type": "execute_result",
          "data": {
            "text/plain": [
              "50"
            ]
          },
          "metadata": {},
          "execution_count": 381
        }
      ]
    },
    {
      "cell_type": "code",
      "metadata": {
        "colab": {
          "base_uri": "https://localhost:8080/",
          "height": 206
        },
        "id": "-x_HqmxHt5Jh",
        "outputId": "d2f4f049-9382-4f9a-cda1-5154cf930db6"
      },
      "source": [
        "myDF.loc[myDF['Type'] == 'F'].replace(['F'],'AAA').head()\n",
        "#Once again selected all rows that had value F in Type. Replace the value F to AAA and called head for\n",
        "#the 5 first rows (head() by standard shows the first 5 rows)"
      ],
      "execution_count": null,
      "outputs": [
        {
          "output_type": "execute_result",
          "data": {
            "text/html": [
              "<div>\n",
              "<style scoped>\n",
              "    .dataframe tbody tr th:only-of-type {\n",
              "        vertical-align: middle;\n",
              "    }\n",
              "\n",
              "    .dataframe tbody tr th {\n",
              "        vertical-align: top;\n",
              "    }\n",
              "\n",
              "    .dataframe thead th {\n",
              "        text-align: right;\n",
              "    }\n",
              "</style>\n",
              "<table border=\"1\" class=\"dataframe\">\n",
              "  <thead>\n",
              "    <tr style=\"text-align: right;\">\n",
              "      <th></th>\n",
              "      <th>ID</th>\n",
              "      <th>Range</th>\n",
              "      <th>Value</th>\n",
              "      <th>Type</th>\n",
              "      <th>Zip Code</th>\n",
              "      <th>Cost</th>\n",
              "      <th>Continent</th>\n",
              "    </tr>\n",
              "  </thead>\n",
              "  <tbody>\n",
              "    <tr>\n",
              "      <th>0</th>\n",
              "      <td>10</td>\n",
              "      <td>192</td>\n",
              "      <td>50</td>\n",
              "      <td>AAA</td>\n",
              "      <td>NXEYEM</td>\n",
              "      <td>[56$]</td>\n",
              "      <td>Asia</td>\n",
              "    </tr>\n",
              "    <tr>\n",
              "      <th>6</th>\n",
              "      <td>70</td>\n",
              "      <td>327</td>\n",
              "      <td>24</td>\n",
              "      <td>AAA</td>\n",
              "      <td>NLVQPY</td>\n",
              "      <td>[25$]</td>\n",
              "      <td>Europe</td>\n",
              "    </tr>\n",
              "    <tr>\n",
              "      <th>12</th>\n",
              "      <td>130</td>\n",
              "      <td>345</td>\n",
              "      <td>16</td>\n",
              "      <td>AAA</td>\n",
              "      <td>BRUXMN</td>\n",
              "      <td>[41$]</td>\n",
              "      <td>Australia</td>\n",
              "    </tr>\n",
              "    <tr>\n",
              "      <th>15</th>\n",
              "      <td>160</td>\n",
              "      <td>188</td>\n",
              "      <td>13</td>\n",
              "      <td>AAA</td>\n",
              "      <td>QELSTQ</td>\n",
              "      <td>[16$]</td>\n",
              "      <td>Asia</td>\n",
              "    </tr>\n",
              "    <tr>\n",
              "      <th>30</th>\n",
              "      <td>310</td>\n",
              "      <td>170</td>\n",
              "      <td>41</td>\n",
              "      <td>AAA</td>\n",
              "      <td>DMDDCE</td>\n",
              "      <td>[90$]</td>\n",
              "      <td>Australia</td>\n",
              "    </tr>\n",
              "  </tbody>\n",
              "</table>\n",
              "</div>"
            ],
            "text/plain": [
              "     ID  Range  Value Type Zip Code   Cost  Continent\n",
              "0    10    192     50  AAA   NXEYEM  [56$]       Asia\n",
              "6    70    327     24  AAA   NLVQPY  [25$]     Europe\n",
              "12  130    345     16  AAA   BRUXMN  [41$]  Australia\n",
              "15  160    188     13  AAA   QELSTQ  [16$]       Asia\n",
              "30  310    170     41  AAA   DMDDCE  [90$]  Australia"
            ]
          },
          "metadata": {},
          "execution_count": 382
        }
      ]
    },
    {
      "cell_type": "markdown",
      "metadata": {
        "id": "Zuwxch0L14Xh"
      },
      "source": [
        "8 - Get rid of the [, $ and ] from the ‘Cost’ column permanently and display the first 5 rows. What is\n",
        "the type of ‘Cost’ column after this?"
      ]
    },
    {
      "cell_type": "code",
      "metadata": {
        "colab": {
          "base_uri": "https://localhost:8080/"
        },
        "id": "6hwHlmeY1gfh",
        "outputId": "cd372eac-5d0b-4d67-eeff-4a566fa1e55e"
      },
      "source": [
        "type('Cost')"
      ],
      "execution_count": null,
      "outputs": [
        {
          "output_type": "execute_result",
          "data": {
            "text/plain": [
              "str"
            ]
          },
          "metadata": {},
          "execution_count": 383
        }
      ]
    },
    {
      "cell_type": "code",
      "metadata": {
        "id": "2NNiowCA2FK-"
      },
      "source": [
        "myDF.Cost = myDF['Cost'].str.replace('[\\[\\]\\$\\,]','')"
      ],
      "execution_count": null,
      "outputs": []
    },
    {
      "cell_type": "code",
      "metadata": {
        "id": "lgp-16Sb3O1h",
        "colab": {
          "base_uri": "https://localhost:8080/",
          "height": 206
        },
        "outputId": "ac877514-abb4-4dc8-d7aa-a46786bbc553"
      },
      "source": [
        "myDF.head()"
      ],
      "execution_count": null,
      "outputs": [
        {
          "output_type": "execute_result",
          "data": {
            "text/html": [
              "<div>\n",
              "<style scoped>\n",
              "    .dataframe tbody tr th:only-of-type {\n",
              "        vertical-align: middle;\n",
              "    }\n",
              "\n",
              "    .dataframe tbody tr th {\n",
              "        vertical-align: top;\n",
              "    }\n",
              "\n",
              "    .dataframe thead th {\n",
              "        text-align: right;\n",
              "    }\n",
              "</style>\n",
              "<table border=\"1\" class=\"dataframe\">\n",
              "  <thead>\n",
              "    <tr style=\"text-align: right;\">\n",
              "      <th></th>\n",
              "      <th>ID</th>\n",
              "      <th>Range</th>\n",
              "      <th>Value</th>\n",
              "      <th>Type</th>\n",
              "      <th>Zip Code</th>\n",
              "      <th>Cost</th>\n",
              "      <th>Continent</th>\n",
              "    </tr>\n",
              "  </thead>\n",
              "  <tbody>\n",
              "    <tr>\n",
              "      <th>0</th>\n",
              "      <td>10</td>\n",
              "      <td>192</td>\n",
              "      <td>50</td>\n",
              "      <td>F</td>\n",
              "      <td>NXEYEM</td>\n",
              "      <td>56</td>\n",
              "      <td>Asia</td>\n",
              "    </tr>\n",
              "    <tr>\n",
              "      <th>2</th>\n",
              "      <td>30</td>\n",
              "      <td>378</td>\n",
              "      <td>28</td>\n",
              "      <td>X</td>\n",
              "      <td>IMGMFY</td>\n",
              "      <td>90</td>\n",
              "      <td>North America</td>\n",
              "    </tr>\n",
              "    <tr>\n",
              "      <th>4</th>\n",
              "      <td>50</td>\n",
              "      <td>468</td>\n",
              "      <td>33</td>\n",
              "      <td>J</td>\n",
              "      <td>HPQCMC</td>\n",
              "      <td>95</td>\n",
              "      <td>Africa</td>\n",
              "    </tr>\n",
              "    <tr>\n",
              "      <th>6</th>\n",
              "      <td>70</td>\n",
              "      <td>327</td>\n",
              "      <td>24</td>\n",
              "      <td>F</td>\n",
              "      <td>NLVQPY</td>\n",
              "      <td>25</td>\n",
              "      <td>Europe</td>\n",
              "    </tr>\n",
              "    <tr>\n",
              "      <th>7</th>\n",
              "      <td>80</td>\n",
              "      <td>495</td>\n",
              "      <td>50</td>\n",
              "      <td>Z</td>\n",
              "      <td>DLUMAX</td>\n",
              "      <td>70</td>\n",
              "      <td>Antarctica</td>\n",
              "    </tr>\n",
              "  </tbody>\n",
              "</table>\n",
              "</div>"
            ],
            "text/plain": [
              "   ID  Range  Value Type Zip Code Cost      Continent\n",
              "0  10    192     50    F   NXEYEM   56           Asia\n",
              "2  30    378     28    X   IMGMFY   90  North America\n",
              "4  50    468     33    J   HPQCMC   95         Africa\n",
              "6  70    327     24    F   NLVQPY   25         Europe\n",
              "7  80    495     50    Z   DLUMAX   70     Antarctica"
            ]
          },
          "metadata": {},
          "execution_count": 385
        }
      ]
    },
    {
      "cell_type": "code",
      "metadata": {
        "colab": {
          "base_uri": "https://localhost:8080/"
        },
        "id": "Oaeo5FmBCGct",
        "outputId": "8d67ebba-6a04-4fcd-b07f-939b7c8d09d0"
      },
      "source": [
        "myDF.dtypes"
      ],
      "execution_count": null,
      "outputs": [
        {
          "output_type": "execute_result",
          "data": {
            "text/plain": [
              "ID            int64\n",
              "Range         int64\n",
              "Value         int64\n",
              "Type         object\n",
              "Zip Code     object\n",
              "Cost         object\n",
              "Continent    object\n",
              "dtype: object"
            ]
          },
          "metadata": {},
          "execution_count": 386
        }
      ]
    },
    {
      "cell_type": "markdown",
      "metadata": {
        "id": "fpNFxXG_9qoA"
      },
      "source": [
        "9 -  Change the ‘Cost’ column data type to integer and display the result."
      ]
    },
    {
      "cell_type": "code",
      "metadata": {
        "id": "cekm7k_97V9_"
      },
      "source": [
        "myDF['Cost'] = myDF['Cost'].fillna(0)\n",
        "#Tried to convert to int, but got an error due to NA values\n",
        "#So I had to first convert all NA values into 0."
      ],
      "execution_count": null,
      "outputs": []
    },
    {
      "cell_type": "code",
      "metadata": {
        "colab": {
          "base_uri": "https://localhost:8080/"
        },
        "id": "wZg5gM97-k4f",
        "outputId": "f0572029-0365-4fd3-c0a3-02fbf4ef0567"
      },
      "source": [
        "myDF['Cost'] = myDF['Cost'].astype(int)\n",
        "myDF.dtypes\n",
        "#Once I had all NA values filled, I converted de dtype of Cost to Int"
      ],
      "execution_count": null,
      "outputs": [
        {
          "output_type": "execute_result",
          "data": {
            "text/plain": [
              "ID            int64\n",
              "Range         int64\n",
              "Value         int64\n",
              "Type         object\n",
              "Zip Code     object\n",
              "Cost          int64\n",
              "Continent    object\n",
              "dtype: object"
            ]
          },
          "metadata": {},
          "execution_count": 388
        }
      ]
    },
    {
      "cell_type": "markdown",
      "metadata": {
        "id": "4V2klPDSA7wu"
      },
      "source": [
        "10 - Calculate the average of ‘Cost’ column. Then, calculate the average of ‘Cost’ for each\n",
        "‘Continent’."
      ]
    },
    {
      "cell_type": "code",
      "metadata": {
        "colab": {
          "base_uri": "https://localhost:8080/"
        },
        "id": "yH0uDyP5-oqv",
        "outputId": "5aacb6f7-97a3-4138-963b-33c6e98937ba"
      },
      "source": [
        "myDF.groupby('Continent').Cost.mean()"
      ],
      "execution_count": null,
      "outputs": [
        {
          "output_type": "execute_result",
          "data": {
            "text/plain": [
              "Continent\n",
              "Africa           54.741259\n",
              "Antarctica       54.706897\n",
              "Asia             54.279070\n",
              "Australia        56.838028\n",
              "Europe           53.258993\n",
              "North America    55.006993\n",
              "South America    53.162963\n",
              "Name: Cost, dtype: float64"
            ]
          },
          "metadata": {},
          "execution_count": 389
        }
      ]
    },
    {
      "cell_type": "markdown",
      "metadata": {
        "id": "uup7GWE-Jv3u"
      },
      "source": [
        "11 - Calculate the min, max and standard deviation of the ‘Cost’ column, group by each ‘Continent’,\n",
        "all in one command."
      ]
    },
    {
      "cell_type": "code",
      "metadata": {
        "colab": {
          "base_uri": "https://localhost:8080/",
          "height": 300
        },
        "id": "T-L_-THLI4hA",
        "outputId": "a43fb2ab-b5d5-4be8-bf73-4c6784111052"
      },
      "source": [
        "myDF.groupby('Continent').Cost.agg(['min','max','mean'])\n",
        "#use agg to be able to call them all at once and display the results on a 'new' table"
      ],
      "execution_count": null,
      "outputs": [
        {
          "output_type": "execute_result",
          "data": {
            "text/html": [
              "<div>\n",
              "<style scoped>\n",
              "    .dataframe tbody tr th:only-of-type {\n",
              "        vertical-align: middle;\n",
              "    }\n",
              "\n",
              "    .dataframe tbody tr th {\n",
              "        vertical-align: top;\n",
              "    }\n",
              "\n",
              "    .dataframe thead th {\n",
              "        text-align: right;\n",
              "    }\n",
              "</style>\n",
              "<table border=\"1\" class=\"dataframe\">\n",
              "  <thead>\n",
              "    <tr style=\"text-align: right;\">\n",
              "      <th></th>\n",
              "      <th>min</th>\n",
              "      <th>max</th>\n",
              "      <th>mean</th>\n",
              "    </tr>\n",
              "    <tr>\n",
              "      <th>Continent</th>\n",
              "      <th></th>\n",
              "      <th></th>\n",
              "      <th></th>\n",
              "    </tr>\n",
              "  </thead>\n",
              "  <tbody>\n",
              "    <tr>\n",
              "      <th>Africa</th>\n",
              "      <td>11</td>\n",
              "      <td>97</td>\n",
              "      <td>54.741259</td>\n",
              "    </tr>\n",
              "    <tr>\n",
              "      <th>Antarctica</th>\n",
              "      <td>10</td>\n",
              "      <td>97</td>\n",
              "      <td>54.706897</td>\n",
              "    </tr>\n",
              "    <tr>\n",
              "      <th>Asia</th>\n",
              "      <td>10</td>\n",
              "      <td>99</td>\n",
              "      <td>54.279070</td>\n",
              "    </tr>\n",
              "    <tr>\n",
              "      <th>Australia</th>\n",
              "      <td>10</td>\n",
              "      <td>97</td>\n",
              "      <td>56.838028</td>\n",
              "    </tr>\n",
              "    <tr>\n",
              "      <th>Europe</th>\n",
              "      <td>10</td>\n",
              "      <td>99</td>\n",
              "      <td>53.258993</td>\n",
              "    </tr>\n",
              "    <tr>\n",
              "      <th>North America</th>\n",
              "      <td>10</td>\n",
              "      <td>99</td>\n",
              "      <td>55.006993</td>\n",
              "    </tr>\n",
              "    <tr>\n",
              "      <th>South America</th>\n",
              "      <td>10</td>\n",
              "      <td>98</td>\n",
              "      <td>53.162963</td>\n",
              "    </tr>\n",
              "  </tbody>\n",
              "</table>\n",
              "</div>"
            ],
            "text/plain": [
              "               min  max       mean\n",
              "Continent                         \n",
              "Africa          11   97  54.741259\n",
              "Antarctica      10   97  54.706897\n",
              "Asia            10   99  54.279070\n",
              "Australia       10   97  56.838028\n",
              "Europe          10   99  53.258993\n",
              "North America   10   99  55.006993\n",
              "South America   10   98  53.162963"
            ]
          },
          "metadata": {},
          "execution_count": 390
        }
      ]
    },
    {
      "cell_type": "markdown",
      "metadata": {
        "id": "PFU8DUIUKYYu"
      },
      "source": [
        "12 - Calculate the min, max and standard deviation of all numerical columns, group by each\n",
        "‘Continent’, all in one command."
      ]
    },
    {
      "cell_type": "code",
      "metadata": {
        "colab": {
          "base_uri": "https://localhost:8080/",
          "height": 332
        },
        "id": "t4U5GjI_rR0T",
        "outputId": "546dc3e6-205e-4e33-c213-18ba2656776d"
      },
      "source": [
        "myDF.groupby('Continent').agg(['min','max','mean'])"
      ],
      "execution_count": null,
      "outputs": [
        {
          "output_type": "execute_result",
          "data": {
            "text/html": [
              "<div>\n",
              "<style scoped>\n",
              "    .dataframe tbody tr th:only-of-type {\n",
              "        vertical-align: middle;\n",
              "    }\n",
              "\n",
              "    .dataframe tbody tr th {\n",
              "        vertical-align: top;\n",
              "    }\n",
              "\n",
              "    .dataframe thead tr th {\n",
              "        text-align: left;\n",
              "    }\n",
              "\n",
              "    .dataframe thead tr:last-of-type th {\n",
              "        text-align: right;\n",
              "    }\n",
              "</style>\n",
              "<table border=\"1\" class=\"dataframe\">\n",
              "  <thead>\n",
              "    <tr>\n",
              "      <th></th>\n",
              "      <th colspan=\"3\" halign=\"left\">ID</th>\n",
              "      <th colspan=\"3\" halign=\"left\">Range</th>\n",
              "      <th colspan=\"3\" halign=\"left\">Value</th>\n",
              "      <th colspan=\"3\" halign=\"left\">Cost</th>\n",
              "    </tr>\n",
              "    <tr>\n",
              "      <th></th>\n",
              "      <th>min</th>\n",
              "      <th>max</th>\n",
              "      <th>mean</th>\n",
              "      <th>min</th>\n",
              "      <th>max</th>\n",
              "      <th>mean</th>\n",
              "      <th>min</th>\n",
              "      <th>max</th>\n",
              "      <th>mean</th>\n",
              "      <th>min</th>\n",
              "      <th>max</th>\n",
              "      <th>mean</th>\n",
              "    </tr>\n",
              "    <tr>\n",
              "      <th>Continent</th>\n",
              "      <th></th>\n",
              "      <th></th>\n",
              "      <th></th>\n",
              "      <th></th>\n",
              "      <th></th>\n",
              "      <th></th>\n",
              "      <th></th>\n",
              "      <th></th>\n",
              "      <th></th>\n",
              "      <th></th>\n",
              "      <th></th>\n",
              "      <th></th>\n",
              "    </tr>\n",
              "  </thead>\n",
              "  <tbody>\n",
              "    <tr>\n",
              "      <th>Africa</th>\n",
              "      <td>50</td>\n",
              "      <td>9450</td>\n",
              "      <td>4797.692308</td>\n",
              "      <td>100</td>\n",
              "      <td>494</td>\n",
              "      <td>282.475524</td>\n",
              "      <td>10</td>\n",
              "      <td>50</td>\n",
              "      <td>30.517483</td>\n",
              "      <td>11</td>\n",
              "      <td>97</td>\n",
              "      <td>54.741259</td>\n",
              "    </tr>\n",
              "    <tr>\n",
              "      <th>Antarctica</th>\n",
              "      <td>80</td>\n",
              "      <td>9370</td>\n",
              "      <td>4569.310345</td>\n",
              "      <td>106</td>\n",
              "      <td>495</td>\n",
              "      <td>288.698276</td>\n",
              "      <td>10</td>\n",
              "      <td>50</td>\n",
              "      <td>30.344828</td>\n",
              "      <td>10</td>\n",
              "      <td>97</td>\n",
              "      <td>54.706897</td>\n",
              "    </tr>\n",
              "    <tr>\n",
              "      <th>Asia</th>\n",
              "      <td>10</td>\n",
              "      <td>9390</td>\n",
              "      <td>4334.031008</td>\n",
              "      <td>103</td>\n",
              "      <td>499</td>\n",
              "      <td>284.914729</td>\n",
              "      <td>10</td>\n",
              "      <td>50</td>\n",
              "      <td>26.775194</td>\n",
              "      <td>10</td>\n",
              "      <td>99</td>\n",
              "      <td>54.279070</td>\n",
              "    </tr>\n",
              "    <tr>\n",
              "      <th>Australia</th>\n",
              "      <td>120</td>\n",
              "      <td>9410</td>\n",
              "      <td>4677.323944</td>\n",
              "      <td>104</td>\n",
              "      <td>496</td>\n",
              "      <td>305.894366</td>\n",
              "      <td>10</td>\n",
              "      <td>50</td>\n",
              "      <td>30.063380</td>\n",
              "      <td>10</td>\n",
              "      <td>97</td>\n",
              "      <td>56.838028</td>\n",
              "    </tr>\n",
              "    <tr>\n",
              "      <th>Europe</th>\n",
              "      <td>70</td>\n",
              "      <td>9480</td>\n",
              "      <td>5078.848921</td>\n",
              "      <td>101</td>\n",
              "      <td>500</td>\n",
              "      <td>320.338129</td>\n",
              "      <td>10</td>\n",
              "      <td>50</td>\n",
              "      <td>31.712230</td>\n",
              "      <td>10</td>\n",
              "      <td>99</td>\n",
              "      <td>53.258993</td>\n",
              "    </tr>\n",
              "    <tr>\n",
              "      <th>North America</th>\n",
              "      <td>30</td>\n",
              "      <td>9490</td>\n",
              "      <td>4906.783217</td>\n",
              "      <td>104</td>\n",
              "      <td>500</td>\n",
              "      <td>299.832168</td>\n",
              "      <td>11</td>\n",
              "      <td>50</td>\n",
              "      <td>29.790210</td>\n",
              "      <td>10</td>\n",
              "      <td>99</td>\n",
              "      <td>55.006993</td>\n",
              "    </tr>\n",
              "    <tr>\n",
              "      <th>South America</th>\n",
              "      <td>90</td>\n",
              "      <td>9500</td>\n",
              "      <td>4963.851852</td>\n",
              "      <td>104</td>\n",
              "      <td>499</td>\n",
              "      <td>298.422222</td>\n",
              "      <td>10</td>\n",
              "      <td>50</td>\n",
              "      <td>30.133333</td>\n",
              "      <td>10</td>\n",
              "      <td>98</td>\n",
              "      <td>53.162963</td>\n",
              "    </tr>\n",
              "  </tbody>\n",
              "</table>\n",
              "</div>"
            ],
            "text/plain": [
              "                ID                    Range  ...      Value Cost               \n",
              "               min   max         mean   min  ...       mean  min max       mean\n",
              "Continent                                    ...                               \n",
              "Africa          50  9450  4797.692308   100  ...  30.517483   11  97  54.741259\n",
              "Antarctica      80  9370  4569.310345   106  ...  30.344828   10  97  54.706897\n",
              "Asia            10  9390  4334.031008   103  ...  26.775194   10  99  54.279070\n",
              "Australia      120  9410  4677.323944   104  ...  30.063380   10  97  56.838028\n",
              "Europe          70  9480  5078.848921   101  ...  31.712230   10  99  53.258993\n",
              "North America   30  9490  4906.783217   104  ...  29.790210   10  99  55.006993\n",
              "South America   90  9500  4963.851852   104  ...  30.133333   10  98  53.162963\n",
              "\n",
              "[7 rows x 12 columns]"
            ]
          },
          "metadata": {},
          "execution_count": 391
        }
      ]
    },
    {
      "cell_type": "markdown",
      "metadata": {
        "id": "waFqzKSgsaE_"
      },
      "source": [
        "13 - . Illustrate the mean of all numerical columns, group by the ‘Continent’, using a ‘bar’ chart"
      ]
    },
    {
      "cell_type": "code",
      "metadata": {
        "id": "YYGeXjp-rc0X"
      },
      "source": [
        "%matplotlib inline\n",
        "#Start by calling matplot inline to be able to create the bar chart"
      ],
      "execution_count": null,
      "outputs": []
    },
    {
      "cell_type": "code",
      "metadata": {
        "colab": {
          "base_uri": "https://localhost:8080/",
          "height": 361
        },
        "id": "Qj3HvutIsrsw",
        "outputId": "e879b4ad-b48c-4be0-b819-98f8ae4c9d96"
      },
      "source": [
        "myDF.groupby('Continent').mean().plot(kind='bar')"
      ],
      "execution_count": null,
      "outputs": [
        {
          "output_type": "execute_result",
          "data": {
            "text/plain": [
              "<matplotlib.axes._subplots.AxesSubplot at 0x7fa3c10b4cd0>"
            ]
          },
          "metadata": {},
          "execution_count": 393
        },
        {
          "output_type": "display_data",
          "data": {
            "image/png": "[encoded data removed]",
            "text/plain": [
              "<Figure size 432x288 with 1 Axes>"
            ]
          },
          "metadata": {
            "needs_background": "light"
          }
        }
      ]
    },
    {
      "cell_type": "markdown",
      "metadata": {
        "id": "BR3rg2fptDYs"
      },
      "source": [
        "14 - Count the number of each continent in the ‘Continent’ column"
      ]
    },
    {
      "cell_type": "code",
      "metadata": {
        "colab": {
          "base_uri": "https://localhost:8080/"
        },
        "id": "k0kAkTtWtIPF",
        "outputId": "e5982702-9c7a-49fc-818a-19c4685a57d9"
      },
      "source": [
        "myDF.Continent.value_counts()\n",
        "#Value count will show how many times each continent appears in the database"
      ],
      "execution_count": null,
      "outputs": [
        {
          "output_type": "execute_result",
          "data": {
            "text/plain": [
              "Africa           143\n",
              "North America    143\n",
              "Australia        142\n",
              "Europe           139\n",
              "South America    135\n",
              "Asia             129\n",
              "Antarctica       116\n",
              "Name: Continent, dtype: int64"
            ]
          },
          "metadata": {},
          "execution_count": 394
        }
      ]
    },
    {
      "cell_type": "markdown",
      "metadata": {
        "id": "glm-ERfqtnAy"
      },
      "source": [
        "15 - Show the percentage of each continent in the ‘Continent’ column. "
      ]
    },
    {
      "cell_type": "code",
      "metadata": {
        "colab": {
          "base_uri": "https://localhost:8080/"
        },
        "id": "5QIYOA4UtT0m",
        "outputId": "07a8fdde-0f6e-4667-aafe-33688f2232f3"
      },
      "source": [
        "myDF.Continent.value_counts(normalize=True)\n",
        "#Adding normalize = True, gives us the % of times each continent appears"
      ],
      "execution_count": null,
      "outputs": [
        {
          "output_type": "execute_result",
          "data": {
            "text/plain": [
              "Africa           0.151003\n",
              "North America    0.151003\n",
              "Australia        0.149947\n",
              "Europe           0.146779\n",
              "South America    0.142555\n",
              "Asia             0.136220\n",
              "Antarctica       0.122492\n",
              "Name: Continent, dtype: float64"
            ]
          },
          "metadata": {},
          "execution_count": 395
        }
      ]
    },
    {
      "cell_type": "markdown",
      "metadata": {
        "id": "gg0gxboMt044"
      },
      "source": [
        "16 - Show the unique values that we have in the ‘Continent’ column. Then show the number of unique\n",
        "values that we have in the ‘Continent’ column"
      ]
    },
    {
      "cell_type": "code",
      "metadata": {
        "colab": {
          "base_uri": "https://localhost:8080/"
        },
        "id": "mDjt4B5Tts91",
        "outputId": "508be77b-f451-4719-b97e-a71f4ba4e191"
      },
      "source": [
        "myDF.Continent.unique()\n",
        "#Command unique() will give you the name of each unique value in the specified column"
      ],
      "execution_count": null,
      "outputs": [
        {
          "output_type": "execute_result",
          "data": {
            "text/plain": [
              "array(['Asia', 'North America', 'Africa', 'Europe', 'Antarctica',\n",
              "       'South America', 'Australia'], dtype=object)"
            ]
          },
          "metadata": {},
          "execution_count": 396
        }
      ]
    },
    {
      "cell_type": "code",
      "metadata": {
        "colab": {
          "base_uri": "https://localhost:8080/"
        },
        "id": "mOR2AY93uDRW",
        "outputId": "2c4fb61d-99cf-40f7-e442-a3df60ed09d7"
      },
      "source": [
        "myDF.Continent.nunique()\n",
        "#Command nunique will give you the number of unique values in the specified column"
      ],
      "execution_count": null,
      "outputs": [
        {
          "output_type": "execute_result",
          "data": {
            "text/plain": [
              "7"
            ]
          },
          "metadata": {},
          "execution_count": 397
        }
      ]
    },
    {
      "cell_type": "markdown",
      "metadata": {
        "id": "XdT0Mi8LuWIL"
      },
      "source": [
        "17 - Use the value_count method for the ‘Cost’ column and describe the output as a comment in the\n",
        "next cell, using the # for the comment."
      ]
    },
    {
      "cell_type": "code",
      "metadata": {
        "colab": {
          "base_uri": "https://localhost:8080/"
        },
        "id": "zlJFYFW5uOBf",
        "outputId": "49c1899e-27ad-430b-bece-3615193314f4"
      },
      "source": [
        "myDF.Cost.value_counts()\n",
        "#Shows how many times each number appeared in the column Cost. The first column is the variable present in the database, \n",
        "#The second column shows the number of times that number appears in the database. As we can see, the number 35 is shown 20 times in this specific dataset"
      ],
      "execution_count": null,
      "outputs": [
        {
          "output_type": "execute_result",
          "data": {
            "text/plain": [
              "35    20\n",
              "56    20\n",
              "73    18\n",
              "54    17\n",
              "97    17\n",
              "      ..\n",
              "77     5\n",
              "92     5\n",
              "94     5\n",
              "42     3\n",
              "24     2\n",
              "Name: Cost, Length: 90, dtype: int64"
            ]
          },
          "metadata": {},
          "execution_count": 398
        }
      ]
    },
    {
      "cell_type": "markdown",
      "metadata": {
        "id": "hRcQlDAFu670"
      },
      "source": [
        "18 - Plot a histogram for the ‘Cost’ column. "
      ]
    },
    {
      "cell_type": "code",
      "metadata": {
        "colab": {
          "base_uri": "https://localhost:8080/",
          "height": 284
        },
        "id": "8DH_a7sIuf6Z",
        "outputId": "b1fd529d-7f1c-4f45-c0e9-87ecc7a23b4a"
      },
      "source": [
        "myDF.Cost.plot(kind='hist')"
      ],
      "execution_count": null,
      "outputs": [
        {
          "output_type": "execute_result",
          "data": {
            "text/plain": [
              "<matplotlib.axes._subplots.AxesSubplot at 0x7fa3c0fe3710>"
            ]
          },
          "metadata": {},
          "execution_count": 399
        },
        {
          "output_type": "display_data",
          "data": {
            "image/png": "[encoded data removed]",
            "text/plain": [
              "<Figure size 432x288 with 1 Axes>"
            ]
          },
          "metadata": {
            "needs_background": "light"
          }
        }
      ]
    },
    {
      "cell_type": "markdown",
      "metadata": {
        "id": "BBlM_bOkvGga"
      },
      "source": [
        "19 - Bonus question: Try to change the number of bins to 50 to show the result more accurately.\n"
      ]
    },
    {
      "cell_type": "code",
      "metadata": {
        "colab": {
          "base_uri": "https://localhost:8080/",
          "height": 284
        },
        "id": "vmCf-CBhvFd4",
        "outputId": "d397fe12-c0ab-4827-9301-51d2c21b8947"
      },
      "source": [
        "myDF.Cost.value_counts(50).plot(kind='hist')\n",
        "#Not completely sure if that's what you wanted Professor Reza =/"
      ],
      "execution_count": null,
      "outputs": [
        {
          "output_type": "execute_result",
          "data": {
            "text/plain": [
              "<matplotlib.axes._subplots.AxesSubplot at 0x7fa3c0f57e50>"
            ]
          },
          "metadata": {},
          "execution_count": 400
        },
        {
          "output_type": "display_data",
          "data": {
            "image/png": "[encoded data removed]",
            "text/plain": [
              "<Figure size 432x288 with 1 Axes>"
            ]
          },
          "metadata": {
            "needs_background": "light"
          }
        }
      ]
    },
    {
      "cell_type": "markdown",
      "metadata": {
        "id": "ru3EMb01vgFx"
      },
      "source": [
        "20 - How many missing values do we have in the ‘Zip Code’ column? How many missing values in\n",
        "the ‘Type’ column? Provide a brief summary of null values for the entire Data Frame"
      ]
    },
    {
      "cell_type": "code",
      "metadata": {
        "colab": {
          "base_uri": "https://localhost:8080/"
        },
        "id": "ZFS-g_1ivYqg",
        "outputId": "968aea54-388d-48bc-c09b-382329f54e4f"
      },
      "source": [
        "myDF['Zip Code'].isnull().sum(axis=0)\n",
        "#Called the sum() of isnull() function for Zip Code Column"
      ],
      "execution_count": null,
      "outputs": [
        {
          "output_type": "execute_result",
          "data": {
            "text/plain": [
              "9"
            ]
          },
          "metadata": {},
          "execution_count": 401
        }
      ]
    },
    {
      "cell_type": "code",
      "metadata": {
        "colab": {
          "base_uri": "https://localhost:8080/"
        },
        "id": "vVMpEA2nxoCA",
        "outputId": "63d1f680-45d0-43e9-bf41-1588a742e0d8"
      },
      "source": [
        "myDF.Type.isnull().sum(axis=0)\n",
        "#Called the sum() of isnull() function for Type Column"
      ],
      "execution_count": null,
      "outputs": [
        {
          "output_type": "execute_result",
          "data": {
            "text/plain": [
              "2"
            ]
          },
          "metadata": {},
          "execution_count": 402
        }
      ]
    },
    {
      "cell_type": "code",
      "metadata": {
        "colab": {
          "base_uri": "https://localhost:8080/"
        },
        "id": "82Jx1Cmtx5jK",
        "outputId": "b0a31d82-d45d-4330-81b4-c70f88d07bae"
      },
      "source": [
        "myDF.isnull().sum(axis=0)\n",
        "#Called the sum of isnull for the whole dataset. Getting as a result the name of the columns and how many NA's I have per column"
      ],
      "execution_count": null,
      "outputs": [
        {
          "output_type": "execute_result",
          "data": {
            "text/plain": [
              "ID           0\n",
              "Range        0\n",
              "Value        0\n",
              "Type         2\n",
              "Zip Code     9\n",
              "Cost         0\n",
              "Continent    0\n",
              "dtype: int64"
            ]
          },
          "metadata": {},
          "execution_count": 403
        }
      ]
    },
    {
      "cell_type": "markdown",
      "metadata": {
        "id": "SN4DG-PnyNrD"
      },
      "source": [
        "21 - If we drop all the rows that have ‘any’ missing value, how many rows will remain in myDF?"
      ]
    },
    {
      "cell_type": "code",
      "metadata": {
        "colab": {
          "base_uri": "https://localhost:8080/"
        },
        "id": "YWQ-xdCsyAvY",
        "outputId": "0712aa1d-62f0-4c61-eef4-60d6bb580f75"
      },
      "source": [
        "myDF.shape\n",
        "#Called .shape to see how many columns and rows we have. Result of 7 columns and 947 rows. \n",
        "#Deducting the 11 rows that cointain NA optained on previous code, we would be left with 936 rows"
      ],
      "execution_count": null,
      "outputs": [
        {
          "output_type": "execute_result",
          "data": {
            "text/plain": [
              "(947, 7)"
            ]
          },
          "metadata": {},
          "execution_count": 404
        }
      ]
    },
    {
      "cell_type": "markdown",
      "metadata": {
        "id": "fU1lTSQvy40n"
      },
      "source": [
        "22 - Show the statistics for the ‘Type’ column using the value_count method, including the NaN\n",
        "values in the list. How many missing values do we have?"
      ]
    },
    {
      "cell_type": "code",
      "metadata": {
        "colab": {
          "base_uri": "https://localhost:8080/"
        },
        "id": "8vJJLK2hybIn",
        "outputId": "aa7b8ec8-7871-4474-d33c-79f65359957f"
      },
      "source": [
        "myDF['Type'].value_counts(dropna=False)\n",
        "#By default this code drops the NA values, so we have to request it to be presented by adding dropna=False\n",
        "#The Type column has 2 rows with missing values"
      ],
      "execution_count": null,
      "outputs": [
        {
          "output_type": "execute_result",
          "data": {
            "text/plain": [
              "F      50\n",
              "N      47\n",
              "Q      44\n",
              "Z      44\n",
              "C      43\n",
              "V      41\n",
              "K      41\n",
              "A      40\n",
              "H      39\n",
              "Y      39\n",
              "G      38\n",
              "M      37\n",
              "X      37\n",
              "U      36\n",
              "O      36\n",
              "L      35\n",
              "J      35\n",
              "S      34\n",
              "I      33\n",
              "W      32\n",
              "D      30\n",
              "B      29\n",
              "P      28\n",
              "T      28\n",
              "R      25\n",
              "E      24\n",
              "NaN     2\n",
              "Name: Type, dtype: int64"
            ]
          },
          "metadata": {},
          "execution_count": 405
        }
      ]
    },
    {
      "cell_type": "markdown",
      "metadata": {
        "id": "apl87Qs6ziTd"
      },
      "source": [
        "23 - Replace the ‘Type’ column missing values with ‘XXX’ and show the result again"
      ]
    },
    {
      "cell_type": "code",
      "metadata": {
        "id": "xs5Z8i92zQDj"
      },
      "source": [
        "myDF['Type'].fillna(value='XXX', inplace = True)"
      ],
      "execution_count": null,
      "outputs": []
    },
    {
      "cell_type": "code",
      "metadata": {
        "colab": {
          "base_uri": "https://localhost:8080/"
        },
        "id": "34lpe_sszy2L",
        "outputId": "8f9ad76d-a874-44b5-f9b7-a801780fa286"
      },
      "source": [
        "myDF['Type'].value_counts(dropna=False)\n",
        "#Now instead of having 2 rows with NA values, we have 2 rows with XXX value"
      ],
      "execution_count": null,
      "outputs": [
        {
          "output_type": "execute_result",
          "data": {
            "text/plain": [
              "F      50\n",
              "N      47\n",
              "Q      44\n",
              "Z      44\n",
              "C      43\n",
              "V      41\n",
              "K      41\n",
              "A      40\n",
              "Y      39\n",
              "H      39\n",
              "G      38\n",
              "M      37\n",
              "X      37\n",
              "U      36\n",
              "O      36\n",
              "L      35\n",
              "J      35\n",
              "S      34\n",
              "I      33\n",
              "W      32\n",
              "D      30\n",
              "B      29\n",
              "P      28\n",
              "T      28\n",
              "R      25\n",
              "E      24\n",
              "XXX     2\n",
              "Name: Type, dtype: int64"
            ]
          },
          "metadata": {},
          "execution_count": 407
        }
      ]
    },
    {
      "cell_type": "markdown",
      "metadata": {
        "id": "mFQrxy8cz7Hm"
      },
      "source": [
        "24 - Drop the rows that have any missing value permanently and show the number of rows after\n",
        "running the drop command.\n"
      ]
    },
    {
      "cell_type": "code",
      "metadata": {
        "id": "ACHHiCa2z6fb"
      },
      "source": [
        "myDF.dropna(how='any', inplace = True)\n",
        "#Drops 9 rows since the 2 rows from Type column where transformed into XXX"
      ],
      "execution_count": null,
      "outputs": []
    },
    {
      "cell_type": "code",
      "metadata": {
        "colab": {
          "base_uri": "https://localhost:8080/"
        },
        "id": "gYNZ6K8A0Kea",
        "outputId": "0c8ff0e8-c8ca-422c-83f8-af9225d80f4c"
      },
      "source": [
        "myDF.shape"
      ],
      "execution_count": null,
      "outputs": [
        {
          "output_type": "execute_result",
          "data": {
            "text/plain": [
              "(938, 7)"
            ]
          },
          "metadata": {},
          "execution_count": 409
        }
      ]
    },
    {
      "cell_type": "markdown",
      "metadata": {
        "id": "1OP4SSaz0TbV"
      },
      "source": [
        "25 - Set the ‘ID’ column as the new index and delete the index name. Then show the first 5 rows of\n",
        "the DF. Show the value of the cell that its ID is 70 and its column header is ‘Value’"
      ]
    },
    {
      "cell_type": "code",
      "metadata": {
        "id": "-3stB6TD0MCO"
      },
      "source": [
        "myDF.set_index('ID',inplace= True)\n",
        "#Changing the index permanently to ID"
      ],
      "execution_count": null,
      "outputs": []
    },
    {
      "cell_type": "code",
      "metadata": {
        "colab": {
          "base_uri": "https://localhost:8080/",
          "height": 237
        },
        "id": "KGsSS5pa0eHH",
        "outputId": "7daac7db-3963-48c3-90f8-af13e8f62e22"
      },
      "source": [
        "myDF.head()"
      ],
      "execution_count": null,
      "outputs": [
        {
          "output_type": "execute_result",
          "data": {
            "text/html": [
              "<div>\n",
              "<style scoped>\n",
              "    .dataframe tbody tr th:only-of-type {\n",
              "        vertical-align: middle;\n",
              "    }\n",
              "\n",
              "    .dataframe tbody tr th {\n",
              "        vertical-align: top;\n",
              "    }\n",
              "\n",
              "    .dataframe thead th {\n",
              "        text-align: right;\n",
              "    }\n",
              "</style>\n",
              "<table border=\"1\" class=\"dataframe\">\n",
              "  <thead>\n",
              "    <tr style=\"text-align: right;\">\n",
              "      <th></th>\n",
              "      <th>Range</th>\n",
              "      <th>Value</th>\n",
              "      <th>Type</th>\n",
              "      <th>Zip Code</th>\n",
              "      <th>Cost</th>\n",
              "      <th>Continent</th>\n",
              "    </tr>\n",
              "    <tr>\n",
              "      <th>ID</th>\n",
              "      <th></th>\n",
              "      <th></th>\n",
              "      <th></th>\n",
              "      <th></th>\n",
              "      <th></th>\n",
              "      <th></th>\n",
              "    </tr>\n",
              "  </thead>\n",
              "  <tbody>\n",
              "    <tr>\n",
              "      <th>10</th>\n",
              "      <td>192</td>\n",
              "      <td>50</td>\n",
              "      <td>F</td>\n",
              "      <td>NXEYEM</td>\n",
              "      <td>56</td>\n",
              "      <td>Asia</td>\n",
              "    </tr>\n",
              "    <tr>\n",
              "      <th>30</th>\n",
              "      <td>378</td>\n",
              "      <td>28</td>\n",
              "      <td>X</td>\n",
              "      <td>IMGMFY</td>\n",
              "      <td>90</td>\n",
              "      <td>North America</td>\n",
              "    </tr>\n",
              "    <tr>\n",
              "      <th>50</th>\n",
              "      <td>468</td>\n",
              "      <td>33</td>\n",
              "      <td>J</td>\n",
              "      <td>HPQCMC</td>\n",
              "      <td>95</td>\n",
              "      <td>Africa</td>\n",
              "    </tr>\n",
              "    <tr>\n",
              "      <th>70</th>\n",
              "      <td>327</td>\n",
              "      <td>24</td>\n",
              "      <td>F</td>\n",
              "      <td>NLVQPY</td>\n",
              "      <td>25</td>\n",
              "      <td>Europe</td>\n",
              "    </tr>\n",
              "    <tr>\n",
              "      <th>80</th>\n",
              "      <td>495</td>\n",
              "      <td>50</td>\n",
              "      <td>Z</td>\n",
              "      <td>DLUMAX</td>\n",
              "      <td>70</td>\n",
              "      <td>Antarctica</td>\n",
              "    </tr>\n",
              "  </tbody>\n",
              "</table>\n",
              "</div>"
            ],
            "text/plain": [
              "    Range  Value Type Zip Code  Cost      Continent\n",
              "ID                                                 \n",
              "10    192     50    F   NXEYEM    56           Asia\n",
              "30    378     28    X   IMGMFY    90  North America\n",
              "50    468     33    J   HPQCMC    95         Africa\n",
              "70    327     24    F   NLVQPY    25         Europe\n",
              "80    495     50    Z   DLUMAX    70     Antarctica"
            ]
          },
          "metadata": {},
          "execution_count": 411
        }
      ]
    },
    {
      "cell_type": "code",
      "metadata": {
        "colab": {
          "base_uri": "https://localhost:8080/"
        },
        "id": "3WU7v1Fq0tnF",
        "outputId": "bb8877ae-5a64-42c0-abbf-c997dfdd24fc"
      },
      "source": [
        "myDF.loc[70,'Value']\n",
        "#Call for location index 70 and colum Value"
      ],
      "execution_count": null,
      "outputs": [
        {
          "output_type": "execute_result",
          "data": {
            "text/plain": [
              "24"
            ]
          },
          "metadata": {},
          "execution_count": 412
        }
      ]
    },
    {
      "cell_type": "markdown",
      "metadata": {
        "id": "d9KqiY9a1KHR"
      },
      "source": [
        "26 - Show the index, columns and the shape of the current DF. Bring back the ID column to the DF\n",
        "and reset the index. Again, show the index, columns and the shape of the current DF"
      ]
    },
    {
      "cell_type": "code",
      "metadata": {
        "colab": {
          "base_uri": "https://localhost:8080/",
          "height": 237
        },
        "id": "cXL1Z_Mp03ad",
        "outputId": "6e0c5ae1-3642-4bb9-ad23-b4011fd356d7"
      },
      "source": [
        "myDF.head()"
      ],
      "execution_count": null,
      "outputs": [
        {
          "output_type": "execute_result",
          "data": {
            "text/html": [
              "<div>\n",
              "<style scoped>\n",
              "    .dataframe tbody tr th:only-of-type {\n",
              "        vertical-align: middle;\n",
              "    }\n",
              "\n",
              "    .dataframe tbody tr th {\n",
              "        vertical-align: top;\n",
              "    }\n",
              "\n",
              "    .dataframe thead th {\n",
              "        text-align: right;\n",
              "    }\n",
              "</style>\n",
              "<table border=\"1\" class=\"dataframe\">\n",
              "  <thead>\n",
              "    <tr style=\"text-align: right;\">\n",
              "      <th></th>\n",
              "      <th>Range</th>\n",
              "      <th>Value</th>\n",
              "      <th>Type</th>\n",
              "      <th>Zip Code</th>\n",
              "      <th>Cost</th>\n",
              "      <th>Continent</th>\n",
              "    </tr>\n",
              "    <tr>\n",
              "      <th>ID</th>\n",
              "      <th></th>\n",
              "      <th></th>\n",
              "      <th></th>\n",
              "      <th></th>\n",
              "      <th></th>\n",
              "      <th></th>\n",
              "    </tr>\n",
              "  </thead>\n",
              "  <tbody>\n",
              "    <tr>\n",
              "      <th>10</th>\n",
              "      <td>192</td>\n",
              "      <td>50</td>\n",
              "      <td>F</td>\n",
              "      <td>NXEYEM</td>\n",
              "      <td>56</td>\n",
              "      <td>Asia</td>\n",
              "    </tr>\n",
              "    <tr>\n",
              "      <th>30</th>\n",
              "      <td>378</td>\n",
              "      <td>28</td>\n",
              "      <td>X</td>\n",
              "      <td>IMGMFY</td>\n",
              "      <td>90</td>\n",
              "      <td>North America</td>\n",
              "    </tr>\n",
              "    <tr>\n",
              "      <th>50</th>\n",
              "      <td>468</td>\n",
              "      <td>33</td>\n",
              "      <td>J</td>\n",
              "      <td>HPQCMC</td>\n",
              "      <td>95</td>\n",
              "      <td>Africa</td>\n",
              "    </tr>\n",
              "    <tr>\n",
              "      <th>70</th>\n",
              "      <td>327</td>\n",
              "      <td>24</td>\n",
              "      <td>F</td>\n",
              "      <td>NLVQPY</td>\n",
              "      <td>25</td>\n",
              "      <td>Europe</td>\n",
              "    </tr>\n",
              "    <tr>\n",
              "      <th>80</th>\n",
              "      <td>495</td>\n",
              "      <td>50</td>\n",
              "      <td>Z</td>\n",
              "      <td>DLUMAX</td>\n",
              "      <td>70</td>\n",
              "      <td>Antarctica</td>\n",
              "    </tr>\n",
              "  </tbody>\n",
              "</table>\n",
              "</div>"
            ],
            "text/plain": [
              "    Range  Value Type Zip Code  Cost      Continent\n",
              "ID                                                 \n",
              "10    192     50    F   NXEYEM    56           Asia\n",
              "30    378     28    X   IMGMFY    90  North America\n",
              "50    468     33    J   HPQCMC    95         Africa\n",
              "70    327     24    F   NLVQPY    25         Europe\n",
              "80    495     50    Z   DLUMAX    70     Antarctica"
            ]
          },
          "metadata": {},
          "execution_count": 413
        }
      ]
    },
    {
      "cell_type": "code",
      "metadata": {
        "id": "U_M4dw4C1U33"
      },
      "source": [
        "myDF.reset_index(inplace=True)"
      ],
      "execution_count": null,
      "outputs": []
    },
    {
      "cell_type": "code",
      "metadata": {
        "colab": {
          "base_uri": "https://localhost:8080/",
          "height": 206
        },
        "id": "cIj4snOo1ZXm",
        "outputId": "12a416f6-3ac0-4c73-e0f6-91053b35cb09"
      },
      "source": [
        "myDF.head()"
      ],
      "execution_count": null,
      "outputs": [
        {
          "output_type": "execute_result",
          "data": {
            "text/html": [
              "<div>\n",
              "<style scoped>\n",
              "    .dataframe tbody tr th:only-of-type {\n",
              "        vertical-align: middle;\n",
              "    }\n",
              "\n",
              "    .dataframe tbody tr th {\n",
              "        vertical-align: top;\n",
              "    }\n",
              "\n",
              "    .dataframe thead th {\n",
              "        text-align: right;\n",
              "    }\n",
              "</style>\n",
              "<table border=\"1\" class=\"dataframe\">\n",
              "  <thead>\n",
              "    <tr style=\"text-align: right;\">\n",
              "      <th></th>\n",
              "      <th>ID</th>\n",
              "      <th>Range</th>\n",
              "      <th>Value</th>\n",
              "      <th>Type</th>\n",
              "      <th>Zip Code</th>\n",
              "      <th>Cost</th>\n",
              "      <th>Continent</th>\n",
              "    </tr>\n",
              "  </thead>\n",
              "  <tbody>\n",
              "    <tr>\n",
              "      <th>0</th>\n",
              "      <td>10</td>\n",
              "      <td>192</td>\n",
              "      <td>50</td>\n",
              "      <td>F</td>\n",
              "      <td>NXEYEM</td>\n",
              "      <td>56</td>\n",
              "      <td>Asia</td>\n",
              "    </tr>\n",
              "    <tr>\n",
              "      <th>1</th>\n",
              "      <td>30</td>\n",
              "      <td>378</td>\n",
              "      <td>28</td>\n",
              "      <td>X</td>\n",
              "      <td>IMGMFY</td>\n",
              "      <td>90</td>\n",
              "      <td>North America</td>\n",
              "    </tr>\n",
              "    <tr>\n",
              "      <th>2</th>\n",
              "      <td>50</td>\n",
              "      <td>468</td>\n",
              "      <td>33</td>\n",
              "      <td>J</td>\n",
              "      <td>HPQCMC</td>\n",
              "      <td>95</td>\n",
              "      <td>Africa</td>\n",
              "    </tr>\n",
              "    <tr>\n",
              "      <th>3</th>\n",
              "      <td>70</td>\n",
              "      <td>327</td>\n",
              "      <td>24</td>\n",
              "      <td>F</td>\n",
              "      <td>NLVQPY</td>\n",
              "      <td>25</td>\n",
              "      <td>Europe</td>\n",
              "    </tr>\n",
              "    <tr>\n",
              "      <th>4</th>\n",
              "      <td>80</td>\n",
              "      <td>495</td>\n",
              "      <td>50</td>\n",
              "      <td>Z</td>\n",
              "      <td>DLUMAX</td>\n",
              "      <td>70</td>\n",
              "      <td>Antarctica</td>\n",
              "    </tr>\n",
              "  </tbody>\n",
              "</table>\n",
              "</div>"
            ],
            "text/plain": [
              "   ID  Range  Value Type Zip Code  Cost      Continent\n",
              "0  10    192     50    F   NXEYEM    56           Asia\n",
              "1  30    378     28    X   IMGMFY    90  North America\n",
              "2  50    468     33    J   HPQCMC    95         Africa\n",
              "3  70    327     24    F   NLVQPY    25         Europe\n",
              "4  80    495     50    Z   DLUMAX    70     Antarctica"
            ]
          },
          "metadata": {},
          "execution_count": 415
        }
      ]
    },
    {
      "cell_type": "markdown",
      "metadata": {
        "id": "oWwCKMjF1eJC"
      },
      "source": [
        "27 - Use the describe method to see the statistics of myDF and fetch the value of the first row and the\n",
        "third column of the result."
      ]
    },
    {
      "cell_type": "code",
      "metadata": {
        "colab": {
          "base_uri": "https://localhost:8080/",
          "height": 300
        },
        "id": "15tNAirR1abY",
        "outputId": "2917dd80-e095-4461-bd03-bddb566c7739"
      },
      "source": [
        "myDF.describe()"
      ],
      "execution_count": null,
      "outputs": [
        {
          "output_type": "execute_result",
          "data": {
            "text/html": [
              "<div>\n",
              "<style scoped>\n",
              "    .dataframe tbody tr th:only-of-type {\n",
              "        vertical-align: middle;\n",
              "    }\n",
              "\n",
              "    .dataframe tbody tr th {\n",
              "        vertical-align: top;\n",
              "    }\n",
              "\n",
              "    .dataframe thead th {\n",
              "        text-align: right;\n",
              "    }\n",
              "</style>\n",
              "<table border=\"1\" class=\"dataframe\">\n",
              "  <thead>\n",
              "    <tr style=\"text-align: right;\">\n",
              "      <th></th>\n",
              "      <th>ID</th>\n",
              "      <th>Range</th>\n",
              "      <th>Value</th>\n",
              "      <th>Cost</th>\n",
              "    </tr>\n",
              "  </thead>\n",
              "  <tbody>\n",
              "    <tr>\n",
              "      <th>count</th>\n",
              "      <td>938.000000</td>\n",
              "      <td>938.000000</td>\n",
              "      <td>938.000000</td>\n",
              "      <td>938.000000</td>\n",
              "    </tr>\n",
              "    <tr>\n",
              "      <th>mean</th>\n",
              "      <td>4749.104478</td>\n",
              "      <td>297.531983</td>\n",
              "      <td>29.917910</td>\n",
              "      <td>54.611940</td>\n",
              "    </tr>\n",
              "    <tr>\n",
              "      <th>std</th>\n",
              "      <td>2739.076928</td>\n",
              "      <td>115.913345</td>\n",
              "      <td>12.292447</td>\n",
              "      <td>25.742149</td>\n",
              "    </tr>\n",
              "    <tr>\n",
              "      <th>min</th>\n",
              "      <td>10.000000</td>\n",
              "      <td>100.000000</td>\n",
              "      <td>10.000000</td>\n",
              "      <td>10.000000</td>\n",
              "    </tr>\n",
              "    <tr>\n",
              "      <th>25%</th>\n",
              "      <td>2382.500000</td>\n",
              "      <td>194.000000</td>\n",
              "      <td>19.000000</td>\n",
              "      <td>33.000000</td>\n",
              "    </tr>\n",
              "    <tr>\n",
              "      <th>50%</th>\n",
              "      <td>4725.000000</td>\n",
              "      <td>295.000000</td>\n",
              "      <td>30.000000</td>\n",
              "      <td>55.000000</td>\n",
              "    </tr>\n",
              "    <tr>\n",
              "      <th>75%</th>\n",
              "      <td>7097.500000</td>\n",
              "      <td>400.000000</td>\n",
              "      <td>41.000000</td>\n",
              "      <td>76.000000</td>\n",
              "    </tr>\n",
              "    <tr>\n",
              "      <th>max</th>\n",
              "      <td>9500.000000</td>\n",
              "      <td>500.000000</td>\n",
              "      <td>50.000000</td>\n",
              "      <td>99.000000</td>\n",
              "    </tr>\n",
              "  </tbody>\n",
              "</table>\n",
              "</div>"
            ],
            "text/plain": [
              "                ID       Range       Value        Cost\n",
              "count   938.000000  938.000000  938.000000  938.000000\n",
              "mean   4749.104478  297.531983   29.917910   54.611940\n",
              "std    2739.076928  115.913345   12.292447   25.742149\n",
              "min      10.000000  100.000000   10.000000   10.000000\n",
              "25%    2382.500000  194.000000   19.000000   33.000000\n",
              "50%    4725.000000  295.000000   30.000000   55.000000\n",
              "75%    7097.500000  400.000000   41.000000   76.000000\n",
              "max    9500.000000  500.000000   50.000000   99.000000"
            ]
          },
          "metadata": {},
          "execution_count": 416
        }
      ]
    },
    {
      "cell_type": "code",
      "metadata": {
        "colab": {
          "base_uri": "https://localhost:8080/"
        },
        "id": "V03_iwqF1ky_",
        "outputId": "f7822142-b351-4282-eed5-0a4fd65ad650"
      },
      "source": [
        "myDF.describe().loc['count','Value']"
      ],
      "execution_count": null,
      "outputs": [
        {
          "output_type": "execute_result",
          "data": {
            "text/plain": [
              "938.0"
            ]
          },
          "metadata": {},
          "execution_count": 417
        }
      ]
    },
    {
      "cell_type": "markdown",
      "metadata": {
        "id": "BeuRHxUO2BzA"
      },
      "source": [
        "28 - Sort the value_counts() of the ‘Continent’ column of the DF. Then, sort the value_counts() of the\n",
        "‘Continent’ column, based on the alphabetic order of the continents."
      ]
    },
    {
      "cell_type": "code",
      "metadata": {
        "colab": {
          "base_uri": "https://localhost:8080/"
        },
        "id": "gLnrw1Ms111q",
        "outputId": "a954d854-b28f-4f69-93f9-14f7864a05ee"
      },
      "source": [
        "myDF.Continent.value_counts().sort_values()\n",
        "#Sort based on Continent value count(Number of times it appears on dataset)"
      ],
      "execution_count": null,
      "outputs": [
        {
          "output_type": "execute_result",
          "data": {
            "text/plain": [
              "Antarctica       115\n",
              "Asia             129\n",
              "South America    135\n",
              "Europe           138\n",
              "Africa           139\n",
              "North America    141\n",
              "Australia        141\n",
              "Name: Continent, dtype: int64"
            ]
          },
          "metadata": {},
          "execution_count": 418
        }
      ]
    },
    {
      "cell_type": "code",
      "metadata": {
        "colab": {
          "base_uri": "https://localhost:8080/"
        },
        "id": "zMjOwpkM2Q0o",
        "outputId": "efd2c094-d42d-47b1-cf4b-98e28986f1b4"
      },
      "source": [
        "myDF.Continent.sort_values()\n",
        "#Sort based on Continent alphabetic Order"
      ],
      "execution_count": null,
      "outputs": [
        {
          "output_type": "execute_result",
          "data": {
            "text/plain": [
              "225           Africa\n",
              "771           Africa\n",
              "768           Africa\n",
              "162           Africa\n",
              "369           Africa\n",
              "           ...      \n",
              "217    South America\n",
              "206    South America\n",
              "204    South America\n",
              "687    South America\n",
              "937    South America\n",
              "Name: Continent, Length: 938, dtype: object"
            ]
          },
          "metadata": {},
          "execution_count": 419
        }
      ]
    },
    {
      "cell_type": "markdown",
      "metadata": {
        "id": "yPYG-S7x3DBl"
      },
      "source": [
        "29 - Show all the columns of the following rows in one command. [1,3,5,7] and show the first 7 rows\n",
        "of the following columns: ‘Type’ and ‘Continent’"
      ]
    },
    {
      "cell_type": "code",
      "metadata": {
        "colab": {
          "base_uri": "https://localhost:8080/",
          "height": 175
        },
        "id": "yedbgWBK2Ywa",
        "outputId": "1cbee05b-7459-4159-d892-5695d5827b40"
      },
      "source": [
        "myDF.loc[[1,3,5,7],:]\n",
        "#Display all columns of rows 1,3,5,7"
      ],
      "execution_count": null,
      "outputs": [
        {
          "output_type": "execute_result",
          "data": {
            "text/html": [
              "<div>\n",
              "<style scoped>\n",
              "    .dataframe tbody tr th:only-of-type {\n",
              "        vertical-align: middle;\n",
              "    }\n",
              "\n",
              "    .dataframe tbody tr th {\n",
              "        vertical-align: top;\n",
              "    }\n",
              "\n",
              "    .dataframe thead th {\n",
              "        text-align: right;\n",
              "    }\n",
              "</style>\n",
              "<table border=\"1\" class=\"dataframe\">\n",
              "  <thead>\n",
              "    <tr style=\"text-align: right;\">\n",
              "      <th></th>\n",
              "      <th>ID</th>\n",
              "      <th>Range</th>\n",
              "      <th>Value</th>\n",
              "      <th>Type</th>\n",
              "      <th>Zip Code</th>\n",
              "      <th>Cost</th>\n",
              "      <th>Continent</th>\n",
              "    </tr>\n",
              "  </thead>\n",
              "  <tbody>\n",
              "    <tr>\n",
              "      <th>1</th>\n",
              "      <td>30</td>\n",
              "      <td>378</td>\n",
              "      <td>28</td>\n",
              "      <td>X</td>\n",
              "      <td>IMGMFY</td>\n",
              "      <td>90</td>\n",
              "      <td>North America</td>\n",
              "    </tr>\n",
              "    <tr>\n",
              "      <th>3</th>\n",
              "      <td>70</td>\n",
              "      <td>327</td>\n",
              "      <td>24</td>\n",
              "      <td>F</td>\n",
              "      <td>NLVQPY</td>\n",
              "      <td>25</td>\n",
              "      <td>Europe</td>\n",
              "    </tr>\n",
              "    <tr>\n",
              "      <th>5</th>\n",
              "      <td>90</td>\n",
              "      <td>115</td>\n",
              "      <td>30</td>\n",
              "      <td>S</td>\n",
              "      <td>KYJUHA</td>\n",
              "      <td>17</td>\n",
              "      <td>South America</td>\n",
              "    </tr>\n",
              "    <tr>\n",
              "      <th>7</th>\n",
              "      <td>110</td>\n",
              "      <td>301</td>\n",
              "      <td>29</td>\n",
              "      <td>A</td>\n",
              "      <td>OVINZU</td>\n",
              "      <td>69</td>\n",
              "      <td>South America</td>\n",
              "    </tr>\n",
              "  </tbody>\n",
              "</table>\n",
              "</div>"
            ],
            "text/plain": [
              "    ID  Range  Value Type Zip Code  Cost      Continent\n",
              "1   30    378     28    X   IMGMFY    90  North America\n",
              "3   70    327     24    F   NLVQPY    25         Europe\n",
              "5   90    115     30    S   KYJUHA    17  South America\n",
              "7  110    301     29    A   OVINZU    69  South America"
            ]
          },
          "metadata": {},
          "execution_count": 420
        }
      ]
    },
    {
      "cell_type": "code",
      "metadata": {
        "colab": {
          "base_uri": "https://localhost:8080/",
          "height": 268
        },
        "id": "2dLbY3Mh3a9r",
        "outputId": "0cacefc6-ea37-478c-be96-720ccf592b56"
      },
      "source": [
        "myDF.loc[0:6,['Type','Continent']]\n",
        "#Display first seven rows of columns Type and Continent"
      ],
      "execution_count": null,
      "outputs": [
        {
          "output_type": "execute_result",
          "data": {
            "text/html": [
              "<div>\n",
              "<style scoped>\n",
              "    .dataframe tbody tr th:only-of-type {\n",
              "        vertical-align: middle;\n",
              "    }\n",
              "\n",
              "    .dataframe tbody tr th {\n",
              "        vertical-align: top;\n",
              "    }\n",
              "\n",
              "    .dataframe thead th {\n",
              "        text-align: right;\n",
              "    }\n",
              "</style>\n",
              "<table border=\"1\" class=\"dataframe\">\n",
              "  <thead>\n",
              "    <tr style=\"text-align: right;\">\n",
              "      <th></th>\n",
              "      <th>Type</th>\n",
              "      <th>Continent</th>\n",
              "    </tr>\n",
              "  </thead>\n",
              "  <tbody>\n",
              "    <tr>\n",
              "      <th>0</th>\n",
              "      <td>F</td>\n",
              "      <td>Asia</td>\n",
              "    </tr>\n",
              "    <tr>\n",
              "      <th>1</th>\n",
              "      <td>X</td>\n",
              "      <td>North America</td>\n",
              "    </tr>\n",
              "    <tr>\n",
              "      <th>2</th>\n",
              "      <td>J</td>\n",
              "      <td>Africa</td>\n",
              "    </tr>\n",
              "    <tr>\n",
              "      <th>3</th>\n",
              "      <td>F</td>\n",
              "      <td>Europe</td>\n",
              "    </tr>\n",
              "    <tr>\n",
              "      <th>4</th>\n",
              "      <td>Z</td>\n",
              "      <td>Antarctica</td>\n",
              "    </tr>\n",
              "    <tr>\n",
              "      <th>5</th>\n",
              "      <td>S</td>\n",
              "      <td>South America</td>\n",
              "    </tr>\n",
              "    <tr>\n",
              "      <th>6</th>\n",
              "      <td>K</td>\n",
              "      <td>South America</td>\n",
              "    </tr>\n",
              "  </tbody>\n",
              "</table>\n",
              "</div>"
            ],
            "text/plain": [
              "  Type      Continent\n",
              "0    F           Asia\n",
              "1    X  North America\n",
              "2    J         Africa\n",
              "3    F         Europe\n",
              "4    Z     Antarctica\n",
              "5    S  South America\n",
              "6    K  South America"
            ]
          },
          "metadata": {},
          "execution_count": 421
        }
      ]
    },
    {
      "cell_type": "markdown",
      "metadata": {
        "id": "WWseDOyW3xWZ"
      },
      "source": [
        "30 - Show the ‘Value’ of the ‘Type’ that are equal to ’XXX’."
      ]
    },
    {
      "cell_type": "code",
      "metadata": {
        "colab": {
          "base_uri": "https://localhost:8080/"
        },
        "id": "c6blQ7mG4CyB",
        "outputId": "0ab58bc9-7de3-4acb-ff41-95ac2b0bf0cb"
      },
      "source": [
        "myDF.loc[myDF.Type=='XXX','Value']"
      ],
      "execution_count": null,
      "outputs": [
        {
          "output_type": "execute_result",
          "data": {
            "text/plain": [
              "687    42\n",
              "743    37\n",
              "Name: Value, dtype: int64"
            ]
          },
          "metadata": {},
          "execution_count": 422
        }
      ]
    },
    {
      "cell_type": "code",
      "metadata": {
        "id": "xk0oHXsw4aVi"
      },
      "source": [
        ""
      ],
      "execution_count": null,
      "outputs": []
    }
  ]
}