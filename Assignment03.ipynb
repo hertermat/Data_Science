{
  "nbformat": 4,
  "nbformat_minor": 0,
  "metadata": {
    "colab": {
      "name": "Assignment3.ipynb",
      "provenance": [],
      "collapsed_sections": []
    },
    "kernelspec": {
      "name": "python3",
      "display_name": "Python 3"
    },
    "language_info": {
      "name": "python"
    }
  },
  "cells": [
    {
      "cell_type": "markdown",
      "metadata": {
        "id": "Zowc7dmY1wND"
      },
      "source": [
        "# MATIAS HERTER \n",
        "# 101272358\n",
        "\n"
      ]
    },
    {
      "cell_type": "code",
      "metadata": {
        "id": "zPHWOjyOCg_b"
      },
      "source": [
        "import pandas as pd"
      ],
      "execution_count": 1,
      "outputs": []
    },
    {
      "cell_type": "markdown",
      "metadata": {
        "id": "ylujt6J-C4GC"
      },
      "source": [
        "1 - Download the test.csv file and store it in a DataFrame named, myDF"
      ]
    },
    {
      "cell_type": "code",
      "metadata": {
        "id": "VVw9qw6OCi7J"
      },
      "source": [
        "myDF = pd.read_csv('test.csv')"
      ],
      "execution_count": 2,
      "outputs": []
    },
    {
      "cell_type": "markdown",
      "metadata": {
        "id": "pVtP3WVcDpI1"
      },
      "source": [
        "2 - Show the first five rows of the DF."
      ]
    },
    {
      "cell_type": "code",
      "metadata": {
        "colab": {
          "base_uri": "https://localhost:8080/",
          "height": 204
        },
        "id": "0O8qgXz5DihG",
        "outputId": "7c8f82ee-92f7-4f36-9995-501bfd62334c"
      },
      "source": [
        "myDF.head()"
      ],
      "execution_count": 3,
      "outputs": [
        {
          "output_type": "execute_result",
          "data": {
            "text/html": [
              "<div>\n",
              "<style scoped>\n",
              "    .dataframe tbody tr th:only-of-type {\n",
              "        vertical-align: middle;\n",
              "    }\n",
              "\n",
              "    .dataframe tbody tr th {\n",
              "        vertical-align: top;\n",
              "    }\n",
              "\n",
              "    .dataframe thead th {\n",
              "        text-align: right;\n",
              "    }\n",
              "</style>\n",
              "<table border=\"1\" class=\"dataframe\">\n",
              "  <thead>\n",
              "    <tr style=\"text-align: right;\">\n",
              "      <th></th>\n",
              "      <th>Matias Herter</th>\n",
              "      <th>Unnamed: 1</th>\n",
              "      <th>Unnamed: 2</th>\n",
              "      <th>Unnamed: 3</th>\n",
              "      <th>Unnamed: 4</th>\n",
              "    </tr>\n",
              "  </thead>\n",
              "  <tbody>\n",
              "    <tr>\n",
              "      <th>0</th>\n",
              "      <td>101272358</td>\n",
              "      <td>NaN</td>\n",
              "      <td>NaN</td>\n",
              "      <td>NaN</td>\n",
              "      <td>NaN</td>\n",
              "    </tr>\n",
              "    <tr>\n",
              "      <th>1</th>\n",
              "      <td>10</td>\n",
              "      <td>192.0</td>\n",
              "      <td>50.0</td>\n",
              "      <td>F</td>\n",
              "      <td>NXEYEM</td>\n",
              "    </tr>\n",
              "    <tr>\n",
              "      <th>2</th>\n",
              "      <td>20</td>\n",
              "      <td>299.0</td>\n",
              "      <td>21.0</td>\n",
              "      <td>M</td>\n",
              "      <td>VNFKZD</td>\n",
              "    </tr>\n",
              "    <tr>\n",
              "      <th>3</th>\n",
              "      <td>30</td>\n",
              "      <td>378.0</td>\n",
              "      <td>28.0</td>\n",
              "      <td>X</td>\n",
              "      <td>IMGMFY</td>\n",
              "    </tr>\n",
              "    <tr>\n",
              "      <th>4</th>\n",
              "      <td>40</td>\n",
              "      <td>156.0</td>\n",
              "      <td>44.0</td>\n",
              "      <td>Q</td>\n",
              "      <td>RHRHJY</td>\n",
              "    </tr>\n",
              "  </tbody>\n",
              "</table>\n",
              "</div>"
            ],
            "text/plain": [
              "  Matias Herter   Unnamed: 1  Unnamed: 2 Unnamed: 3 Unnamed: 4\n",
              "0      101272358         NaN         NaN        NaN        NaN\n",
              "1             10       192.0        50.0          F     NXEYEM\n",
              "2             20       299.0        21.0          M     VNFKZD\n",
              "3             30       378.0        28.0          X     IMGMFY\n",
              "4             40       156.0        44.0          Q     RHRHJY"
            ]
          },
          "metadata": {},
          "execution_count": 3
        }
      ]
    },
    {
      "cell_type": "markdown",
      "metadata": {
        "id": "NIsJ7Dj-Dr3F"
      },
      "source": [
        "3 - Does the first row contain the column names? If not, please assign the following column names to\n",
        "them:\n",
        "[ID, Range, Value, Machine Type, Zip code]"
      ]
    },
    {
      "cell_type": "code",
      "metadata": {
        "colab": {
          "base_uri": "https://localhost:8080/",
          "height": 204
        },
        "id": "NLiQA-q-Dj18",
        "outputId": "5196bf5b-b3f4-4ea9-a23f-401b941c5a35"
      },
      "source": [
        "myColumsn = ['ID','Range','Value','Machine Type','Zip code']\n",
        "myDF = pd.read_csv('test.csv', header = None, names = myColumsn)\n",
        "myDF.head()"
      ],
      "execution_count": 4,
      "outputs": [
        {
          "output_type": "execute_result",
          "data": {
            "text/html": [
              "<div>\n",
              "<style scoped>\n",
              "    .dataframe tbody tr th:only-of-type {\n",
              "        vertical-align: middle;\n",
              "    }\n",
              "\n",
              "    .dataframe tbody tr th {\n",
              "        vertical-align: top;\n",
              "    }\n",
              "\n",
              "    .dataframe thead th {\n",
              "        text-align: right;\n",
              "    }\n",
              "</style>\n",
              "<table border=\"1\" class=\"dataframe\">\n",
              "  <thead>\n",
              "    <tr style=\"text-align: right;\">\n",
              "      <th></th>\n",
              "      <th>ID</th>\n",
              "      <th>Range</th>\n",
              "      <th>Value</th>\n",
              "      <th>Machine Type</th>\n",
              "      <th>Zip code</th>\n",
              "    </tr>\n",
              "  </thead>\n",
              "  <tbody>\n",
              "    <tr>\n",
              "      <th>0</th>\n",
              "      <td>Matias Herter</td>\n",
              "      <td>NaN</td>\n",
              "      <td>NaN</td>\n",
              "      <td>NaN</td>\n",
              "      <td>NaN</td>\n",
              "    </tr>\n",
              "    <tr>\n",
              "      <th>1</th>\n",
              "      <td>101272358</td>\n",
              "      <td>NaN</td>\n",
              "      <td>NaN</td>\n",
              "      <td>NaN</td>\n",
              "      <td>NaN</td>\n",
              "    </tr>\n",
              "    <tr>\n",
              "      <th>2</th>\n",
              "      <td>10</td>\n",
              "      <td>192.0</td>\n",
              "      <td>50.0</td>\n",
              "      <td>F</td>\n",
              "      <td>NXEYEM</td>\n",
              "    </tr>\n",
              "    <tr>\n",
              "      <th>3</th>\n",
              "      <td>20</td>\n",
              "      <td>299.0</td>\n",
              "      <td>21.0</td>\n",
              "      <td>M</td>\n",
              "      <td>VNFKZD</td>\n",
              "    </tr>\n",
              "    <tr>\n",
              "      <th>4</th>\n",
              "      <td>30</td>\n",
              "      <td>378.0</td>\n",
              "      <td>28.0</td>\n",
              "      <td>X</td>\n",
              "      <td>IMGMFY</td>\n",
              "    </tr>\n",
              "  </tbody>\n",
              "</table>\n",
              "</div>"
            ],
            "text/plain": [
              "               ID  Range  Value Machine Type Zip code\n",
              "0  Matias Herter     NaN    NaN          NaN      NaN\n",
              "1       101272358    NaN    NaN          NaN      NaN\n",
              "2              10  192.0   50.0            F   NXEYEM\n",
              "3              20  299.0   21.0            M   VNFKZD\n",
              "4              30  378.0   28.0            X   IMGMFY"
            ]
          },
          "metadata": {},
          "execution_count": 4
        }
      ]
    },
    {
      "cell_type": "markdown",
      "metadata": {
        "id": "azVnDpOjFwNk"
      },
      "source": [
        "4 - Add your name and student number on top of your dataset in your local file and show your DF\n",
        "with your name and student number as part of the dataset."
      ]
    },
    {
      "cell_type": "code",
      "metadata": {
        "colab": {
          "base_uri": "https://localhost:8080/",
          "height": 204
        },
        "id": "7K8nuMKpD9sf",
        "outputId": "4c74b36c-294d-477d-84f6-e3905a6df1e2"
      },
      "source": [
        "myDF.head()"
      ],
      "execution_count": 5,
      "outputs": [
        {
          "output_type": "execute_result",
          "data": {
            "text/html": [
              "<div>\n",
              "<style scoped>\n",
              "    .dataframe tbody tr th:only-of-type {\n",
              "        vertical-align: middle;\n",
              "    }\n",
              "\n",
              "    .dataframe tbody tr th {\n",
              "        vertical-align: top;\n",
              "    }\n",
              "\n",
              "    .dataframe thead th {\n",
              "        text-align: right;\n",
              "    }\n",
              "</style>\n",
              "<table border=\"1\" class=\"dataframe\">\n",
              "  <thead>\n",
              "    <tr style=\"text-align: right;\">\n",
              "      <th></th>\n",
              "      <th>ID</th>\n",
              "      <th>Range</th>\n",
              "      <th>Value</th>\n",
              "      <th>Machine Type</th>\n",
              "      <th>Zip code</th>\n",
              "    </tr>\n",
              "  </thead>\n",
              "  <tbody>\n",
              "    <tr>\n",
              "      <th>0</th>\n",
              "      <td>Matias Herter</td>\n",
              "      <td>NaN</td>\n",
              "      <td>NaN</td>\n",
              "      <td>NaN</td>\n",
              "      <td>NaN</td>\n",
              "    </tr>\n",
              "    <tr>\n",
              "      <th>1</th>\n",
              "      <td>101272358</td>\n",
              "      <td>NaN</td>\n",
              "      <td>NaN</td>\n",
              "      <td>NaN</td>\n",
              "      <td>NaN</td>\n",
              "    </tr>\n",
              "    <tr>\n",
              "      <th>2</th>\n",
              "      <td>10</td>\n",
              "      <td>192.0</td>\n",
              "      <td>50.0</td>\n",
              "      <td>F</td>\n",
              "      <td>NXEYEM</td>\n",
              "    </tr>\n",
              "    <tr>\n",
              "      <th>3</th>\n",
              "      <td>20</td>\n",
              "      <td>299.0</td>\n",
              "      <td>21.0</td>\n",
              "      <td>M</td>\n",
              "      <td>VNFKZD</td>\n",
              "    </tr>\n",
              "    <tr>\n",
              "      <th>4</th>\n",
              "      <td>30</td>\n",
              "      <td>378.0</td>\n",
              "      <td>28.0</td>\n",
              "      <td>X</td>\n",
              "      <td>IMGMFY</td>\n",
              "    </tr>\n",
              "  </tbody>\n",
              "</table>\n",
              "</div>"
            ],
            "text/plain": [
              "               ID  Range  Value Machine Type Zip code\n",
              "0  Matias Herter     NaN    NaN          NaN      NaN\n",
              "1       101272358    NaN    NaN          NaN      NaN\n",
              "2              10  192.0   50.0            F   NXEYEM\n",
              "3              20  299.0   21.0            M   VNFKZD\n",
              "4              30  378.0   28.0            X   IMGMFY"
            ]
          },
          "metadata": {},
          "execution_count": 5
        }
      ]
    },
    {
      "cell_type": "markdown",
      "metadata": {
        "id": "2ICUXq3ia2qc"
      },
      "source": [
        "5 - Now, use a method to skip the first row and show the DF as it was before adding your information"
      ]
    },
    {
      "cell_type": "code",
      "metadata": {
        "id": "pSXhJnX3EGki"
      },
      "source": [
        "myDF = pd.read_csv('test.csv', header = None, names = myColumsn, skiprows=2)"
      ],
      "execution_count": 6,
      "outputs": []
    },
    {
      "cell_type": "code",
      "metadata": {
        "colab": {
          "base_uri": "https://localhost:8080/",
          "height": 204
        },
        "id": "ahAiPuRSbZug",
        "outputId": "18fb6aa9-4b19-4f80-a8aa-cf9ad64f797c"
      },
      "source": [
        "myDF.head()"
      ],
      "execution_count": 7,
      "outputs": [
        {
          "output_type": "execute_result",
          "data": {
            "text/html": [
              "<div>\n",
              "<style scoped>\n",
              "    .dataframe tbody tr th:only-of-type {\n",
              "        vertical-align: middle;\n",
              "    }\n",
              "\n",
              "    .dataframe tbody tr th {\n",
              "        vertical-align: top;\n",
              "    }\n",
              "\n",
              "    .dataframe thead th {\n",
              "        text-align: right;\n",
              "    }\n",
              "</style>\n",
              "<table border=\"1\" class=\"dataframe\">\n",
              "  <thead>\n",
              "    <tr style=\"text-align: right;\">\n",
              "      <th></th>\n",
              "      <th>ID</th>\n",
              "      <th>Range</th>\n",
              "      <th>Value</th>\n",
              "      <th>Machine Type</th>\n",
              "      <th>Zip code</th>\n",
              "    </tr>\n",
              "  </thead>\n",
              "  <tbody>\n",
              "    <tr>\n",
              "      <th>0</th>\n",
              "      <td>10</td>\n",
              "      <td>192.0</td>\n",
              "      <td>50.0</td>\n",
              "      <td>F</td>\n",
              "      <td>NXEYEM</td>\n",
              "    </tr>\n",
              "    <tr>\n",
              "      <th>1</th>\n",
              "      <td>20</td>\n",
              "      <td>299.0</td>\n",
              "      <td>21.0</td>\n",
              "      <td>M</td>\n",
              "      <td>VNFKZD</td>\n",
              "    </tr>\n",
              "    <tr>\n",
              "      <th>2</th>\n",
              "      <td>30</td>\n",
              "      <td>378.0</td>\n",
              "      <td>28.0</td>\n",
              "      <td>X</td>\n",
              "      <td>IMGMFY</td>\n",
              "    </tr>\n",
              "    <tr>\n",
              "      <th>3</th>\n",
              "      <td>40</td>\n",
              "      <td>156.0</td>\n",
              "      <td>44.0</td>\n",
              "      <td>Q</td>\n",
              "      <td>RHRHJY</td>\n",
              "    </tr>\n",
              "    <tr>\n",
              "      <th>4</th>\n",
              "      <td>50</td>\n",
              "      <td>468.0</td>\n",
              "      <td>33.0</td>\n",
              "      <td>J</td>\n",
              "      <td>HPQCMC</td>\n",
              "    </tr>\n",
              "  </tbody>\n",
              "</table>\n",
              "</div>"
            ],
            "text/plain": [
              "   ID  Range  Value Machine Type Zip code\n",
              "0  10  192.0   50.0            F   NXEYEM\n",
              "1  20  299.0   21.0            M   VNFKZD\n",
              "2  30  378.0   28.0            X   IMGMFY\n",
              "3  40  156.0   44.0            Q   RHRHJY\n",
              "4  50  468.0   33.0            J   HPQCMC"
            ]
          },
          "metadata": {},
          "execution_count": 7
        }
      ]
    },
    {
      "cell_type": "markdown",
      "metadata": {
        "id": "N-w4UTGbcHp0"
      },
      "source": [
        "6 - Show the type of your DF"
      ]
    },
    {
      "cell_type": "code",
      "metadata": {
        "colab": {
          "base_uri": "https://localhost:8080/"
        },
        "id": "yytoFZhobb6J",
        "outputId": "b450892e-9071-45b8-9e78-59d3a76f2aa2"
      },
      "source": [
        "type(myDF)"
      ],
      "execution_count": 8,
      "outputs": [
        {
          "output_type": "execute_result",
          "data": {
            "text/plain": [
              "pandas.core.frame.DataFrame"
            ]
          },
          "metadata": {},
          "execution_count": 8
        }
      ]
    },
    {
      "cell_type": "markdown",
      "metadata": {
        "id": "iUVD_kqJcSmO"
      },
      "source": [
        "7 - Select the ‘Value’ column using two different commands. Which one is more object-oriented\n",
        "style?\n"
      ]
    },
    {
      "cell_type": "markdown",
      "metadata": {
        "id": "p1NJdcgrgAvy"
      },
      "source": [
        "*** Simpler Way ***\n"
      ]
    },
    {
      "cell_type": "code",
      "metadata": {
        "colab": {
          "base_uri": "https://localhost:8080/"
        },
        "id": "xJEt8jIicMhW",
        "outputId": "477b9480-3f16-46a1-e591-17e246032d1e"
      },
      "source": [
        "myDF.Value"
      ],
      "execution_count": 9,
      "outputs": [
        {
          "output_type": "execute_result",
          "data": {
            "text/plain": [
              "0      50.0\n",
              "1      21.0\n",
              "2      28.0\n",
              "3      44.0\n",
              "4      33.0\n",
              "       ... \n",
              "946    12.0\n",
              "947    46.0\n",
              "948    46.0\n",
              "949    13.0\n",
              "950    10.0\n",
              "Name: Value, Length: 951, dtype: float64"
            ]
          },
          "metadata": {},
          "execution_count": 9
        }
      ]
    },
    {
      "cell_type": "markdown",
      "metadata": {
        "id": "T1T1eOoqf_lw"
      },
      "source": [
        "*** More Object Oriented Way ***"
      ]
    },
    {
      "cell_type": "code",
      "metadata": {
        "colab": {
          "base_uri": "https://localhost:8080/"
        },
        "id": "2v2zhHoOfZo7",
        "outputId": "b4d8dbc0-4c29-4185-8c8b-ec292389b853"
      },
      "source": [
        "myDF['Value']"
      ],
      "execution_count": 10,
      "outputs": [
        {
          "output_type": "execute_result",
          "data": {
            "text/plain": [
              "0      50.0\n",
              "1      21.0\n",
              "2      28.0\n",
              "3      44.0\n",
              "4      33.0\n",
              "       ... \n",
              "946    12.0\n",
              "947    46.0\n",
              "948    46.0\n",
              "949    13.0\n",
              "950    10.0\n",
              "Name: Value, Length: 951, dtype: float64"
            ]
          },
          "metadata": {},
          "execution_count": 10
        }
      ]
    },
    {
      "cell_type": "markdown",
      "metadata": {
        "id": "g-U83b2GgQZj"
      },
      "source": [
        "8 - What is the type of this selected column?"
      ]
    },
    {
      "cell_type": "code",
      "metadata": {
        "colab": {
          "base_uri": "https://localhost:8080/"
        },
        "id": "9K43Pjgkf7_t",
        "outputId": "6d413794-3323-45ce-9345-913e4de1fc30"
      },
      "source": [
        "myDF['Value'].dtype"
      ],
      "execution_count": 11,
      "outputs": [
        {
          "output_type": "execute_result",
          "data": {
            "text/plain": [
              "dtype('float64')"
            ]
          },
          "metadata": {},
          "execution_count": 11
        }
      ]
    },
    {
      "cell_type": "markdown",
      "metadata": {
        "id": "_4l7HDUogsJq"
      },
      "source": [
        "9 - Can we apply both methods (mentioned in question 7) for fetching the ‘Zip code’ column? Which\n",
        "other column has the same status? Why we cannot use both method for fetching its content? "
      ]
    },
    {
      "cell_type": "code",
      "metadata": {
        "colab": {
          "base_uri": "https://localhost:8080/",
          "height": 132
        },
        "id": "H5ByJmwhgXYU",
        "outputId": "418609f6-3028-43ea-f509-44965701686e"
      },
      "source": [
        "myDF.Zip code #Does not work due to the space between words. Thats why we SHOULD NOT use variable.columnName on our codes"
      ],
      "execution_count": 12,
      "outputs": [
        {
          "output_type": "error",
          "ename": "SyntaxError",
          "evalue": "ignored",
          "traceback": [
            "\u001b[0;36m  File \u001b[0;32m\"<ipython-input-12-5c10212921a9>\"\u001b[0;36m, line \u001b[0;32m1\u001b[0m\n\u001b[0;31m    myDF.Zip code #Does not work due to the space between words. Thats why we SHOULD NOT use variable.columnName on our codes\u001b[0m\n\u001b[0m                ^\u001b[0m\n\u001b[0;31mSyntaxError\u001b[0m\u001b[0;31m:\u001b[0m invalid syntax\n"
          ]
        }
      ]
    },
    {
      "cell_type": "code",
      "metadata": {
        "colab": {
          "base_uri": "https://localhost:8080/"
        },
        "id": "EBWsVJ4whgPh",
        "outputId": "d9e0df2b-fcaa-43c8-b18f-cbd8a865a078"
      },
      "source": [
        "myDF['Zip code'].head()"
      ],
      "execution_count": 13,
      "outputs": [
        {
          "output_type": "execute_result",
          "data": {
            "text/plain": [
              "0    NXEYEM\n",
              "1    VNFKZD\n",
              "2    IMGMFY\n",
              "3    RHRHJY\n",
              "4    HPQCMC\n",
              "Name: Zip code, dtype: object"
            ]
          },
          "metadata": {},
          "execution_count": 13
        }
      ]
    },
    {
      "cell_type": "markdown",
      "metadata": {
        "id": "c75mS0XCIWH-"
      },
      "source": [
        "10 - . Create a new Series called ‘Brand’ by combining 'Machine Type' and 'Zip code' Series."
      ]
    },
    {
      "cell_type": "code",
      "metadata": {
        "id": "NVhtEI0iILCX"
      },
      "source": [
        "myDF['Brand'] = myDF['Machine Type'] + ',' + myDF['Zip code']"
      ],
      "execution_count": 14,
      "outputs": []
    },
    {
      "cell_type": "code",
      "metadata": {
        "colab": {
          "base_uri": "https://localhost:8080/",
          "height": 204
        },
        "id": "h80OD1OUOf_y",
        "outputId": "0713bc8f-9fbd-4afd-bec1-1b72e3f33397"
      },
      "source": [
        "myDF.head()"
      ],
      "execution_count": 15,
      "outputs": [
        {
          "output_type": "execute_result",
          "data": {
            "text/html": [
              "<div>\n",
              "<style scoped>\n",
              "    .dataframe tbody tr th:only-of-type {\n",
              "        vertical-align: middle;\n",
              "    }\n",
              "\n",
              "    .dataframe tbody tr th {\n",
              "        vertical-align: top;\n",
              "    }\n",
              "\n",
              "    .dataframe thead th {\n",
              "        text-align: right;\n",
              "    }\n",
              "</style>\n",
              "<table border=\"1\" class=\"dataframe\">\n",
              "  <thead>\n",
              "    <tr style=\"text-align: right;\">\n",
              "      <th></th>\n",
              "      <th>ID</th>\n",
              "      <th>Range</th>\n",
              "      <th>Value</th>\n",
              "      <th>Machine Type</th>\n",
              "      <th>Zip code</th>\n",
              "      <th>Brand</th>\n",
              "    </tr>\n",
              "  </thead>\n",
              "  <tbody>\n",
              "    <tr>\n",
              "      <th>0</th>\n",
              "      <td>10</td>\n",
              "      <td>192.0</td>\n",
              "      <td>50.0</td>\n",
              "      <td>F</td>\n",
              "      <td>NXEYEM</td>\n",
              "      <td>F,NXEYEM</td>\n",
              "    </tr>\n",
              "    <tr>\n",
              "      <th>1</th>\n",
              "      <td>20</td>\n",
              "      <td>299.0</td>\n",
              "      <td>21.0</td>\n",
              "      <td>M</td>\n",
              "      <td>VNFKZD</td>\n",
              "      <td>M,VNFKZD</td>\n",
              "    </tr>\n",
              "    <tr>\n",
              "      <th>2</th>\n",
              "      <td>30</td>\n",
              "      <td>378.0</td>\n",
              "      <td>28.0</td>\n",
              "      <td>X</td>\n",
              "      <td>IMGMFY</td>\n",
              "      <td>X,IMGMFY</td>\n",
              "    </tr>\n",
              "    <tr>\n",
              "      <th>3</th>\n",
              "      <td>40</td>\n",
              "      <td>156.0</td>\n",
              "      <td>44.0</td>\n",
              "      <td>Q</td>\n",
              "      <td>RHRHJY</td>\n",
              "      <td>Q,RHRHJY</td>\n",
              "    </tr>\n",
              "    <tr>\n",
              "      <th>4</th>\n",
              "      <td>50</td>\n",
              "      <td>468.0</td>\n",
              "      <td>33.0</td>\n",
              "      <td>J</td>\n",
              "      <td>HPQCMC</td>\n",
              "      <td>J,HPQCMC</td>\n",
              "    </tr>\n",
              "  </tbody>\n",
              "</table>\n",
              "</div>"
            ],
            "text/plain": [
              "   ID  Range  Value Machine Type Zip code     Brand\n",
              "0  10  192.0   50.0            F   NXEYEM  F,NXEYEM\n",
              "1  20  299.0   21.0            M   VNFKZD  M,VNFKZD\n",
              "2  30  378.0   28.0            X   IMGMFY  X,IMGMFY\n",
              "3  40  156.0   44.0            Q   RHRHJY  Q,RHRHJY\n",
              "4  50  468.0   33.0            J   HPQCMC  J,HPQCMC"
            ]
          },
          "metadata": {},
          "execution_count": 15
        }
      ]
    },
    {
      "cell_type": "markdown",
      "metadata": {
        "id": "0EbQBSJGPGFK"
      },
      "source": [
        "11 - Create a new Series called ‘Total’ by multiplying ‘Range’ and ‘Value’ Series."
      ]
    },
    {
      "cell_type": "code",
      "metadata": {
        "colab": {
          "base_uri": "https://localhost:8080/",
          "height": 204
        },
        "id": "sPGJbgUbOzzx",
        "outputId": "5a3eeabb-6b61-46bd-9ee8-bc4b690ee0e5"
      },
      "source": [
        "myDF['Total'] = (myDF['Range'] * myDF['Value'])\n",
        "myDF.head()"
      ],
      "execution_count": 16,
      "outputs": [
        {
          "output_type": "execute_result",
          "data": {
            "text/html": [
              "<div>\n",
              "<style scoped>\n",
              "    .dataframe tbody tr th:only-of-type {\n",
              "        vertical-align: middle;\n",
              "    }\n",
              "\n",
              "    .dataframe tbody tr th {\n",
              "        vertical-align: top;\n",
              "    }\n",
              "\n",
              "    .dataframe thead th {\n",
              "        text-align: right;\n",
              "    }\n",
              "</style>\n",
              "<table border=\"1\" class=\"dataframe\">\n",
              "  <thead>\n",
              "    <tr style=\"text-align: right;\">\n",
              "      <th></th>\n",
              "      <th>ID</th>\n",
              "      <th>Range</th>\n",
              "      <th>Value</th>\n",
              "      <th>Machine Type</th>\n",
              "      <th>Zip code</th>\n",
              "      <th>Brand</th>\n",
              "      <th>Total</th>\n",
              "    </tr>\n",
              "  </thead>\n",
              "  <tbody>\n",
              "    <tr>\n",
              "      <th>0</th>\n",
              "      <td>10</td>\n",
              "      <td>192.0</td>\n",
              "      <td>50.0</td>\n",
              "      <td>F</td>\n",
              "      <td>NXEYEM</td>\n",
              "      <td>F,NXEYEM</td>\n",
              "      <td>9600.0</td>\n",
              "    </tr>\n",
              "    <tr>\n",
              "      <th>1</th>\n",
              "      <td>20</td>\n",
              "      <td>299.0</td>\n",
              "      <td>21.0</td>\n",
              "      <td>M</td>\n",
              "      <td>VNFKZD</td>\n",
              "      <td>M,VNFKZD</td>\n",
              "      <td>6279.0</td>\n",
              "    </tr>\n",
              "    <tr>\n",
              "      <th>2</th>\n",
              "      <td>30</td>\n",
              "      <td>378.0</td>\n",
              "      <td>28.0</td>\n",
              "      <td>X</td>\n",
              "      <td>IMGMFY</td>\n",
              "      <td>X,IMGMFY</td>\n",
              "      <td>10584.0</td>\n",
              "    </tr>\n",
              "    <tr>\n",
              "      <th>3</th>\n",
              "      <td>40</td>\n",
              "      <td>156.0</td>\n",
              "      <td>44.0</td>\n",
              "      <td>Q</td>\n",
              "      <td>RHRHJY</td>\n",
              "      <td>Q,RHRHJY</td>\n",
              "      <td>6864.0</td>\n",
              "    </tr>\n",
              "    <tr>\n",
              "      <th>4</th>\n",
              "      <td>50</td>\n",
              "      <td>468.0</td>\n",
              "      <td>33.0</td>\n",
              "      <td>J</td>\n",
              "      <td>HPQCMC</td>\n",
              "      <td>J,HPQCMC</td>\n",
              "      <td>15444.0</td>\n",
              "    </tr>\n",
              "  </tbody>\n",
              "</table>\n",
              "</div>"
            ],
            "text/plain": [
              "   ID  Range  Value Machine Type Zip code     Brand    Total\n",
              "0  10  192.0   50.0            F   NXEYEM  F,NXEYEM   9600.0\n",
              "1  20  299.0   21.0            M   VNFKZD  M,VNFKZD   6279.0\n",
              "2  30  378.0   28.0            X   IMGMFY  X,IMGMFY  10584.0\n",
              "3  40  156.0   44.0            Q   RHRHJY  Q,RHRHJY   6864.0\n",
              "4  50  468.0   33.0            J   HPQCMC  J,HPQCMC  15444.0"
            ]
          },
          "metadata": {},
          "execution_count": 16
        }
      ]
    },
    {
      "cell_type": "markdown",
      "metadata": {
        "id": "FaBLG3lrPzIT"
      },
      "source": [
        "12 - Use the following commands:\n",
        "a. myDF.head()\n",
        "b. myDF.describe()\n",
        "c. myDF.describe\n",
        "d. myDF.shape\n",
        "e. myDF.dtypes\n",
        "Why some have parentheses and some don’t? What is the difference between b. and c.?\n",
        "\n",
        "# () Methods/Actions\n",
        "# . Attribute \n"
      ]
    },
    {
      "cell_type": "code",
      "metadata": {
        "colab": {
          "base_uri": "https://localhost:8080/",
          "height": 204
        },
        "id": "S8yJVHngPXXV",
        "outputId": "bb01faf8-9c79-4502-ed8f-6818ff3c732a"
      },
      "source": [
        "myDF.head()"
      ],
      "execution_count": 17,
      "outputs": [
        {
          "output_type": "execute_result",
          "data": {
            "text/html": [
              "<div>\n",
              "<style scoped>\n",
              "    .dataframe tbody tr th:only-of-type {\n",
              "        vertical-align: middle;\n",
              "    }\n",
              "\n",
              "    .dataframe tbody tr th {\n",
              "        vertical-align: top;\n",
              "    }\n",
              "\n",
              "    .dataframe thead th {\n",
              "        text-align: right;\n",
              "    }\n",
              "</style>\n",
              "<table border=\"1\" class=\"dataframe\">\n",
              "  <thead>\n",
              "    <tr style=\"text-align: right;\">\n",
              "      <th></th>\n",
              "      <th>ID</th>\n",
              "      <th>Range</th>\n",
              "      <th>Value</th>\n",
              "      <th>Machine Type</th>\n",
              "      <th>Zip code</th>\n",
              "      <th>Brand</th>\n",
              "      <th>Total</th>\n",
              "    </tr>\n",
              "  </thead>\n",
              "  <tbody>\n",
              "    <tr>\n",
              "      <th>0</th>\n",
              "      <td>10</td>\n",
              "      <td>192.0</td>\n",
              "      <td>50.0</td>\n",
              "      <td>F</td>\n",
              "      <td>NXEYEM</td>\n",
              "      <td>F,NXEYEM</td>\n",
              "      <td>9600.0</td>\n",
              "    </tr>\n",
              "    <tr>\n",
              "      <th>1</th>\n",
              "      <td>20</td>\n",
              "      <td>299.0</td>\n",
              "      <td>21.0</td>\n",
              "      <td>M</td>\n",
              "      <td>VNFKZD</td>\n",
              "      <td>M,VNFKZD</td>\n",
              "      <td>6279.0</td>\n",
              "    </tr>\n",
              "    <tr>\n",
              "      <th>2</th>\n",
              "      <td>30</td>\n",
              "      <td>378.0</td>\n",
              "      <td>28.0</td>\n",
              "      <td>X</td>\n",
              "      <td>IMGMFY</td>\n",
              "      <td>X,IMGMFY</td>\n",
              "      <td>10584.0</td>\n",
              "    </tr>\n",
              "    <tr>\n",
              "      <th>3</th>\n",
              "      <td>40</td>\n",
              "      <td>156.0</td>\n",
              "      <td>44.0</td>\n",
              "      <td>Q</td>\n",
              "      <td>RHRHJY</td>\n",
              "      <td>Q,RHRHJY</td>\n",
              "      <td>6864.0</td>\n",
              "    </tr>\n",
              "    <tr>\n",
              "      <th>4</th>\n",
              "      <td>50</td>\n",
              "      <td>468.0</td>\n",
              "      <td>33.0</td>\n",
              "      <td>J</td>\n",
              "      <td>HPQCMC</td>\n",
              "      <td>J,HPQCMC</td>\n",
              "      <td>15444.0</td>\n",
              "    </tr>\n",
              "  </tbody>\n",
              "</table>\n",
              "</div>"
            ],
            "text/plain": [
              "   ID  Range  Value Machine Type Zip code     Brand    Total\n",
              "0  10  192.0   50.0            F   NXEYEM  F,NXEYEM   9600.0\n",
              "1  20  299.0   21.0            M   VNFKZD  M,VNFKZD   6279.0\n",
              "2  30  378.0   28.0            X   IMGMFY  X,IMGMFY  10584.0\n",
              "3  40  156.0   44.0            Q   RHRHJY  Q,RHRHJY   6864.0\n",
              "4  50  468.0   33.0            J   HPQCMC  J,HPQCMC  15444.0"
            ]
          },
          "metadata": {},
          "execution_count": 17
        }
      ]
    },
    {
      "cell_type": "code",
      "metadata": {
        "colab": {
          "base_uri": "https://localhost:8080/",
          "height": 296
        },
        "id": "OmqcFFkSP7Tz",
        "outputId": "6a297205-c6d6-491f-9a5e-6df235428e4e"
      },
      "source": [
        "myDF.describe() #SHOWS DATA IN TABLE"
      ],
      "execution_count": 18,
      "outputs": [
        {
          "output_type": "execute_result",
          "data": {
            "text/html": [
              "<div>\n",
              "<style scoped>\n",
              "    .dataframe tbody tr th:only-of-type {\n",
              "        vertical-align: middle;\n",
              "    }\n",
              "\n",
              "    .dataframe tbody tr th {\n",
              "        vertical-align: top;\n",
              "    }\n",
              "\n",
              "    .dataframe thead th {\n",
              "        text-align: right;\n",
              "    }\n",
              "</style>\n",
              "<table border=\"1\" class=\"dataframe\">\n",
              "  <thead>\n",
              "    <tr style=\"text-align: right;\">\n",
              "      <th></th>\n",
              "      <th>Range</th>\n",
              "      <th>Value</th>\n",
              "      <th>Total</th>\n",
              "    </tr>\n",
              "  </thead>\n",
              "  <tbody>\n",
              "    <tr>\n",
              "      <th>count</th>\n",
              "      <td>950.000000</td>\n",
              "      <td>950.000000</td>\n",
              "      <td>950.000000</td>\n",
              "    </tr>\n",
              "    <tr>\n",
              "      <th>mean</th>\n",
              "      <td>297.437895</td>\n",
              "      <td>29.943158</td>\n",
              "      <td>8965.992632</td>\n",
              "    </tr>\n",
              "    <tr>\n",
              "      <th>std</th>\n",
              "      <td>115.828540</td>\n",
              "      <td>12.267347</td>\n",
              "      <td>5261.283254</td>\n",
              "    </tr>\n",
              "    <tr>\n",
              "      <th>min</th>\n",
              "      <td>100.000000</td>\n",
              "      <td>10.000000</td>\n",
              "      <td>1090.000000</td>\n",
              "    </tr>\n",
              "    <tr>\n",
              "      <th>25%</th>\n",
              "      <td>194.000000</td>\n",
              "      <td>19.000000</td>\n",
              "      <td>4864.750000</td>\n",
              "    </tr>\n",
              "    <tr>\n",
              "      <th>50%</th>\n",
              "      <td>296.000000</td>\n",
              "      <td>30.000000</td>\n",
              "      <td>7916.000000</td>\n",
              "    </tr>\n",
              "    <tr>\n",
              "      <th>75%</th>\n",
              "      <td>398.750000</td>\n",
              "      <td>41.000000</td>\n",
              "      <td>12367.750000</td>\n",
              "    </tr>\n",
              "    <tr>\n",
              "      <th>max</th>\n",
              "      <td>500.000000</td>\n",
              "      <td>50.000000</td>\n",
              "      <td>24750.000000</td>\n",
              "    </tr>\n",
              "  </tbody>\n",
              "</table>\n",
              "</div>"
            ],
            "text/plain": [
              "            Range       Value         Total\n",
              "count  950.000000  950.000000    950.000000\n",
              "mean   297.437895   29.943158   8965.992632\n",
              "std    115.828540   12.267347   5261.283254\n",
              "min    100.000000   10.000000   1090.000000\n",
              "25%    194.000000   19.000000   4864.750000\n",
              "50%    296.000000   30.000000   7916.000000\n",
              "75%    398.750000   41.000000  12367.750000\n",
              "max    500.000000   50.000000  24750.000000"
            ]
          },
          "metadata": {},
          "execution_count": 18
        }
      ]
    },
    {
      "cell_type": "code",
      "metadata": {
        "colab": {
          "base_uri": "https://localhost:8080/"
        },
        "id": "UXG_kWG7P-Wm",
        "outputId": "df8569a0-f2b7-4710-e4d3-438a37f4e613"
      },
      "source": [
        "myDF.describe #DISPLAYS DATA IN PLAIN TEXT WITH NO DATA TREATMENT"
      ],
      "execution_count": 19,
      "outputs": [
        {
          "output_type": "execute_result",
          "data": {
            "text/plain": [
              "<bound method NDFrame.describe of        ID  Range  Value Machine Type Zip code     Brand    Total\n",
              "0      10  192.0   50.0            F   NXEYEM  F,NXEYEM   9600.0\n",
              "1      20  299.0   21.0            M   VNFKZD  M,VNFKZD   6279.0\n",
              "2      30  378.0   28.0            X   IMGMFY  X,IMGMFY  10584.0\n",
              "3      40  156.0   44.0            Q   RHRHJY  Q,RHRHJY   6864.0\n",
              "4      50  468.0   33.0            J   HPQCMC  J,HPQCMC  15444.0\n",
              "..    ...    ...    ...          ...      ...       ...      ...\n",
              "946  9460  136.0   12.0            C   HGVBPV  C,HGVBPV   1632.0\n",
              "947  9470  316.0   46.0            L   SHBAUD  L,SHBAUD  14536.0\n",
              "948  9480  461.0   46.0            K   PUZUVO  K,PUZUVO  21206.0\n",
              "949  9490  185.0   13.0            N   UMESZO  N,UMESZO   2405.0\n",
              "950  9500  137.0   10.0            W   JOHHVL  W,JOHHVL   1370.0\n",
              "\n",
              "[951 rows x 7 columns]>"
            ]
          },
          "metadata": {},
          "execution_count": 19
        }
      ]
    },
    {
      "cell_type": "code",
      "metadata": {
        "colab": {
          "base_uri": "https://localhost:8080/"
        },
        "id": "6H0iN9pQP-uF",
        "outputId": "530ea1aa-d00b-4af2-e89d-68ba73cb21dc"
      },
      "source": [
        "myDF.shape #Rows and Columsn"
      ],
      "execution_count": 20,
      "outputs": [
        {
          "output_type": "execute_result",
          "data": {
            "text/plain": [
              "(951, 7)"
            ]
          },
          "metadata": {},
          "execution_count": 20
        }
      ]
    },
    {
      "cell_type": "code",
      "metadata": {
        "colab": {
          "base_uri": "https://localhost:8080/"
        },
        "id": "VFsGDivDQCuI",
        "outputId": "0c7a779e-805b-4013-c6c2-09e30cb6ec95"
      },
      "source": [
        "myDF.dtypes #Data type of columns"
      ],
      "execution_count": 21,
      "outputs": [
        {
          "output_type": "execute_result",
          "data": {
            "text/plain": [
              "ID               object\n",
              "Range           float64\n",
              "Value           float64\n",
              "Machine Type     object\n",
              "Zip code         object\n",
              "Brand            object\n",
              "Total           float64\n",
              "dtype: object"
            ]
          },
          "metadata": {},
          "execution_count": 21
        }
      ]
    },
    {
      "cell_type": "markdown",
      "metadata": {
        "id": "6LTlL1WUy9BB"
      },
      "source": [
        "13 - How can we use the describe() method to show the statistics for the object (not numerical)\n",
        "columns?\n"
      ]
    },
    {
      "cell_type": "code",
      "metadata": {
        "id": "mVp0IvQGQDAF",
        "colab": {
          "base_uri": "https://localhost:8080/",
          "height": 172
        },
        "outputId": "d64037ba-d020-423f-fe9e-908e2e6a1edc"
      },
      "source": [
        "myDF.describe(include='object')"
      ],
      "execution_count": 22,
      "outputs": [
        {
          "output_type": "execute_result",
          "data": {
            "text/html": [
              "<div>\n",
              "<style scoped>\n",
              "    .dataframe tbody tr th:only-of-type {\n",
              "        vertical-align: middle;\n",
              "    }\n",
              "\n",
              "    .dataframe tbody tr th {\n",
              "        vertical-align: top;\n",
              "    }\n",
              "\n",
              "    .dataframe thead th {\n",
              "        text-align: right;\n",
              "    }\n",
              "</style>\n",
              "<table border=\"1\" class=\"dataframe\">\n",
              "  <thead>\n",
              "    <tr style=\"text-align: right;\">\n",
              "      <th></th>\n",
              "      <th>ID</th>\n",
              "      <th>Machine Type</th>\n",
              "      <th>Zip code</th>\n",
              "      <th>Brand</th>\n",
              "    </tr>\n",
              "  </thead>\n",
              "  <tbody>\n",
              "    <tr>\n",
              "      <th>count</th>\n",
              "      <td>951</td>\n",
              "      <td>948</td>\n",
              "      <td>941</td>\n",
              "      <td>939</td>\n",
              "    </tr>\n",
              "    <tr>\n",
              "      <th>unique</th>\n",
              "      <td>951</td>\n",
              "      <td>26</td>\n",
              "      <td>941</td>\n",
              "      <td>939</td>\n",
              "    </tr>\n",
              "    <tr>\n",
              "      <th>top</th>\n",
              "      <td>2770</td>\n",
              "      <td>F</td>\n",
              "      <td>TPFEWI</td>\n",
              "      <td>N,REHMAM</td>\n",
              "    </tr>\n",
              "    <tr>\n",
              "      <th>freq</th>\n",
              "      <td>1</td>\n",
              "      <td>50</td>\n",
              "      <td>1</td>\n",
              "      <td>1</td>\n",
              "    </tr>\n",
              "  </tbody>\n",
              "</table>\n",
              "</div>"
            ],
            "text/plain": [
              "          ID Machine Type Zip code     Brand\n",
              "count    951          948      941       939\n",
              "unique   951           26      941       939\n",
              "top     2770            F   TPFEWI  N,REHMAM\n",
              "freq       1           50        1         1"
            ]
          },
          "metadata": {},
          "execution_count": 22
        }
      ]
    },
    {
      "cell_type": "markdown",
      "metadata": {
        "id": "kKByfwPWzNU9"
      },
      "source": [
        "14 - Rename the ‘ID’ to ‘My ID’ in the DF without replacing the ID Series name in the original DF.\n",
        "Show the unchanged DF by displaying the top 5 rows."
      ]
    },
    {
      "cell_type": "code",
      "metadata": {
        "id": "2EsxpY3JzEAg"
      },
      "source": [
        "newMyDF = myDF.rename(columns={'ID':'My ID'})"
      ],
      "execution_count": 23,
      "outputs": []
    },
    {
      "cell_type": "code",
      "metadata": {
        "colab": {
          "base_uri": "https://localhost:8080/",
          "height": 204
        },
        "id": "w8iqWGpizjSm",
        "outputId": "068deebd-8e00-4a7a-8388-56915ec936e3"
      },
      "source": [
        "myDF.head()"
      ],
      "execution_count": 24,
      "outputs": [
        {
          "output_type": "execute_result",
          "data": {
            "text/html": [
              "<div>\n",
              "<style scoped>\n",
              "    .dataframe tbody tr th:only-of-type {\n",
              "        vertical-align: middle;\n",
              "    }\n",
              "\n",
              "    .dataframe tbody tr th {\n",
              "        vertical-align: top;\n",
              "    }\n",
              "\n",
              "    .dataframe thead th {\n",
              "        text-align: right;\n",
              "    }\n",
              "</style>\n",
              "<table border=\"1\" class=\"dataframe\">\n",
              "  <thead>\n",
              "    <tr style=\"text-align: right;\">\n",
              "      <th></th>\n",
              "      <th>ID</th>\n",
              "      <th>Range</th>\n",
              "      <th>Value</th>\n",
              "      <th>Machine Type</th>\n",
              "      <th>Zip code</th>\n",
              "      <th>Brand</th>\n",
              "      <th>Total</th>\n",
              "    </tr>\n",
              "  </thead>\n",
              "  <tbody>\n",
              "    <tr>\n",
              "      <th>0</th>\n",
              "      <td>10</td>\n",
              "      <td>192.0</td>\n",
              "      <td>50.0</td>\n",
              "      <td>F</td>\n",
              "      <td>NXEYEM</td>\n",
              "      <td>F,NXEYEM</td>\n",
              "      <td>9600.0</td>\n",
              "    </tr>\n",
              "    <tr>\n",
              "      <th>1</th>\n",
              "      <td>20</td>\n",
              "      <td>299.0</td>\n",
              "      <td>21.0</td>\n",
              "      <td>M</td>\n",
              "      <td>VNFKZD</td>\n",
              "      <td>M,VNFKZD</td>\n",
              "      <td>6279.0</td>\n",
              "    </tr>\n",
              "    <tr>\n",
              "      <th>2</th>\n",
              "      <td>30</td>\n",
              "      <td>378.0</td>\n",
              "      <td>28.0</td>\n",
              "      <td>X</td>\n",
              "      <td>IMGMFY</td>\n",
              "      <td>X,IMGMFY</td>\n",
              "      <td>10584.0</td>\n",
              "    </tr>\n",
              "    <tr>\n",
              "      <th>3</th>\n",
              "      <td>40</td>\n",
              "      <td>156.0</td>\n",
              "      <td>44.0</td>\n",
              "      <td>Q</td>\n",
              "      <td>RHRHJY</td>\n",
              "      <td>Q,RHRHJY</td>\n",
              "      <td>6864.0</td>\n",
              "    </tr>\n",
              "    <tr>\n",
              "      <th>4</th>\n",
              "      <td>50</td>\n",
              "      <td>468.0</td>\n",
              "      <td>33.0</td>\n",
              "      <td>J</td>\n",
              "      <td>HPQCMC</td>\n",
              "      <td>J,HPQCMC</td>\n",
              "      <td>15444.0</td>\n",
              "    </tr>\n",
              "  </tbody>\n",
              "</table>\n",
              "</div>"
            ],
            "text/plain": [
              "   ID  Range  Value Machine Type Zip code     Brand    Total\n",
              "0  10  192.0   50.0            F   NXEYEM  F,NXEYEM   9600.0\n",
              "1  20  299.0   21.0            M   VNFKZD  M,VNFKZD   6279.0\n",
              "2  30  378.0   28.0            X   IMGMFY  X,IMGMFY  10584.0\n",
              "3  40  156.0   44.0            Q   RHRHJY  Q,RHRHJY   6864.0\n",
              "4  50  468.0   33.0            J   HPQCMC  J,HPQCMC  15444.0"
            ]
          },
          "metadata": {},
          "execution_count": 24
        }
      ]
    },
    {
      "cell_type": "code",
      "metadata": {
        "colab": {
          "base_uri": "https://localhost:8080/",
          "height": 204
        },
        "id": "s5r7zvX6zlhu",
        "outputId": "eb815121-3074-42ca-a2a5-970d77d71e51"
      },
      "source": [
        "newMyDF.head()"
      ],
      "execution_count": 25,
      "outputs": [
        {
          "output_type": "execute_result",
          "data": {
            "text/html": [
              "<div>\n",
              "<style scoped>\n",
              "    .dataframe tbody tr th:only-of-type {\n",
              "        vertical-align: middle;\n",
              "    }\n",
              "\n",
              "    .dataframe tbody tr th {\n",
              "        vertical-align: top;\n",
              "    }\n",
              "\n",
              "    .dataframe thead th {\n",
              "        text-align: right;\n",
              "    }\n",
              "</style>\n",
              "<table border=\"1\" class=\"dataframe\">\n",
              "  <thead>\n",
              "    <tr style=\"text-align: right;\">\n",
              "      <th></th>\n",
              "      <th>My ID</th>\n",
              "      <th>Range</th>\n",
              "      <th>Value</th>\n",
              "      <th>Machine Type</th>\n",
              "      <th>Zip code</th>\n",
              "      <th>Brand</th>\n",
              "      <th>Total</th>\n",
              "    </tr>\n",
              "  </thead>\n",
              "  <tbody>\n",
              "    <tr>\n",
              "      <th>0</th>\n",
              "      <td>10</td>\n",
              "      <td>192.0</td>\n",
              "      <td>50.0</td>\n",
              "      <td>F</td>\n",
              "      <td>NXEYEM</td>\n",
              "      <td>F,NXEYEM</td>\n",
              "      <td>9600.0</td>\n",
              "    </tr>\n",
              "    <tr>\n",
              "      <th>1</th>\n",
              "      <td>20</td>\n",
              "      <td>299.0</td>\n",
              "      <td>21.0</td>\n",
              "      <td>M</td>\n",
              "      <td>VNFKZD</td>\n",
              "      <td>M,VNFKZD</td>\n",
              "      <td>6279.0</td>\n",
              "    </tr>\n",
              "    <tr>\n",
              "      <th>2</th>\n",
              "      <td>30</td>\n",
              "      <td>378.0</td>\n",
              "      <td>28.0</td>\n",
              "      <td>X</td>\n",
              "      <td>IMGMFY</td>\n",
              "      <td>X,IMGMFY</td>\n",
              "      <td>10584.0</td>\n",
              "    </tr>\n",
              "    <tr>\n",
              "      <th>3</th>\n",
              "      <td>40</td>\n",
              "      <td>156.0</td>\n",
              "      <td>44.0</td>\n",
              "      <td>Q</td>\n",
              "      <td>RHRHJY</td>\n",
              "      <td>Q,RHRHJY</td>\n",
              "      <td>6864.0</td>\n",
              "    </tr>\n",
              "    <tr>\n",
              "      <th>4</th>\n",
              "      <td>50</td>\n",
              "      <td>468.0</td>\n",
              "      <td>33.0</td>\n",
              "      <td>J</td>\n",
              "      <td>HPQCMC</td>\n",
              "      <td>J,HPQCMC</td>\n",
              "      <td>15444.0</td>\n",
              "    </tr>\n",
              "  </tbody>\n",
              "</table>\n",
              "</div>"
            ],
            "text/plain": [
              "  My ID  Range  Value Machine Type Zip code     Brand    Total\n",
              "0    10  192.0   50.0            F   NXEYEM  F,NXEYEM   9600.0\n",
              "1    20  299.0   21.0            M   VNFKZD  M,VNFKZD   6279.0\n",
              "2    30  378.0   28.0            X   IMGMFY  X,IMGMFY  10584.0\n",
              "3    40  156.0   44.0            Q   RHRHJY  Q,RHRHJY   6864.0\n",
              "4    50  468.0   33.0            J   HPQCMC  J,HPQCMC  15444.0"
            ]
          },
          "metadata": {},
          "execution_count": 25
        }
      ]
    },
    {
      "cell_type": "markdown",
      "metadata": {
        "id": "cOhtyOzszr6-"
      },
      "source": [
        "15 - Rename the ‘ID’ to ‘My ID’ inplace and show the changed column name using the head()\n",
        "method."
      ]
    },
    {
      "cell_type": "code",
      "metadata": {
        "id": "mshCUOxrznua"
      },
      "source": [
        "myDF.rename(columns={'ID':'My ID'}, inplace=True)"
      ],
      "execution_count": 26,
      "outputs": []
    },
    {
      "cell_type": "markdown",
      "metadata": {
        "id": "Zj4mfXJx1a_j"
      },
      "source": [
        "16 - Show the DF columns. \n"
      ]
    },
    {
      "cell_type": "code",
      "metadata": {
        "colab": {
          "base_uri": "https://localhost:8080/",
          "height": 204
        },
        "id": "FgCWv3LM0BKP",
        "outputId": "f3aa6abf-83d1-4f21-d302-c544413c215c"
      },
      "source": [
        "myDF.head()\n"
      ],
      "execution_count": 27,
      "outputs": [
        {
          "output_type": "execute_result",
          "data": {
            "text/html": [
              "<div>\n",
              "<style scoped>\n",
              "    .dataframe tbody tr th:only-of-type {\n",
              "        vertical-align: middle;\n",
              "    }\n",
              "\n",
              "    .dataframe tbody tr th {\n",
              "        vertical-align: top;\n",
              "    }\n",
              "\n",
              "    .dataframe thead th {\n",
              "        text-align: right;\n",
              "    }\n",
              "</style>\n",
              "<table border=\"1\" class=\"dataframe\">\n",
              "  <thead>\n",
              "    <tr style=\"text-align: right;\">\n",
              "      <th></th>\n",
              "      <th>My ID</th>\n",
              "      <th>Range</th>\n",
              "      <th>Value</th>\n",
              "      <th>Machine Type</th>\n",
              "      <th>Zip code</th>\n",
              "      <th>Brand</th>\n",
              "      <th>Total</th>\n",
              "    </tr>\n",
              "  </thead>\n",
              "  <tbody>\n",
              "    <tr>\n",
              "      <th>0</th>\n",
              "      <td>10</td>\n",
              "      <td>192.0</td>\n",
              "      <td>50.0</td>\n",
              "      <td>F</td>\n",
              "      <td>NXEYEM</td>\n",
              "      <td>F,NXEYEM</td>\n",
              "      <td>9600.0</td>\n",
              "    </tr>\n",
              "    <tr>\n",
              "      <th>1</th>\n",
              "      <td>20</td>\n",
              "      <td>299.0</td>\n",
              "      <td>21.0</td>\n",
              "      <td>M</td>\n",
              "      <td>VNFKZD</td>\n",
              "      <td>M,VNFKZD</td>\n",
              "      <td>6279.0</td>\n",
              "    </tr>\n",
              "    <tr>\n",
              "      <th>2</th>\n",
              "      <td>30</td>\n",
              "      <td>378.0</td>\n",
              "      <td>28.0</td>\n",
              "      <td>X</td>\n",
              "      <td>IMGMFY</td>\n",
              "      <td>X,IMGMFY</td>\n",
              "      <td>10584.0</td>\n",
              "    </tr>\n",
              "    <tr>\n",
              "      <th>3</th>\n",
              "      <td>40</td>\n",
              "      <td>156.0</td>\n",
              "      <td>44.0</td>\n",
              "      <td>Q</td>\n",
              "      <td>RHRHJY</td>\n",
              "      <td>Q,RHRHJY</td>\n",
              "      <td>6864.0</td>\n",
              "    </tr>\n",
              "    <tr>\n",
              "      <th>4</th>\n",
              "      <td>50</td>\n",
              "      <td>468.0</td>\n",
              "      <td>33.0</td>\n",
              "      <td>J</td>\n",
              "      <td>HPQCMC</td>\n",
              "      <td>J,HPQCMC</td>\n",
              "      <td>15444.0</td>\n",
              "    </tr>\n",
              "  </tbody>\n",
              "</table>\n",
              "</div>"
            ],
            "text/plain": [
              "  My ID  Range  Value Machine Type Zip code     Brand    Total\n",
              "0    10  192.0   50.0            F   NXEYEM  F,NXEYEM   9600.0\n",
              "1    20  299.0   21.0            M   VNFKZD  M,VNFKZD   6279.0\n",
              "2    30  378.0   28.0            X   IMGMFY  X,IMGMFY  10584.0\n",
              "3    40  156.0   44.0            Q   RHRHJY  Q,RHRHJY   6864.0\n",
              "4    50  468.0   33.0            J   HPQCMC  J,HPQCMC  15444.0"
            ]
          },
          "metadata": {},
          "execution_count": 27
        }
      ]
    },
    {
      "cell_type": "markdown",
      "metadata": {
        "id": "WoQxuX821fHl"
      },
      "source": [
        "17 - Change all the column names to ['id', 'range', 'value', 'machine type', 'zip code', 'brand', 'total'] and\n",
        "display the new column names."
      ]
    },
    {
      "cell_type": "code",
      "metadata": {
        "id": "kNd3Q1_r0Dpt"
      },
      "source": [
        "myColumsn = ['id', 'range', 'value', 'machine type', 'zip code', 'brand', 'total']"
      ],
      "execution_count": 28,
      "outputs": []
    },
    {
      "cell_type": "code",
      "metadata": {
        "id": "FISp7JZr39GT"
      },
      "source": [
        "myDF.columns = myColumsn"
      ],
      "execution_count": 29,
      "outputs": []
    },
    {
      "cell_type": "code",
      "metadata": {
        "colab": {
          "base_uri": "https://localhost:8080/",
          "height": 204
        },
        "id": "8YMELxXi4Fce",
        "outputId": "a0515c56-1b45-4e38-8cbc-1bbf1a0c2d46"
      },
      "source": [
        "myDF.head()"
      ],
      "execution_count": 30,
      "outputs": [
        {
          "output_type": "execute_result",
          "data": {
            "text/html": [
              "<div>\n",
              "<style scoped>\n",
              "    .dataframe tbody tr th:only-of-type {\n",
              "        vertical-align: middle;\n",
              "    }\n",
              "\n",
              "    .dataframe tbody tr th {\n",
              "        vertical-align: top;\n",
              "    }\n",
              "\n",
              "    .dataframe thead th {\n",
              "        text-align: right;\n",
              "    }\n",
              "</style>\n",
              "<table border=\"1\" class=\"dataframe\">\n",
              "  <thead>\n",
              "    <tr style=\"text-align: right;\">\n",
              "      <th></th>\n",
              "      <th>id</th>\n",
              "      <th>range</th>\n",
              "      <th>value</th>\n",
              "      <th>machine type</th>\n",
              "      <th>zip code</th>\n",
              "      <th>brand</th>\n",
              "      <th>total</th>\n",
              "    </tr>\n",
              "  </thead>\n",
              "  <tbody>\n",
              "    <tr>\n",
              "      <th>0</th>\n",
              "      <td>10</td>\n",
              "      <td>192.0</td>\n",
              "      <td>50.0</td>\n",
              "      <td>F</td>\n",
              "      <td>NXEYEM</td>\n",
              "      <td>F,NXEYEM</td>\n",
              "      <td>9600.0</td>\n",
              "    </tr>\n",
              "    <tr>\n",
              "      <th>1</th>\n",
              "      <td>20</td>\n",
              "      <td>299.0</td>\n",
              "      <td>21.0</td>\n",
              "      <td>M</td>\n",
              "      <td>VNFKZD</td>\n",
              "      <td>M,VNFKZD</td>\n",
              "      <td>6279.0</td>\n",
              "    </tr>\n",
              "    <tr>\n",
              "      <th>2</th>\n",
              "      <td>30</td>\n",
              "      <td>378.0</td>\n",
              "      <td>28.0</td>\n",
              "      <td>X</td>\n",
              "      <td>IMGMFY</td>\n",
              "      <td>X,IMGMFY</td>\n",
              "      <td>10584.0</td>\n",
              "    </tr>\n",
              "    <tr>\n",
              "      <th>3</th>\n",
              "      <td>40</td>\n",
              "      <td>156.0</td>\n",
              "      <td>44.0</td>\n",
              "      <td>Q</td>\n",
              "      <td>RHRHJY</td>\n",
              "      <td>Q,RHRHJY</td>\n",
              "      <td>6864.0</td>\n",
              "    </tr>\n",
              "    <tr>\n",
              "      <th>4</th>\n",
              "      <td>50</td>\n",
              "      <td>468.0</td>\n",
              "      <td>33.0</td>\n",
              "      <td>J</td>\n",
              "      <td>HPQCMC</td>\n",
              "      <td>J,HPQCMC</td>\n",
              "      <td>15444.0</td>\n",
              "    </tr>\n",
              "  </tbody>\n",
              "</table>\n",
              "</div>"
            ],
            "text/plain": [
              "   id  range  value machine type zip code     brand    total\n",
              "0  10  192.0   50.0            F   NXEYEM  F,NXEYEM   9600.0\n",
              "1  20  299.0   21.0            M   VNFKZD  M,VNFKZD   6279.0\n",
              "2  30  378.0   28.0            X   IMGMFY  X,IMGMFY  10584.0\n",
              "3  40  156.0   44.0            Q   RHRHJY  Q,RHRHJY   6864.0\n",
              "4  50  468.0   33.0            J   HPQCMC  J,HPQCMC  15444.0"
            ]
          },
          "metadata": {},
          "execution_count": 30
        }
      ]
    },
    {
      "cell_type": "markdown",
      "metadata": {
        "id": "KxJIzleh4IbS"
      },
      "source": [
        "18 - Replace all the spaces in the column names with ‘_’ and show the changed column again.\n",
        "\n"
      ]
    },
    {
      "cell_type": "code",
      "metadata": {
        "colab": {
          "base_uri": "https://localhost:8080/",
          "height": 204
        },
        "id": "JbhVbNun4GwV",
        "outputId": "3abb3746-2ac5-4b76-bf48-64f21c9c515b"
      },
      "source": [
        "myDF.columns = myDF.columns.str.replace(' ', '_')\n",
        "myDF.head()\n"
      ],
      "execution_count": 31,
      "outputs": [
        {
          "output_type": "execute_result",
          "data": {
            "text/html": [
              "<div>\n",
              "<style scoped>\n",
              "    .dataframe tbody tr th:only-of-type {\n",
              "        vertical-align: middle;\n",
              "    }\n",
              "\n",
              "    .dataframe tbody tr th {\n",
              "        vertical-align: top;\n",
              "    }\n",
              "\n",
              "    .dataframe thead th {\n",
              "        text-align: right;\n",
              "    }\n",
              "</style>\n",
              "<table border=\"1\" class=\"dataframe\">\n",
              "  <thead>\n",
              "    <tr style=\"text-align: right;\">\n",
              "      <th></th>\n",
              "      <th>id</th>\n",
              "      <th>range</th>\n",
              "      <th>value</th>\n",
              "      <th>machine_type</th>\n",
              "      <th>zip_code</th>\n",
              "      <th>brand</th>\n",
              "      <th>total</th>\n",
              "    </tr>\n",
              "  </thead>\n",
              "  <tbody>\n",
              "    <tr>\n",
              "      <th>0</th>\n",
              "      <td>10</td>\n",
              "      <td>192.0</td>\n",
              "      <td>50.0</td>\n",
              "      <td>F</td>\n",
              "      <td>NXEYEM</td>\n",
              "      <td>F,NXEYEM</td>\n",
              "      <td>9600.0</td>\n",
              "    </tr>\n",
              "    <tr>\n",
              "      <th>1</th>\n",
              "      <td>20</td>\n",
              "      <td>299.0</td>\n",
              "      <td>21.0</td>\n",
              "      <td>M</td>\n",
              "      <td>VNFKZD</td>\n",
              "      <td>M,VNFKZD</td>\n",
              "      <td>6279.0</td>\n",
              "    </tr>\n",
              "    <tr>\n",
              "      <th>2</th>\n",
              "      <td>30</td>\n",
              "      <td>378.0</td>\n",
              "      <td>28.0</td>\n",
              "      <td>X</td>\n",
              "      <td>IMGMFY</td>\n",
              "      <td>X,IMGMFY</td>\n",
              "      <td>10584.0</td>\n",
              "    </tr>\n",
              "    <tr>\n",
              "      <th>3</th>\n",
              "      <td>40</td>\n",
              "      <td>156.0</td>\n",
              "      <td>44.0</td>\n",
              "      <td>Q</td>\n",
              "      <td>RHRHJY</td>\n",
              "      <td>Q,RHRHJY</td>\n",
              "      <td>6864.0</td>\n",
              "    </tr>\n",
              "    <tr>\n",
              "      <th>4</th>\n",
              "      <td>50</td>\n",
              "      <td>468.0</td>\n",
              "      <td>33.0</td>\n",
              "      <td>J</td>\n",
              "      <td>HPQCMC</td>\n",
              "      <td>J,HPQCMC</td>\n",
              "      <td>15444.0</td>\n",
              "    </tr>\n",
              "  </tbody>\n",
              "</table>\n",
              "</div>"
            ],
            "text/plain": [
              "   id  range  value machine_type zip_code     brand    total\n",
              "0  10  192.0   50.0            F   NXEYEM  F,NXEYEM   9600.0\n",
              "1  20  299.0   21.0            M   VNFKZD  M,VNFKZD   6279.0\n",
              "2  30  378.0   28.0            X   IMGMFY  X,IMGMFY  10584.0\n",
              "3  40  156.0   44.0            Q   RHRHJY  Q,RHRHJY   6864.0\n",
              "4  50  468.0   33.0            J   HPQCMC  J,HPQCMC  15444.0"
            ]
          },
          "metadata": {},
          "execution_count": 31
        }
      ]
    },
    {
      "cell_type": "markdown",
      "metadata": {
        "id": "HuYNUZ1i6Kmi"
      },
      "source": [
        "19 - Delete the 'brand', 'total' columns permanently. "
      ]
    },
    {
      "cell_type": "code",
      "metadata": {
        "id": "aTsO7PMA53VR"
      },
      "source": [
        "myDF.drop(['brand','total'], axis=1, inplace=True)"
      ],
      "execution_count": 32,
      "outputs": []
    },
    {
      "cell_type": "markdown",
      "metadata": {
        "id": "cfIcKt0L63Lb"
      },
      "source": [
        "20 - Delete row number 3 and row number 5 from the DF permanently and show the top 5 rows."
      ]
    },
    {
      "cell_type": "code",
      "metadata": {
        "id": "MPqGeKZG6kju"
      },
      "source": [
        "myDF.drop([3,5],axis=0,inplace=True)"
      ],
      "execution_count": 33,
      "outputs": []
    },
    {
      "cell_type": "code",
      "metadata": {
        "colab": {
          "base_uri": "https://localhost:8080/",
          "height": 204
        },
        "id": "_de8azaL7HtU",
        "outputId": "493149b7-3928-41db-d49c-f8283bfa6c07"
      },
      "source": [
        "myDF.head()"
      ],
      "execution_count": 35,
      "outputs": [
        {
          "output_type": "execute_result",
          "data": {
            "text/html": [
              "<div>\n",
              "<style scoped>\n",
              "    .dataframe tbody tr th:only-of-type {\n",
              "        vertical-align: middle;\n",
              "    }\n",
              "\n",
              "    .dataframe tbody tr th {\n",
              "        vertical-align: top;\n",
              "    }\n",
              "\n",
              "    .dataframe thead th {\n",
              "        text-align: right;\n",
              "    }\n",
              "</style>\n",
              "<table border=\"1\" class=\"dataframe\">\n",
              "  <thead>\n",
              "    <tr style=\"text-align: right;\">\n",
              "      <th></th>\n",
              "      <th>id</th>\n",
              "      <th>range</th>\n",
              "      <th>value</th>\n",
              "      <th>machine_type</th>\n",
              "      <th>zip_code</th>\n",
              "    </tr>\n",
              "  </thead>\n",
              "  <tbody>\n",
              "    <tr>\n",
              "      <th>0</th>\n",
              "      <td>10</td>\n",
              "      <td>192.0</td>\n",
              "      <td>50.0</td>\n",
              "      <td>F</td>\n",
              "      <td>NXEYEM</td>\n",
              "    </tr>\n",
              "    <tr>\n",
              "      <th>1</th>\n",
              "      <td>20</td>\n",
              "      <td>299.0</td>\n",
              "      <td>21.0</td>\n",
              "      <td>M</td>\n",
              "      <td>VNFKZD</td>\n",
              "    </tr>\n",
              "    <tr>\n",
              "      <th>2</th>\n",
              "      <td>30</td>\n",
              "      <td>378.0</td>\n",
              "      <td>28.0</td>\n",
              "      <td>X</td>\n",
              "      <td>IMGMFY</td>\n",
              "    </tr>\n",
              "    <tr>\n",
              "      <th>4</th>\n",
              "      <td>50</td>\n",
              "      <td>468.0</td>\n",
              "      <td>33.0</td>\n",
              "      <td>J</td>\n",
              "      <td>HPQCMC</td>\n",
              "    </tr>\n",
              "    <tr>\n",
              "      <th>6</th>\n",
              "      <td>70</td>\n",
              "      <td>327.0</td>\n",
              "      <td>24.0</td>\n",
              "      <td>F</td>\n",
              "      <td>NLVQPY</td>\n",
              "    </tr>\n",
              "  </tbody>\n",
              "</table>\n",
              "</div>"
            ],
            "text/plain": [
              "   id  range  value machine_type zip_code\n",
              "0  10  192.0   50.0            F   NXEYEM\n",
              "1  20  299.0   21.0            M   VNFKZD\n",
              "2  30  378.0   28.0            X   IMGMFY\n",
              "4  50  468.0   33.0            J   HPQCMC\n",
              "6  70  327.0   24.0            F   NLVQPY"
            ]
          },
          "metadata": {},
          "execution_count": 35
        }
      ]
    },
    {
      "cell_type": "markdown",
      "metadata": {
        "id": "YBVNwPBg9MU3"
      },
      "source": [
        "21 - Sort the value Series in ascending order, showing only the value column."
      ]
    },
    {
      "cell_type": "code",
      "metadata": {
        "id": "Xaic28LF7lZh",
        "colab": {
          "base_uri": "https://localhost:8080/",
          "height": 418
        },
        "outputId": "34d2f7ee-c3d4-4345-a0cb-2355376612e4"
      },
      "source": [
        "myDF.sort_values('value') #Ascending is the standart "
      ],
      "execution_count": 36,
      "outputs": [
        {
          "output_type": "execute_result",
          "data": {
            "text/html": [
              "<div>\n",
              "<style scoped>\n",
              "    .dataframe tbody tr th:only-of-type {\n",
              "        vertical-align: middle;\n",
              "    }\n",
              "\n",
              "    .dataframe tbody tr th {\n",
              "        vertical-align: top;\n",
              "    }\n",
              "\n",
              "    .dataframe thead th {\n",
              "        text-align: right;\n",
              "    }\n",
              "</style>\n",
              "<table border=\"1\" class=\"dataframe\">\n",
              "  <thead>\n",
              "    <tr style=\"text-align: right;\">\n",
              "      <th></th>\n",
              "      <th>id</th>\n",
              "      <th>range</th>\n",
              "      <th>value</th>\n",
              "      <th>machine_type</th>\n",
              "      <th>zip_code</th>\n",
              "    </tr>\n",
              "  </thead>\n",
              "  <tbody>\n",
              "    <tr>\n",
              "      <th>950</th>\n",
              "      <td>9500</td>\n",
              "      <td>137.0</td>\n",
              "      <td>10.0</td>\n",
              "      <td>W</td>\n",
              "      <td>JOHHVL</td>\n",
              "    </tr>\n",
              "    <tr>\n",
              "      <th>506</th>\n",
              "      <td>5070</td>\n",
              "      <td>268.0</td>\n",
              "      <td>10.0</td>\n",
              "      <td>N</td>\n",
              "      <td>WHIZNL</td>\n",
              "    </tr>\n",
              "    <tr>\n",
              "      <th>888</th>\n",
              "      <td>8890</td>\n",
              "      <td>430.0</td>\n",
              "      <td>10.0</td>\n",
              "      <td>Q</td>\n",
              "      <td>VXHFZN</td>\n",
              "    </tr>\n",
              "    <tr>\n",
              "      <th>203</th>\n",
              "      <td>2040</td>\n",
              "      <td>148.0</td>\n",
              "      <td>10.0</td>\n",
              "      <td>T</td>\n",
              "      <td>NRLBSZ</td>\n",
              "    </tr>\n",
              "    <tr>\n",
              "      <th>538</th>\n",
              "      <td>5390</td>\n",
              "      <td>350.0</td>\n",
              "      <td>10.0</td>\n",
              "      <td>J</td>\n",
              "      <td>WEUVDY</td>\n",
              "    </tr>\n",
              "    <tr>\n",
              "      <th>...</th>\n",
              "      <td>...</td>\n",
              "      <td>...</td>\n",
              "      <td>...</td>\n",
              "      <td>...</td>\n",
              "      <td>...</td>\n",
              "    </tr>\n",
              "    <tr>\n",
              "      <th>306</th>\n",
              "      <td>3070</td>\n",
              "      <td>315.0</td>\n",
              "      <td>50.0</td>\n",
              "      <td>D</td>\n",
              "      <td>VFJBWF</td>\n",
              "    </tr>\n",
              "    <tr>\n",
              "      <th>670</th>\n",
              "      <td>6710</td>\n",
              "      <td>191.0</td>\n",
              "      <td>50.0</td>\n",
              "      <td>A</td>\n",
              "      <td>QSURZT</td>\n",
              "    </tr>\n",
              "    <tr>\n",
              "      <th>559</th>\n",
              "      <td>5600</td>\n",
              "      <td>395.0</td>\n",
              "      <td>50.0</td>\n",
              "      <td>T</td>\n",
              "      <td>CVSBMG</td>\n",
              "    </tr>\n",
              "    <tr>\n",
              "      <th>0</th>\n",
              "      <td>10</td>\n",
              "      <td>192.0</td>\n",
              "      <td>50.0</td>\n",
              "      <td>F</td>\n",
              "      <td>NXEYEM</td>\n",
              "    </tr>\n",
              "    <tr>\n",
              "      <th>921</th>\n",
              "      <td>#Reza Dibaj, ST ID=101280076</td>\n",
              "      <td>NaN</td>\n",
              "      <td>NaN</td>\n",
              "      <td>NaN</td>\n",
              "      <td>NaN</td>\n",
              "    </tr>\n",
              "  </tbody>\n",
              "</table>\n",
              "<p>949 rows × 5 columns</p>\n",
              "</div>"
            ],
            "text/plain": [
              "                               id  range  value machine_type zip_code\n",
              "950                          9500  137.0   10.0            W   JOHHVL\n",
              "506                          5070  268.0   10.0            N   WHIZNL\n",
              "888                          8890  430.0   10.0            Q   VXHFZN\n",
              "203                          2040  148.0   10.0            T   NRLBSZ\n",
              "538                          5390  350.0   10.0            J   WEUVDY\n",
              "..                            ...    ...    ...          ...      ...\n",
              "306                          3070  315.0   50.0            D   VFJBWF\n",
              "670                          6710  191.0   50.0            A   QSURZT\n",
              "559                          5600  395.0   50.0            T   CVSBMG\n",
              "0                              10  192.0   50.0            F   NXEYEM\n",
              "921  #Reza Dibaj, ST ID=101280076    NaN    NaN          NaN      NaN\n",
              "\n",
              "[949 rows x 5 columns]"
            ]
          },
          "metadata": {},
          "execution_count": 36
        }
      ]
    },
    {
      "cell_type": "markdown",
      "metadata": {
        "id": "y-9iyCW0B6tB"
      },
      "source": [
        "22 - . Sort the value Series in ascending order, showing the whole DataFrame."
      ]
    },
    {
      "cell_type": "code",
      "metadata": {
        "colab": {
          "base_uri": "https://localhost:8080/",
          "height": 418
        },
        "id": "w8FipXImBwIH",
        "outputId": "7680b7e1-da55-47fe-d30a-13fd45541ee9"
      },
      "source": [
        "myDF.sort_values(['id','range','value','machine_type','zip_code']) #Ascending is the standart "
      ],
      "execution_count": 37,
      "outputs": [
        {
          "output_type": "execute_result",
          "data": {
            "text/html": [
              "<div>\n",
              "<style scoped>\n",
              "    .dataframe tbody tr th:only-of-type {\n",
              "        vertical-align: middle;\n",
              "    }\n",
              "\n",
              "    .dataframe tbody tr th {\n",
              "        vertical-align: top;\n",
              "    }\n",
              "\n",
              "    .dataframe thead th {\n",
              "        text-align: right;\n",
              "    }\n",
              "</style>\n",
              "<table border=\"1\" class=\"dataframe\">\n",
              "  <thead>\n",
              "    <tr style=\"text-align: right;\">\n",
              "      <th></th>\n",
              "      <th>id</th>\n",
              "      <th>range</th>\n",
              "      <th>value</th>\n",
              "      <th>machine_type</th>\n",
              "      <th>zip_code</th>\n",
              "    </tr>\n",
              "  </thead>\n",
              "  <tbody>\n",
              "    <tr>\n",
              "      <th>921</th>\n",
              "      <td>#Reza Dibaj, ST ID=101280076</td>\n",
              "      <td>NaN</td>\n",
              "      <td>NaN</td>\n",
              "      <td>NaN</td>\n",
              "      <td>NaN</td>\n",
              "    </tr>\n",
              "    <tr>\n",
              "      <th>0</th>\n",
              "      <td>10</td>\n",
              "      <td>192.0</td>\n",
              "      <td>50.0</td>\n",
              "      <td>F</td>\n",
              "      <td>NXEYEM</td>\n",
              "    </tr>\n",
              "    <tr>\n",
              "      <th>9</th>\n",
              "      <td>100</td>\n",
              "      <td>347.0</td>\n",
              "      <td>30.0</td>\n",
              "      <td>K</td>\n",
              "      <td>RSVMXY</td>\n",
              "    </tr>\n",
              "    <tr>\n",
              "      <th>99</th>\n",
              "      <td>1000</td>\n",
              "      <td>289.0</td>\n",
              "      <td>29.0</td>\n",
              "      <td>G</td>\n",
              "      <td>LCNMXV</td>\n",
              "    </tr>\n",
              "    <tr>\n",
              "      <th>100</th>\n",
              "      <td>1010</td>\n",
              "      <td>343.0</td>\n",
              "      <td>21.0</td>\n",
              "      <td>U</td>\n",
              "      <td>WXEISY</td>\n",
              "    </tr>\n",
              "    <tr>\n",
              "      <th>...</th>\n",
              "      <td>...</td>\n",
              "      <td>...</td>\n",
              "      <td>...</td>\n",
              "      <td>...</td>\n",
              "      <td>...</td>\n",
              "    </tr>\n",
              "    <tr>\n",
              "      <th>950</th>\n",
              "      <td>9500</td>\n",
              "      <td>137.0</td>\n",
              "      <td>10.0</td>\n",
              "      <td>W</td>\n",
              "      <td>JOHHVL</td>\n",
              "    </tr>\n",
              "    <tr>\n",
              "      <th>95</th>\n",
              "      <td>960</td>\n",
              "      <td>184.0</td>\n",
              "      <td>13.0</td>\n",
              "      <td>F</td>\n",
              "      <td>MHRJTN</td>\n",
              "    </tr>\n",
              "    <tr>\n",
              "      <th>96</th>\n",
              "      <td>970</td>\n",
              "      <td>486.0</td>\n",
              "      <td>36.0</td>\n",
              "      <td>W</td>\n",
              "      <td>XVYWMN</td>\n",
              "    </tr>\n",
              "    <tr>\n",
              "      <th>97</th>\n",
              "      <td>980</td>\n",
              "      <td>133.0</td>\n",
              "      <td>15.0</td>\n",
              "      <td>T</td>\n",
              "      <td>AJLOVI</td>\n",
              "    </tr>\n",
              "    <tr>\n",
              "      <th>98</th>\n",
              "      <td>990</td>\n",
              "      <td>201.0</td>\n",
              "      <td>21.0</td>\n",
              "      <td>Y</td>\n",
              "      <td>TYJAIQ</td>\n",
              "    </tr>\n",
              "  </tbody>\n",
              "</table>\n",
              "<p>949 rows × 5 columns</p>\n",
              "</div>"
            ],
            "text/plain": [
              "                               id  range  value machine_type zip_code\n",
              "921  #Reza Dibaj, ST ID=101280076    NaN    NaN          NaN      NaN\n",
              "0                              10  192.0   50.0            F   NXEYEM\n",
              "9                             100  347.0   30.0            K   RSVMXY\n",
              "99                           1000  289.0   29.0            G   LCNMXV\n",
              "100                          1010  343.0   21.0            U   WXEISY\n",
              "..                            ...    ...    ...          ...      ...\n",
              "950                          9500  137.0   10.0            W   JOHHVL\n",
              "95                            960  184.0   13.0            F   MHRJTN\n",
              "96                            970  486.0   36.0            W   XVYWMN\n",
              "97                            980  133.0   15.0            T   AJLOVI\n",
              "98                            990  201.0   21.0            Y   TYJAIQ\n",
              "\n",
              "[949 rows x 5 columns]"
            ]
          },
          "metadata": {},
          "execution_count": 37
        }
      ]
    },
    {
      "cell_type": "markdown",
      "metadata": {
        "id": "79wKhzq_CTjf"
      },
      "source": [
        "23 - Sort the value Series in ascending order, showing the whole DataFrame, inplace"
      ]
    },
    {
      "cell_type": "code",
      "metadata": {
        "id": "FVulelA_CJCe"
      },
      "source": [
        "myDF.sort_values(['id','range','value','machine_type','zip_code'], inplace = True) #Ascending is the standart "
      ],
      "execution_count": 38,
      "outputs": []
    },
    {
      "cell_type": "markdown",
      "metadata": {
        "id": "VtCRNmQcCfZf"
      },
      "source": [
        "24 - Sort myDF DataFrame based on the range and value in ascending and descending order,\n",
        "respectively. (range in ascending and value in descending order)."
      ]
    },
    {
      "cell_type": "code",
      "metadata": {
        "colab": {
          "base_uri": "https://localhost:8080/",
          "height": 418
        },
        "id": "d-39JMQzCaYf",
        "outputId": "353cf32f-7b07-40cd-dcfd-cf70e4dccfd6"
      },
      "source": [
        "myDF.sort_values(['range','value'], ascending=[True,False])"
      ],
      "execution_count": 39,
      "outputs": [
        {
          "output_type": "execute_result",
          "data": {
            "text/html": [
              "<div>\n",
              "<style scoped>\n",
              "    .dataframe tbody tr th:only-of-type {\n",
              "        vertical-align: middle;\n",
              "    }\n",
              "\n",
              "    .dataframe tbody tr th {\n",
              "        vertical-align: top;\n",
              "    }\n",
              "\n",
              "    .dataframe thead th {\n",
              "        text-align: right;\n",
              "    }\n",
              "</style>\n",
              "<table border=\"1\" class=\"dataframe\">\n",
              "  <thead>\n",
              "    <tr style=\"text-align: right;\">\n",
              "      <th></th>\n",
              "      <th>id</th>\n",
              "      <th>range</th>\n",
              "      <th>value</th>\n",
              "      <th>machine_type</th>\n",
              "      <th>zip_code</th>\n",
              "    </tr>\n",
              "  </thead>\n",
              "  <tbody>\n",
              "    <tr>\n",
              "      <th>504</th>\n",
              "      <td>5050</td>\n",
              "      <td>100.0</td>\n",
              "      <td>21.0</td>\n",
              "      <td>S</td>\n",
              "      <td>KLYYQV</td>\n",
              "    </tr>\n",
              "    <tr>\n",
              "      <th>462</th>\n",
              "      <td>4630</td>\n",
              "      <td>101.0</td>\n",
              "      <td>26.0</td>\n",
              "      <td>P</td>\n",
              "      <td>PBJHPM</td>\n",
              "    </tr>\n",
              "    <tr>\n",
              "      <th>798</th>\n",
              "      <td>7990</td>\n",
              "      <td>101.0</td>\n",
              "      <td>20.0</td>\n",
              "      <td>E</td>\n",
              "      <td>QXAZJW</td>\n",
              "    </tr>\n",
              "    <tr>\n",
              "      <th>556</th>\n",
              "      <td>5570</td>\n",
              "      <td>102.0</td>\n",
              "      <td>15.0</td>\n",
              "      <td>M</td>\n",
              "      <td>SSGQYR</td>\n",
              "    </tr>\n",
              "    <tr>\n",
              "      <th>751</th>\n",
              "      <td>7520</td>\n",
              "      <td>103.0</td>\n",
              "      <td>44.0</td>\n",
              "      <td>Q</td>\n",
              "      <td>XOGVUH</td>\n",
              "    </tr>\n",
              "    <tr>\n",
              "      <th>...</th>\n",
              "      <td>...</td>\n",
              "      <td>...</td>\n",
              "      <td>...</td>\n",
              "      <td>...</td>\n",
              "      <td>...</td>\n",
              "    </tr>\n",
              "    <tr>\n",
              "      <th>163</th>\n",
              "      <td>1640</td>\n",
              "      <td>499.0</td>\n",
              "      <td>13.0</td>\n",
              "      <td>M</td>\n",
              "      <td>JQQXBS</td>\n",
              "    </tr>\n",
              "    <tr>\n",
              "      <th>411</th>\n",
              "      <td>4120</td>\n",
              "      <td>500.0</td>\n",
              "      <td>27.0</td>\n",
              "      <td>Q</td>\n",
              "      <td>NRNLPN</td>\n",
              "    </tr>\n",
              "    <tr>\n",
              "      <th>731</th>\n",
              "      <td>7320</td>\n",
              "      <td>500.0</td>\n",
              "      <td>20.0</td>\n",
              "      <td>Z</td>\n",
              "      <td>JUKAMV</td>\n",
              "    </tr>\n",
              "    <tr>\n",
              "      <th>423</th>\n",
              "      <td>4240</td>\n",
              "      <td>500.0</td>\n",
              "      <td>17.0</td>\n",
              "      <td>Q</td>\n",
              "      <td>IYUYPO</td>\n",
              "    </tr>\n",
              "    <tr>\n",
              "      <th>921</th>\n",
              "      <td>#Reza Dibaj, ST ID=101280076</td>\n",
              "      <td>NaN</td>\n",
              "      <td>NaN</td>\n",
              "      <td>NaN</td>\n",
              "      <td>NaN</td>\n",
              "    </tr>\n",
              "  </tbody>\n",
              "</table>\n",
              "<p>949 rows × 5 columns</p>\n",
              "</div>"
            ],
            "text/plain": [
              "                               id  range  value machine_type zip_code\n",
              "504                          5050  100.0   21.0            S   KLYYQV\n",
              "462                          4630  101.0   26.0            P   PBJHPM\n",
              "798                          7990  101.0   20.0            E   QXAZJW\n",
              "556                          5570  102.0   15.0            M   SSGQYR\n",
              "751                          7520  103.0   44.0            Q   XOGVUH\n",
              "..                            ...    ...    ...          ...      ...\n",
              "163                          1640  499.0   13.0            M   JQQXBS\n",
              "411                          4120  500.0   27.0            Q   NRNLPN\n",
              "731                          7320  500.0   20.0            Z   JUKAMV\n",
              "423                          4240  500.0   17.0            Q   IYUYPO\n",
              "921  #Reza Dibaj, ST ID=101280076    NaN    NaN          NaN      NaN\n",
              "\n",
              "[949 rows x 5 columns]"
            ]
          },
          "metadata": {},
          "execution_count": 39
        }
      ]
    },
    {
      "cell_type": "markdown",
      "metadata": {
        "id": "hf4l5GJjCwpD"
      },
      "source": [
        "25 - Display those rows of myDF that their range is between 250 and 350."
      ]
    },
    {
      "cell_type": "code",
      "metadata": {
        "colab": {
          "base_uri": "https://localhost:8080/",
          "height": 418
        },
        "id": "Vrsa72wCCvCY",
        "outputId": "4775702b-cb83-4311-9dfc-cd923ab88bc5"
      },
      "source": [
        "myDF.loc[myDF.range.between(250,350)]"
      ],
      "execution_count": 40,
      "outputs": [
        {
          "output_type": "execute_result",
          "data": {
            "text/html": [
              "<div>\n",
              "<style scoped>\n",
              "    .dataframe tbody tr th:only-of-type {\n",
              "        vertical-align: middle;\n",
              "    }\n",
              "\n",
              "    .dataframe tbody tr th {\n",
              "        vertical-align: top;\n",
              "    }\n",
              "\n",
              "    .dataframe thead th {\n",
              "        text-align: right;\n",
              "    }\n",
              "</style>\n",
              "<table border=\"1\" class=\"dataframe\">\n",
              "  <thead>\n",
              "    <tr style=\"text-align: right;\">\n",
              "      <th></th>\n",
              "      <th>id</th>\n",
              "      <th>range</th>\n",
              "      <th>value</th>\n",
              "      <th>machine_type</th>\n",
              "      <th>zip_code</th>\n",
              "    </tr>\n",
              "  </thead>\n",
              "  <tbody>\n",
              "    <tr>\n",
              "      <th>9</th>\n",
              "      <td>100</td>\n",
              "      <td>347.0</td>\n",
              "      <td>30.0</td>\n",
              "      <td>K</td>\n",
              "      <td>RSVMXY</td>\n",
              "    </tr>\n",
              "    <tr>\n",
              "      <th>99</th>\n",
              "      <td>1000</td>\n",
              "      <td>289.0</td>\n",
              "      <td>29.0</td>\n",
              "      <td>G</td>\n",
              "      <td>LCNMXV</td>\n",
              "    </tr>\n",
              "    <tr>\n",
              "      <th>100</th>\n",
              "      <td>1010</td>\n",
              "      <td>343.0</td>\n",
              "      <td>21.0</td>\n",
              "      <td>U</td>\n",
              "      <td>WXEISY</td>\n",
              "    </tr>\n",
              "    <tr>\n",
              "      <th>102</th>\n",
              "      <td>1030</td>\n",
              "      <td>331.0</td>\n",
              "      <td>26.0</td>\n",
              "      <td>Q</td>\n",
              "      <td>LQOEQI</td>\n",
              "    </tr>\n",
              "    <tr>\n",
              "      <th>105</th>\n",
              "      <td>1060</td>\n",
              "      <td>256.0</td>\n",
              "      <td>26.0</td>\n",
              "      <td>O</td>\n",
              "      <td>GFCGWN</td>\n",
              "    </tr>\n",
              "    <tr>\n",
              "      <th>...</th>\n",
              "      <td>...</td>\n",
              "      <td>...</td>\n",
              "      <td>...</td>\n",
              "      <td>...</td>\n",
              "      <td>...</td>\n",
              "    </tr>\n",
              "    <tr>\n",
              "      <th>923</th>\n",
              "      <td>9230</td>\n",
              "      <td>276.0</td>\n",
              "      <td>30.0</td>\n",
              "      <td>C</td>\n",
              "      <td>CYADRG</td>\n",
              "    </tr>\n",
              "    <tr>\n",
              "      <th>930</th>\n",
              "      <td>9300</td>\n",
              "      <td>344.0</td>\n",
              "      <td>23.0</td>\n",
              "      <td>S</td>\n",
              "      <td>YRWLCJ</td>\n",
              "    </tr>\n",
              "    <tr>\n",
              "      <th>932</th>\n",
              "      <td>9320</td>\n",
              "      <td>302.0</td>\n",
              "      <td>30.0</td>\n",
              "      <td>C</td>\n",
              "      <td>MZEFTD</td>\n",
              "    </tr>\n",
              "    <tr>\n",
              "      <th>933</th>\n",
              "      <td>9330</td>\n",
              "      <td>258.0</td>\n",
              "      <td>14.0</td>\n",
              "      <td>P</td>\n",
              "      <td>MCWQKU</td>\n",
              "    </tr>\n",
              "    <tr>\n",
              "      <th>947</th>\n",
              "      <td>9470</td>\n",
              "      <td>316.0</td>\n",
              "      <td>46.0</td>\n",
              "      <td>L</td>\n",
              "      <td>SHBAUD</td>\n",
              "    </tr>\n",
              "  </tbody>\n",
              "</table>\n",
              "<p>204 rows × 5 columns</p>\n",
              "</div>"
            ],
            "text/plain": [
              "       id  range  value machine_type zip_code\n",
              "9     100  347.0   30.0            K   RSVMXY\n",
              "99   1000  289.0   29.0            G   LCNMXV\n",
              "100  1010  343.0   21.0            U   WXEISY\n",
              "102  1030  331.0   26.0            Q   LQOEQI\n",
              "105  1060  256.0   26.0            O   GFCGWN\n",
              "..    ...    ...    ...          ...      ...\n",
              "923  9230  276.0   30.0            C   CYADRG\n",
              "930  9300  344.0   23.0            S   YRWLCJ\n",
              "932  9320  302.0   30.0            C   MZEFTD\n",
              "933  9330  258.0   14.0            P   MCWQKU\n",
              "947  9470  316.0   46.0            L   SHBAUD\n",
              "\n",
              "[204 rows x 5 columns]"
            ]
          },
          "metadata": {},
          "execution_count": 40
        }
      ]
    },
    {
      "cell_type": "markdown",
      "metadata": {
        "id": "ixprgAFMHRmp"
      },
      "source": [
        "26 - Display those rows of myDF that their range is between 250 and 350 in an ascending sorted\n",
        "format."
      ]
    },
    {
      "cell_type": "code",
      "metadata": {
        "colab": {
          "base_uri": "https://localhost:8080/",
          "height": 418
        },
        "id": "AEO2ZiNiHHBh",
        "outputId": "66bf6c4e-e514-44d7-e02a-7e7782d90697"
      },
      "source": [
        "myDF.loc[myDF.range.between(250,350)].sort_values(['range']) #Ascending is the standart "
      ],
      "execution_count": 41,
      "outputs": [
        {
          "output_type": "execute_result",
          "data": {
            "text/html": [
              "<div>\n",
              "<style scoped>\n",
              "    .dataframe tbody tr th:only-of-type {\n",
              "        vertical-align: middle;\n",
              "    }\n",
              "\n",
              "    .dataframe tbody tr th {\n",
              "        vertical-align: top;\n",
              "    }\n",
              "\n",
              "    .dataframe thead th {\n",
              "        text-align: right;\n",
              "    }\n",
              "</style>\n",
              "<table border=\"1\" class=\"dataframe\">\n",
              "  <thead>\n",
              "    <tr style=\"text-align: right;\">\n",
              "      <th></th>\n",
              "      <th>id</th>\n",
              "      <th>range</th>\n",
              "      <th>value</th>\n",
              "      <th>machine_type</th>\n",
              "      <th>zip_code</th>\n",
              "    </tr>\n",
              "  </thead>\n",
              "  <tbody>\n",
              "    <tr>\n",
              "      <th>57</th>\n",
              "      <td>580</td>\n",
              "      <td>250.0</td>\n",
              "      <td>19.0</td>\n",
              "      <td>K</td>\n",
              "      <td>EFXWGS</td>\n",
              "    </tr>\n",
              "    <tr>\n",
              "      <th>262</th>\n",
              "      <td>2630</td>\n",
              "      <td>250.0</td>\n",
              "      <td>12.0</td>\n",
              "      <td>O</td>\n",
              "      <td>ZZIXOA</td>\n",
              "    </tr>\n",
              "    <tr>\n",
              "      <th>811</th>\n",
              "      <td>8120</td>\n",
              "      <td>251.0</td>\n",
              "      <td>49.0</td>\n",
              "      <td>D</td>\n",
              "      <td>QOWNHD</td>\n",
              "    </tr>\n",
              "    <tr>\n",
              "      <th>307</th>\n",
              "      <td>3080</td>\n",
              "      <td>251.0</td>\n",
              "      <td>26.0</td>\n",
              "      <td>Z</td>\n",
              "      <td>YCKPXV</td>\n",
              "    </tr>\n",
              "    <tr>\n",
              "      <th>276</th>\n",
              "      <td>2770</td>\n",
              "      <td>252.0</td>\n",
              "      <td>38.0</td>\n",
              "      <td>J</td>\n",
              "      <td>SKKOYK</td>\n",
              "    </tr>\n",
              "    <tr>\n",
              "      <th>...</th>\n",
              "      <td>...</td>\n",
              "      <td>...</td>\n",
              "      <td>...</td>\n",
              "      <td>...</td>\n",
              "      <td>...</td>\n",
              "    </tr>\n",
              "    <tr>\n",
              "      <th>645</th>\n",
              "      <td>6460</td>\n",
              "      <td>350.0</td>\n",
              "      <td>30.0</td>\n",
              "      <td>Q</td>\n",
              "      <td>LVDEAS</td>\n",
              "    </tr>\n",
              "    <tr>\n",
              "      <th>738</th>\n",
              "      <td>7390</td>\n",
              "      <td>350.0</td>\n",
              "      <td>24.0</td>\n",
              "      <td>X</td>\n",
              "      <td>NaN</td>\n",
              "    </tr>\n",
              "    <tr>\n",
              "      <th>538</th>\n",
              "      <td>5390</td>\n",
              "      <td>350.0</td>\n",
              "      <td>10.0</td>\n",
              "      <td>J</td>\n",
              "      <td>WEUVDY</td>\n",
              "    </tr>\n",
              "    <tr>\n",
              "      <th>833</th>\n",
              "      <td>8340</td>\n",
              "      <td>350.0</td>\n",
              "      <td>46.0</td>\n",
              "      <td>K</td>\n",
              "      <td>NCUWLM</td>\n",
              "    </tr>\n",
              "    <tr>\n",
              "      <th>382</th>\n",
              "      <td>3830</td>\n",
              "      <td>350.0</td>\n",
              "      <td>14.0</td>\n",
              "      <td>M</td>\n",
              "      <td>FOIOWR</td>\n",
              "    </tr>\n",
              "  </tbody>\n",
              "</table>\n",
              "<p>204 rows × 5 columns</p>\n",
              "</div>"
            ],
            "text/plain": [
              "       id  range  value machine_type zip_code\n",
              "57    580  250.0   19.0            K   EFXWGS\n",
              "262  2630  250.0   12.0            O   ZZIXOA\n",
              "811  8120  251.0   49.0            D   QOWNHD\n",
              "307  3080  251.0   26.0            Z   YCKPXV\n",
              "276  2770  252.0   38.0            J   SKKOYK\n",
              "..    ...    ...    ...          ...      ...\n",
              "645  6460  350.0   30.0            Q   LVDEAS\n",
              "738  7390  350.0   24.0            X      NaN\n",
              "538  5390  350.0   10.0            J   WEUVDY\n",
              "833  8340  350.0   46.0            K   NCUWLM\n",
              "382  3830  350.0   14.0            M   FOIOWR\n",
              "\n",
              "[204 rows x 5 columns]"
            ]
          },
          "metadata": {},
          "execution_count": 41
        }
      ]
    },
    {
      "cell_type": "markdown",
      "metadata": {
        "id": "pliKK3aJILOS"
      },
      "source": [
        "27 - Display only the id and value columns of those rows of myDF that their range is between 250 and\n",
        "350."
      ]
    },
    {
      "cell_type": "code",
      "metadata": {
        "colab": {
          "base_uri": "https://localhost:8080/",
          "height": 418
        },
        "id": "8nYg_s_NH6I8",
        "outputId": "a4780c91-5a1e-4018-b45c-450a4a7a9323"
      },
      "source": [
        "myDF.loc[myDF.range.between(250,350), ['id','value']]"
      ],
      "execution_count": 42,
      "outputs": [
        {
          "output_type": "execute_result",
          "data": {
            "text/html": [
              "<div>\n",
              "<style scoped>\n",
              "    .dataframe tbody tr th:only-of-type {\n",
              "        vertical-align: middle;\n",
              "    }\n",
              "\n",
              "    .dataframe tbody tr th {\n",
              "        vertical-align: top;\n",
              "    }\n",
              "\n",
              "    .dataframe thead th {\n",
              "        text-align: right;\n",
              "    }\n",
              "</style>\n",
              "<table border=\"1\" class=\"dataframe\">\n",
              "  <thead>\n",
              "    <tr style=\"text-align: right;\">\n",
              "      <th></th>\n",
              "      <th>id</th>\n",
              "      <th>value</th>\n",
              "    </tr>\n",
              "  </thead>\n",
              "  <tbody>\n",
              "    <tr>\n",
              "      <th>9</th>\n",
              "      <td>100</td>\n",
              "      <td>30.0</td>\n",
              "    </tr>\n",
              "    <tr>\n",
              "      <th>99</th>\n",
              "      <td>1000</td>\n",
              "      <td>29.0</td>\n",
              "    </tr>\n",
              "    <tr>\n",
              "      <th>100</th>\n",
              "      <td>1010</td>\n",
              "      <td>21.0</td>\n",
              "    </tr>\n",
              "    <tr>\n",
              "      <th>102</th>\n",
              "      <td>1030</td>\n",
              "      <td>26.0</td>\n",
              "    </tr>\n",
              "    <tr>\n",
              "      <th>105</th>\n",
              "      <td>1060</td>\n",
              "      <td>26.0</td>\n",
              "    </tr>\n",
              "    <tr>\n",
              "      <th>...</th>\n",
              "      <td>...</td>\n",
              "      <td>...</td>\n",
              "    </tr>\n",
              "    <tr>\n",
              "      <th>923</th>\n",
              "      <td>9230</td>\n",
              "      <td>30.0</td>\n",
              "    </tr>\n",
              "    <tr>\n",
              "      <th>930</th>\n",
              "      <td>9300</td>\n",
              "      <td>23.0</td>\n",
              "    </tr>\n",
              "    <tr>\n",
              "      <th>932</th>\n",
              "      <td>9320</td>\n",
              "      <td>30.0</td>\n",
              "    </tr>\n",
              "    <tr>\n",
              "      <th>933</th>\n",
              "      <td>9330</td>\n",
              "      <td>14.0</td>\n",
              "    </tr>\n",
              "    <tr>\n",
              "      <th>947</th>\n",
              "      <td>9470</td>\n",
              "      <td>46.0</td>\n",
              "    </tr>\n",
              "  </tbody>\n",
              "</table>\n",
              "<p>204 rows × 2 columns</p>\n",
              "</div>"
            ],
            "text/plain": [
              "       id  value\n",
              "9     100   30.0\n",
              "99   1000   29.0\n",
              "100  1010   21.0\n",
              "102  1030   26.0\n",
              "105  1060   26.0\n",
              "..    ...    ...\n",
              "923  9230   30.0\n",
              "930  9300   23.0\n",
              "932  9320   30.0\n",
              "933  9330   14.0\n",
              "947  9470   46.0\n",
              "\n",
              "[204 rows x 2 columns]"
            ]
          },
          "metadata": {},
          "execution_count": 42
        }
      ]
    },
    {
      "cell_type": "markdown",
      "metadata": {
        "id": "6YDv_AQpIxhP"
      },
      "source": [
        "28 - Display only the id, value and machine_type columns of the of those rows of myDF that their\n",
        "range is between 250 and 350 and their ‘machine_type’ is equal to ‘H’."
      ]
    },
    {
      "cell_type": "code",
      "metadata": {
        "colab": {
          "base_uri": "https://localhost:8080/",
          "height": 296
        },
        "id": "dwrRIpcwIcKW",
        "outputId": "1e171a0f-a9e7-4490-e0c6-f05cb0c64b27"
      },
      "source": [
        "myDF.loc[(myDF.range.between(250,350)) & (myDF['machine_type'] == 'H') ,['id','value','machine_type']]"
      ],
      "execution_count": 43,
      "outputs": [
        {
          "output_type": "execute_result",
          "data": {
            "text/html": [
              "<div>\n",
              "<style scoped>\n",
              "    .dataframe tbody tr th:only-of-type {\n",
              "        vertical-align: middle;\n",
              "    }\n",
              "\n",
              "    .dataframe tbody tr th {\n",
              "        vertical-align: top;\n",
              "    }\n",
              "\n",
              "    .dataframe thead th {\n",
              "        text-align: right;\n",
              "    }\n",
              "</style>\n",
              "<table border=\"1\" class=\"dataframe\">\n",
              "  <thead>\n",
              "    <tr style=\"text-align: right;\">\n",
              "      <th></th>\n",
              "      <th>id</th>\n",
              "      <th>value</th>\n",
              "      <th>machine_type</th>\n",
              "    </tr>\n",
              "  </thead>\n",
              "  <tbody>\n",
              "    <tr>\n",
              "      <th>260</th>\n",
              "      <td>2610</td>\n",
              "      <td>50.0</td>\n",
              "      <td>H</td>\n",
              "    </tr>\n",
              "    <tr>\n",
              "      <th>302</th>\n",
              "      <td>3030</td>\n",
              "      <td>14.0</td>\n",
              "      <td>H</td>\n",
              "    </tr>\n",
              "    <tr>\n",
              "      <th>438</th>\n",
              "      <td>4390</td>\n",
              "      <td>11.0</td>\n",
              "      <td>H</td>\n",
              "    </tr>\n",
              "    <tr>\n",
              "      <th>445</th>\n",
              "      <td>4460</td>\n",
              "      <td>32.0</td>\n",
              "      <td>H</td>\n",
              "    </tr>\n",
              "    <tr>\n",
              "      <th>493</th>\n",
              "      <td>4940</td>\n",
              "      <td>16.0</td>\n",
              "      <td>H</td>\n",
              "    </tr>\n",
              "    <tr>\n",
              "      <th>525</th>\n",
              "      <td>5260</td>\n",
              "      <td>32.0</td>\n",
              "      <td>H</td>\n",
              "    </tr>\n",
              "    <tr>\n",
              "      <th>611</th>\n",
              "      <td>6120</td>\n",
              "      <td>11.0</td>\n",
              "      <td>H</td>\n",
              "    </tr>\n",
              "    <tr>\n",
              "      <th>620</th>\n",
              "      <td>6210</td>\n",
              "      <td>47.0</td>\n",
              "      <td>H</td>\n",
              "    </tr>\n",
              "  </tbody>\n",
              "</table>\n",
              "</div>"
            ],
            "text/plain": [
              "       id  value machine_type\n",
              "260  2610   50.0            H\n",
              "302  3030   14.0            H\n",
              "438  4390   11.0            H\n",
              "445  4460   32.0            H\n",
              "493  4940   16.0            H\n",
              "525  5260   32.0            H\n",
              "611  6120   11.0            H\n",
              "620  6210   47.0            H"
            ]
          },
          "metadata": {},
          "execution_count": 43
        }
      ]
    },
    {
      "cell_type": "markdown",
      "metadata": {
        "id": "u5ziFaFUMEph"
      },
      "source": [
        "29 - 9. Display those rows of myDF that their ‘machine_type’ is equal to ‘H’ or ‘R’ or ‘X’. (entire\n",
        "DataFrame)"
      ]
    },
    {
      "cell_type": "code",
      "metadata": {
        "colab": {
          "base_uri": "https://localhost:8080/",
          "height": 418
        },
        "id": "_vsQejSMKbqt",
        "outputId": "4e26dfa1-03fe-48bb-bf40-17509ae82b1e"
      },
      "source": [
        "myDF[myDF['machine_type'].isin(['H','R','X'])]"
      ],
      "execution_count": 44,
      "outputs": [
        {
          "output_type": "execute_result",
          "data": {
            "text/html": [
              "<div>\n",
              "<style scoped>\n",
              "    .dataframe tbody tr th:only-of-type {\n",
              "        vertical-align: middle;\n",
              "    }\n",
              "\n",
              "    .dataframe tbody tr th {\n",
              "        vertical-align: top;\n",
              "    }\n",
              "\n",
              "    .dataframe thead th {\n",
              "        text-align: right;\n",
              "    }\n",
              "</style>\n",
              "<table border=\"1\" class=\"dataframe\">\n",
              "  <thead>\n",
              "    <tr style=\"text-align: right;\">\n",
              "      <th></th>\n",
              "      <th>id</th>\n",
              "      <th>range</th>\n",
              "      <th>value</th>\n",
              "      <th>machine_type</th>\n",
              "      <th>zip_code</th>\n",
              "    </tr>\n",
              "  </thead>\n",
              "  <tbody>\n",
              "    <tr>\n",
              "      <th>103</th>\n",
              "      <td>1040</td>\n",
              "      <td>156.0</td>\n",
              "      <td>44.0</td>\n",
              "      <td>H</td>\n",
              "      <td>JCLUXM</td>\n",
              "    </tr>\n",
              "    <tr>\n",
              "      <th>107</th>\n",
              "      <td>1080</td>\n",
              "      <td>163.0</td>\n",
              "      <td>35.0</td>\n",
              "      <td>X</td>\n",
              "      <td>RWZLSL</td>\n",
              "    </tr>\n",
              "    <tr>\n",
              "      <th>118</th>\n",
              "      <td>1190</td>\n",
              "      <td>441.0</td>\n",
              "      <td>42.0</td>\n",
              "      <td>X</td>\n",
              "      <td>VEJKRT</td>\n",
              "    </tr>\n",
              "    <tr>\n",
              "      <th>121</th>\n",
              "      <td>1220</td>\n",
              "      <td>170.0</td>\n",
              "      <td>14.0</td>\n",
              "      <td>H</td>\n",
              "      <td>UPUXVE</td>\n",
              "    </tr>\n",
              "    <tr>\n",
              "      <th>123</th>\n",
              "      <td>1240</td>\n",
              "      <td>415.0</td>\n",
              "      <td>32.0</td>\n",
              "      <td>H</td>\n",
              "      <td>QKMJLO</td>\n",
              "    </tr>\n",
              "    <tr>\n",
              "      <th>...</th>\n",
              "      <td>...</td>\n",
              "      <td>...</td>\n",
              "      <td>...</td>\n",
              "      <td>...</td>\n",
              "      <td>...</td>\n",
              "    </tr>\n",
              "    <tr>\n",
              "      <th>866</th>\n",
              "      <td>8670</td>\n",
              "      <td>321.0</td>\n",
              "      <td>14.0</td>\n",
              "      <td>R</td>\n",
              "      <td>VBMYXU</td>\n",
              "    </tr>\n",
              "    <tr>\n",
              "      <th>871</th>\n",
              "      <td>8720</td>\n",
              "      <td>104.0</td>\n",
              "      <td>49.0</td>\n",
              "      <td>H</td>\n",
              "      <td>AGKGDY</td>\n",
              "    </tr>\n",
              "    <tr>\n",
              "      <th>891</th>\n",
              "      <td>8920</td>\n",
              "      <td>170.0</td>\n",
              "      <td>46.0</td>\n",
              "      <td>H</td>\n",
              "      <td>SBQKUZ</td>\n",
              "    </tr>\n",
              "    <tr>\n",
              "      <th>895</th>\n",
              "      <td>8960</td>\n",
              "      <td>333.0</td>\n",
              "      <td>43.0</td>\n",
              "      <td>R</td>\n",
              "      <td>UPOVQP</td>\n",
              "    </tr>\n",
              "    <tr>\n",
              "      <th>920</th>\n",
              "      <td>9210</td>\n",
              "      <td>446.0</td>\n",
              "      <td>27.0</td>\n",
              "      <td>H</td>\n",
              "      <td>WQCBIF</td>\n",
              "    </tr>\n",
              "  </tbody>\n",
              "</table>\n",
              "<p>101 rows × 5 columns</p>\n",
              "</div>"
            ],
            "text/plain": [
              "       id  range  value machine_type zip_code\n",
              "103  1040  156.0   44.0            H   JCLUXM\n",
              "107  1080  163.0   35.0            X   RWZLSL\n",
              "118  1190  441.0   42.0            X   VEJKRT\n",
              "121  1220  170.0   14.0            H   UPUXVE\n",
              "123  1240  415.0   32.0            H   QKMJLO\n",
              "..    ...    ...    ...          ...      ...\n",
              "866  8670  321.0   14.0            R   VBMYXU\n",
              "871  8720  104.0   49.0            H   AGKGDY\n",
              "891  8920  170.0   46.0            H   SBQKUZ\n",
              "895  8960  333.0   43.0            R   UPOVQP\n",
              "920  9210  446.0   27.0            H   WQCBIF\n",
              "\n",
              "[101 rows x 5 columns]"
            ]
          },
          "metadata": {},
          "execution_count": 44
        }
      ]
    },
    {
      "cell_type": "markdown",
      "metadata": {
        "id": "Vn12Pqt4kvPP"
      },
      "source": [
        "30 - Show the myDF columns’ datatype. Display (select) only the numerical columns"
      ]
    },
    {
      "cell_type": "code",
      "metadata": {
        "id": "Dsm8R3i5MO6b",
        "colab": {
          "base_uri": "https://localhost:8080/"
        },
        "outputId": "73c17096-88b7-4b17-cb3d-e2ee8479a022"
      },
      "source": [
        "myDF.dtypes"
      ],
      "execution_count": 45,
      "outputs": [
        {
          "output_type": "execute_result",
          "data": {
            "text/plain": [
              "id               object\n",
              "range           float64\n",
              "value           float64\n",
              "machine_type     object\n",
              "zip_code         object\n",
              "dtype: object"
            ]
          },
          "metadata": {},
          "execution_count": 45
        }
      ]
    },
    {
      "cell_type": "code",
      "metadata": {
        "colab": {
          "base_uri": "https://localhost:8080/",
          "height": 418
        },
        "id": "LxSArJLqlf6g",
        "outputId": "83381091-4bb3-4787-e696-af3c9f8023d6"
      },
      "source": [
        "myDF.select_dtypes('float64')"
      ],
      "execution_count": 47,
      "outputs": [
        {
          "output_type": "execute_result",
          "data": {
            "text/html": [
              "<div>\n",
              "<style scoped>\n",
              "    .dataframe tbody tr th:only-of-type {\n",
              "        vertical-align: middle;\n",
              "    }\n",
              "\n",
              "    .dataframe tbody tr th {\n",
              "        vertical-align: top;\n",
              "    }\n",
              "\n",
              "    .dataframe thead th {\n",
              "        text-align: right;\n",
              "    }\n",
              "</style>\n",
              "<table border=\"1\" class=\"dataframe\">\n",
              "  <thead>\n",
              "    <tr style=\"text-align: right;\">\n",
              "      <th></th>\n",
              "      <th>range</th>\n",
              "      <th>value</th>\n",
              "    </tr>\n",
              "  </thead>\n",
              "  <tbody>\n",
              "    <tr>\n",
              "      <th>921</th>\n",
              "      <td>NaN</td>\n",
              "      <td>NaN</td>\n",
              "    </tr>\n",
              "    <tr>\n",
              "      <th>0</th>\n",
              "      <td>192.0</td>\n",
              "      <td>50.0</td>\n",
              "    </tr>\n",
              "    <tr>\n",
              "      <th>9</th>\n",
              "      <td>347.0</td>\n",
              "      <td>30.0</td>\n",
              "    </tr>\n",
              "    <tr>\n",
              "      <th>99</th>\n",
              "      <td>289.0</td>\n",
              "      <td>29.0</td>\n",
              "    </tr>\n",
              "    <tr>\n",
              "      <th>100</th>\n",
              "      <td>343.0</td>\n",
              "      <td>21.0</td>\n",
              "    </tr>\n",
              "    <tr>\n",
              "      <th>...</th>\n",
              "      <td>...</td>\n",
              "      <td>...</td>\n",
              "    </tr>\n",
              "    <tr>\n",
              "      <th>950</th>\n",
              "      <td>137.0</td>\n",
              "      <td>10.0</td>\n",
              "    </tr>\n",
              "    <tr>\n",
              "      <th>95</th>\n",
              "      <td>184.0</td>\n",
              "      <td>13.0</td>\n",
              "    </tr>\n",
              "    <tr>\n",
              "      <th>96</th>\n",
              "      <td>486.0</td>\n",
              "      <td>36.0</td>\n",
              "    </tr>\n",
              "    <tr>\n",
              "      <th>97</th>\n",
              "      <td>133.0</td>\n",
              "      <td>15.0</td>\n",
              "    </tr>\n",
              "    <tr>\n",
              "      <th>98</th>\n",
              "      <td>201.0</td>\n",
              "      <td>21.0</td>\n",
              "    </tr>\n",
              "  </tbody>\n",
              "</table>\n",
              "<p>949 rows × 2 columns</p>\n",
              "</div>"
            ],
            "text/plain": [
              "     range  value\n",
              "921    NaN    NaN\n",
              "0    192.0   50.0\n",
              "9    347.0   30.0\n",
              "99   289.0   29.0\n",
              "100  343.0   21.0\n",
              "..     ...    ...\n",
              "950  137.0   10.0\n",
              "95   184.0   13.0\n",
              "96   486.0   36.0\n",
              "97   133.0   15.0\n",
              "98   201.0   21.0\n",
              "\n",
              "[949 rows x 2 columns]"
            ]
          },
          "metadata": {},
          "execution_count": 47
        }
      ]
    }
  ]
}